{
 "cells": [
  {
   "cell_type": "markdown",
   "metadata": {
    "id": "bZM7WoxE_7eY"
   },
   "source": [
    "## Building Neural Network for regression using california_housing Dataset"
   ]
  },
  {
   "cell_type": "code",
   "execution_count": 1,
   "metadata": {
    "id": "ASaNCaQjAIqa"
   },
   "outputs": [],
   "source": [
    "import numpy as np\n",
    "import pandas.compat\n",
    "import pandas as pd\n",
    "%matplotlib inline\n",
    "import matplotlib as mpl\n",
    "import matplotlib.pyplot as plt "
   ]
  },
  {
   "cell_type": "code",
   "execution_count": 2,
   "metadata": {
    "id": "UBFjaN-iAM47"
   },
   "outputs": [],
   "source": [
    "import tensorflow as tf\n",
    "from tensorflow import keras"
   ]
  },
  {
   "cell_type": "code",
   "execution_count": 3,
   "metadata": {
    "colab": {
     "base_uri": "https://localhost:8080/"
    },
    "id": "XARkwqWdAO8G",
    "outputId": "7a399c34-4f37-4056-a51e-d2c8523fc1e5"
   },
   "outputs": [
    {
     "name": "stderr",
     "output_type": "stream",
     "text": [
      "Downloading Cal. housing from https://ndownloader.figshare.com/files/5976036 to /root/scikit_learn_data\n"
     ]
    }
   ],
   "source": [
    "from sklearn.datasets import fetch_california_housing\n",
    "housing=fetch_california_housing()"
   ]
  },
  {
   "cell_type": "markdown",
   "metadata": {
    "id": "K-JRiGunBWX3"
   },
   "source": [
    "### Description of Dataset"
   ]
  },
  {
   "cell_type": "code",
   "execution_count": 4,
   "metadata": {
    "colab": {
     "base_uri": "https://localhost:8080/"
    },
    "id": "pMEISCnoAaPG",
    "outputId": "0ce642ac-33f7-4fbd-9b9f-dae4aecfac0f"
   },
   "outputs": [
    {
     "name": "stdout",
     "output_type": "stream",
     "text": [
      ".. _california_housing_dataset:\n",
      "\n",
      "California Housing dataset\n",
      "--------------------------\n",
      "\n",
      "**Data Set Characteristics:**\n",
      "\n",
      "    :Number of Instances: 20640\n",
      "\n",
      "    :Number of Attributes: 8 numeric, predictive attributes and the target\n",
      "\n",
      "    :Attribute Information:\n",
      "        - MedInc        median income in block\n",
      "        - HouseAge      median house age in block\n",
      "        - AveRooms      average number of rooms\n",
      "        - AveBedrms     average number of bedrooms\n",
      "        - Population    block population\n",
      "        - AveOccup      average house occupancy\n",
      "        - Latitude      house block latitude\n",
      "        - Longitude     house block longitude\n",
      "\n",
      "    :Missing Attribute Values: None\n",
      "\n",
      "This dataset was obtained from the StatLib repository.\n",
      "http://lib.stat.cmu.edu/datasets/\n",
      "\n",
      "The target variable is the median house value for California districts.\n",
      "\n",
      "This dataset was derived from the 1990 U.S. census, using one row per census\n",
      "block group. A block group is the smallest geographical unit for which the U.S.\n",
      "Census Bureau publishes sample data (a block group typically has a population\n",
      "of 600 to 3,000 people).\n",
      "\n",
      "It can be downloaded/loaded using the\n",
      ":func:`sklearn.datasets.fetch_california_housing` function.\n",
      "\n",
      ".. topic:: References\n",
      "\n",
      "    - Pace, R. Kelley and Ronald Barry, Sparse Spatial Autoregressions,\n",
      "      Statistics and Probability Letters, 33 (1997) 291-297\n",
      "\n"
     ]
    }
   ],
   "source": [
    "print(housing.DESCR)"
   ]
  },
  {
   "cell_type": "code",
   "execution_count": 5,
   "metadata": {
    "colab": {
     "base_uri": "https://localhost:8080/"
    },
    "id": "81b7iF2_BP0G",
    "outputId": "82e20be9-5e6c-43cf-c857-1218f15599c6"
   },
   "outputs": [
    {
     "name": "stdout",
     "output_type": "stream",
     "text": [
      "['MedInc', 'HouseAge', 'AveRooms', 'AveBedrms', 'Population', 'AveOccup', 'Latitude', 'Longitude']\n"
     ]
    }
   ],
   "source": [
    "print(housing.feature_names)"
   ]
  },
  {
   "cell_type": "code",
   "execution_count": 6,
   "metadata": {
    "id": "UFMsJkHfEzel"
   },
   "outputs": [],
   "source": [
    "from sklearn.model_selection import train_test_split\n",
    "X_train,x_test,Y_train,y_test=train_test_split(housing.data,housing.target,random_state=42) # 75% and 25% split \n",
    "x_train,x_valid,y_train,y_valid=train_test_split(X_train,Y_train,random_state=42)"
   ]
  },
  {
   "cell_type": "code",
   "execution_count": 7,
   "metadata": {
    "colab": {
     "base_uri": "https://localhost:8080/"
    },
    "id": "w91sExMIFa1k",
    "outputId": "fe07bac1-bda5-436a-f9ef-d9333cdefed3"
   },
   "outputs": [
    {
     "data": {
      "text/plain": [
       "(15480, 8)"
      ]
     },
     "execution_count": 7,
     "metadata": {},
     "output_type": "execute_result"
    }
   ],
   "source": [
    "X_train.shape"
   ]
  },
  {
   "cell_type": "markdown",
   "metadata": {
    "id": "LaTSUsh6GWOX"
   },
   "source": [
    "### Standarisation of Data"
   ]
  },
  {
   "cell_type": "code",
   "execution_count": 8,
   "metadata": {
    "id": "DxkhbVIIFzpF"
   },
   "outputs": [],
   "source": [
    "from sklearn.preprocessing import StandardScaler\n",
    "scaler=StandardScaler() \n",
    "x_train=scaler.fit_transform(x_train)## Scalar is trained on traing data set only and from the learned parameter we are scaling test and valid dataset \n",
    "x_valid=scaler.transform(x_valid)\n",
    "x_test=scaler.transform(x_test)\n",
    "\n"
   ]
  },
  {
   "cell_type": "code",
   "execution_count": 9,
   "metadata": {
    "colab": {
     "base_uri": "https://localhost:8080/"
    },
    "id": "IrHRVPhiG6fi",
    "outputId": "0e1b7a8f-b392-44c6-f484-a6b209d33b70"
   },
   "outputs": [
    {
     "data": {
      "text/plain": [
       "array([-0.19397883, -1.07781319, -0.94338545,  0.01485314,  0.02073335,\n",
       "       -0.57291624,  0.92926047, -1.42215523])"
      ]
     },
     "execution_count": 9,
     "metadata": {},
     "output_type": "execute_result"
    }
   ],
   "source": [
    "x_train[0]"
   ]
  },
  {
   "cell_type": "code",
   "execution_count": 10,
   "metadata": {
    "id": "QGAeMeJXG8Ky"
   },
   "outputs": [],
   "source": [
    "np.random.seed(42)\n",
    "tf.random.set_seed(42)"
   ]
  },
  {
   "cell_type": "markdown",
   "metadata": {
    "id": "0aqh7XbzTy7x"
   },
   "source": [
    "## Compiling and creating neural network model for Regression problems"
   ]
  },
  {
   "cell_type": "code",
   "execution_count": 11,
   "metadata": {
    "id": "zJ0RhL8BTf0y"
   },
   "outputs": [],
   "source": [
    "model=keras.models.Sequential([\n",
    "              keras.layers.Dense(30,activation=\"relu\",input_shape=[8]),\n",
    "              keras.layers.Dense(30,activation=\"relu\"),\n",
    "              keras.layers.Dense(1),\n",
    "\n",
    "])"
   ]
  },
  {
   "cell_type": "code",
   "execution_count": 12,
   "metadata": {
    "colab": {
     "base_uri": "https://localhost:8080/"
    },
    "id": "aGgqqOi6Vglb",
    "outputId": "6b7cb6a4-42c3-46f5-e65f-7a79d4c4b25f"
   },
   "outputs": [
    {
     "name": "stdout",
     "output_type": "stream",
     "text": [
      "Model: \"sequential\"\n",
      "_________________________________________________________________\n",
      "Layer (type)                 Output Shape              Param #   \n",
      "=================================================================\n",
      "dense (Dense)                (None, 30)                270       \n",
      "_________________________________________________________________\n",
      "dense_1 (Dense)              (None, 30)                930       \n",
      "_________________________________________________________________\n",
      "dense_2 (Dense)              (None, 1)                 31        \n",
      "=================================================================\n",
      "Total params: 1,231\n",
      "Trainable params: 1,231\n",
      "Non-trainable params: 0\n",
      "_________________________________________________________________\n"
     ]
    }
   ],
   "source": [
    "model.summary()"
   ]
  },
  {
   "cell_type": "code",
   "execution_count": 13,
   "metadata": {
    "id": "cn788fjiVqKe"
   },
   "outputs": [],
   "source": [
    "model.compile(loss=\"mean_squared_error\",optimizer=keras.optimizers.SGD(learning_rate=1e-3),metrics=[\"mae\"])\n",
    "## mae===mean absolute error"
   ]
  },
  {
   "cell_type": "code",
   "execution_count": 14,
   "metadata": {
    "colab": {
     "base_uri": "https://localhost:8080/"
    },
    "id": "t6WoCOjiWWcI",
    "outputId": "2d3282fc-4d87-4e44-acce-a787638a8216"
   },
   "outputs": [
    {
     "name": "stdout",
     "output_type": "stream",
     "text": [
      "Epoch 1/40\n",
      "363/363 [==============================] - 1s 2ms/step - loss: 1.8866 - mae: 0.9900 - val_loss: 0.7126 - val_mae: 0.6368\n",
      "Epoch 2/40\n",
      "363/363 [==============================] - 1s 2ms/step - loss: 0.6577 - mae: 0.6042 - val_loss: 0.6880 - val_mae: 0.5704\n",
      "Epoch 3/40\n",
      "363/363 [==============================] - 1s 2ms/step - loss: 0.5934 - mae: 0.5618 - val_loss: 0.5803 - val_mae: 0.5352\n",
      "Epoch 4/40\n",
      "363/363 [==============================] - 1s 2ms/step - loss: 0.5557 - mae: 0.5398 - val_loss: 0.5166 - val_mae: 0.5207\n",
      "Epoch 5/40\n",
      "363/363 [==============================] - 1s 1ms/step - loss: 0.5272 - mae: 0.5237 - val_loss: 0.4895 - val_mae: 0.5022\n",
      "Epoch 6/40\n",
      "363/363 [==============================] - 1s 1ms/step - loss: 0.5033 - mae: 0.5113 - val_loss: 0.4951 - val_mae: 0.4934\n",
      "Epoch 7/40\n",
      "363/363 [==============================] - 1s 2ms/step - loss: 0.4854 - mae: 0.5010 - val_loss: 0.4861 - val_mae: 0.4838\n",
      "Epoch 8/40\n",
      "363/363 [==============================] - 1s 2ms/step - loss: 0.4709 - mae: 0.4924 - val_loss: 0.4554 - val_mae: 0.4753\n",
      "Epoch 9/40\n",
      "363/363 [==============================] - 1s 1ms/step - loss: 0.4578 - mae: 0.4857 - val_loss: 0.4413 - val_mae: 0.4671\n",
      "Epoch 10/40\n",
      "363/363 [==============================] - 1s 2ms/step - loss: 0.4474 - mae: 0.4797 - val_loss: 0.4379 - val_mae: 0.4623\n",
      "Epoch 11/40\n",
      "363/363 [==============================] - 1s 2ms/step - loss: 0.4393 - mae: 0.4744 - val_loss: 0.4396 - val_mae: 0.4638\n",
      "Epoch 12/40\n",
      "363/363 [==============================] - 1s 2ms/step - loss: 0.4318 - mae: 0.4703 - val_loss: 0.4507 - val_mae: 0.4573\n",
      "Epoch 13/40\n",
      "363/363 [==============================] - 1s 2ms/step - loss: 0.4261 - mae: 0.4674 - val_loss: 0.3997 - val_mae: 0.4517\n",
      "Epoch 14/40\n",
      "363/363 [==============================] - 1s 2ms/step - loss: 0.4202 - mae: 0.4636 - val_loss: 0.3956 - val_mae: 0.4497\n",
      "Epoch 15/40\n",
      "363/363 [==============================] - 1s 1ms/step - loss: 0.4155 - mae: 0.4613 - val_loss: 0.3916 - val_mae: 0.4464\n",
      "Epoch 16/40\n",
      "363/363 [==============================] - 1s 2ms/step - loss: 0.4112 - mae: 0.4591 - val_loss: 0.3937 - val_mae: 0.4445\n",
      "Epoch 17/40\n",
      "363/363 [==============================] - 1s 1ms/step - loss: 0.4077 - mae: 0.4569 - val_loss: 0.3809 - val_mae: 0.4390\n",
      "Epoch 18/40\n",
      "363/363 [==============================] - 1s 2ms/step - loss: 0.4040 - mae: 0.4545 - val_loss: 0.3793 - val_mae: 0.4368\n",
      "Epoch 19/40\n",
      "363/363 [==============================] - 1s 2ms/step - loss: 0.4004 - mae: 0.4521 - val_loss: 0.3850 - val_mae: 0.4369\n",
      "Epoch 20/40\n",
      "363/363 [==============================] - 1s 2ms/step - loss: 0.3980 - mae: 0.4508 - val_loss: 0.3809 - val_mae: 0.4368\n",
      "Epoch 21/40\n",
      "363/363 [==============================] - 1s 1ms/step - loss: 0.3949 - mae: 0.4488 - val_loss: 0.3701 - val_mae: 0.4350\n",
      "Epoch 22/40\n",
      "363/363 [==============================] - 1s 2ms/step - loss: 0.3924 - mae: 0.4474 - val_loss: 0.3781 - val_mae: 0.4358\n",
      "Epoch 23/40\n",
      "363/363 [==============================] - 1s 2ms/step - loss: 0.3898 - mae: 0.4462 - val_loss: 0.3650 - val_mae: 0.4267\n",
      "Epoch 24/40\n",
      "363/363 [==============================] - 1s 2ms/step - loss: 0.3874 - mae: 0.4438 - val_loss: 0.3655 - val_mae: 0.4271\n",
      "Epoch 25/40\n",
      "363/363 [==============================] - 1s 2ms/step - loss: 0.3851 - mae: 0.4427 - val_loss: 0.3611 - val_mae: 0.4257\n",
      "Epoch 26/40\n",
      "363/363 [==============================] - 1s 2ms/step - loss: 0.3829 - mae: 0.4412 - val_loss: 0.3626 - val_mae: 0.4256\n",
      "Epoch 27/40\n",
      "363/363 [==============================] - 1s 2ms/step - loss: 0.3809 - mae: 0.4398 - val_loss: 0.3564 - val_mae: 0.4242\n",
      "Epoch 28/40\n",
      "363/363 [==============================] - 1s 2ms/step - loss: 0.3788 - mae: 0.4382 - val_loss: 0.3579 - val_mae: 0.4259\n",
      "Epoch 29/40\n",
      "363/363 [==============================] - 1s 2ms/step - loss: 0.3769 - mae: 0.4373 - val_loss: 0.3561 - val_mae: 0.4244\n",
      "Epoch 30/40\n",
      "363/363 [==============================] - 1s 2ms/step - loss: 0.3750 - mae: 0.4359 - val_loss: 0.3548 - val_mae: 0.4214\n",
      "Epoch 31/40\n",
      "363/363 [==============================] - 1s 2ms/step - loss: 0.3730 - mae: 0.4346 - val_loss: 0.3502 - val_mae: 0.4193\n",
      "Epoch 32/40\n",
      "363/363 [==============================] - 1s 2ms/step - loss: 0.3714 - mae: 0.4336 - val_loss: 0.3642 - val_mae: 0.4253\n",
      "Epoch 33/40\n",
      "363/363 [==============================] - 1s 2ms/step - loss: 0.3701 - mae: 0.4330 - val_loss: 0.3468 - val_mae: 0.4182\n",
      "Epoch 34/40\n",
      "363/363 [==============================] - 1s 2ms/step - loss: 0.3685 - mae: 0.4316 - val_loss: 0.3474 - val_mae: 0.4183\n",
      "Epoch 35/40\n",
      "363/363 [==============================] - 1s 2ms/step - loss: 0.3672 - mae: 0.4307 - val_loss: 0.3624 - val_mae: 0.4218\n",
      "Epoch 36/40\n",
      "363/363 [==============================] - 1s 2ms/step - loss: 0.3660 - mae: 0.4304 - val_loss: 0.3438 - val_mae: 0.4149\n",
      "Epoch 37/40\n",
      "363/363 [==============================] - 1s 1ms/step - loss: 0.3647 - mae: 0.4289 - val_loss: 0.3611 - val_mae: 0.4193\n",
      "Epoch 38/40\n",
      "363/363 [==============================] - 1s 2ms/step - loss: 0.3636 - mae: 0.4285 - val_loss: 0.3459 - val_mae: 0.4158\n",
      "Epoch 39/40\n",
      "363/363 [==============================] - 1s 2ms/step - loss: 0.3624 - mae: 0.4279 - val_loss: 0.3492 - val_mae: 0.4150\n",
      "Epoch 40/40\n",
      "363/363 [==============================] - 1s 2ms/step - loss: 0.3613 - mae: 0.4270 - val_loss: 0.3433 - val_mae: 0.4127\n"
     ]
    }
   ],
   "source": [
    "model_history=model.fit(x_train,y_train,epochs=40,validation_data=(x_valid,y_valid))"
   ]
  },
  {
   "cell_type": "code",
   "execution_count": 15,
   "metadata": {
    "colab": {
     "base_uri": "https://localhost:8080/"
    },
    "id": "kZZdPY48ZRIG",
    "outputId": "a762e36f-2089-4453-ae67-8936eee88c8e"
   },
   "outputs": [
    {
     "data": {
      "text/plain": [
       "{'loss': [1.8866394758224487,\n",
       "  0.6577127575874329,\n",
       "  0.5934185981750488,\n",
       "  0.5557191371917725,\n",
       "  0.5271905064582825,\n",
       "  0.5032976269721985,\n",
       "  0.48535558581352234,\n",
       "  0.47091808915138245,\n",
       "  0.45779934525489807,\n",
       "  0.4474469721317291,\n",
       "  0.4393136501312256,\n",
       "  0.43176087737083435,\n",
       "  0.4260515868663788,\n",
       "  0.42017653584480286,\n",
       "  0.41549986600875854,\n",
       "  0.4111650586128235,\n",
       "  0.4077068567276001,\n",
       "  0.40395283699035645,\n",
       "  0.4004494547843933,\n",
       "  0.3979603350162506,\n",
       "  0.394916296005249,\n",
       "  0.392380952835083,\n",
       "  0.38980719447135925,\n",
       "  0.387410044670105,\n",
       "  0.38507524132728577,\n",
       "  0.38291803002357483,\n",
       "  0.3808581829071045,\n",
       "  0.3787591755390167,\n",
       "  0.3769364356994629,\n",
       "  0.37497687339782715,\n",
       "  0.3729954957962036,\n",
       "  0.3713502585887909,\n",
       "  0.37013334035873413,\n",
       "  0.36850523948669434,\n",
       "  0.3672060966491699,\n",
       "  0.36596885323524475,\n",
       "  0.36465781927108765,\n",
       "  0.36356648802757263,\n",
       "  0.3624041974544525,\n",
       "  0.36129018664360046],\n",
       " 'mae': [0.9900256991386414,\n",
       "  0.6041510701179504,\n",
       "  0.5618005990982056,\n",
       "  0.5398454070091248,\n",
       "  0.5237294435501099,\n",
       "  0.5112562775611877,\n",
       "  0.5010153651237488,\n",
       "  0.492448091506958,\n",
       "  0.4857262372970581,\n",
       "  0.4797375202178955,\n",
       "  0.4744163453578949,\n",
       "  0.4703480303287506,\n",
       "  0.46740880608558655,\n",
       "  0.46360209584236145,\n",
       "  0.4612663984298706,\n",
       "  0.4591343402862549,\n",
       "  0.4568699896335602,\n",
       "  0.45453643798828125,\n",
       "  0.4521065056324005,\n",
       "  0.45083147287368774,\n",
       "  0.4488178491592407,\n",
       "  0.4474424421787262,\n",
       "  0.4462001621723175,\n",
       "  0.4437682628631592,\n",
       "  0.4427269995212555,\n",
       "  0.4411567747592926,\n",
       "  0.43981388211250305,\n",
       "  0.4382499158382416,\n",
       "  0.4372561573982239,\n",
       "  0.4359183609485626,\n",
       "  0.43464893102645874,\n",
       "  0.43358007073402405,\n",
       "  0.4330412447452545,\n",
       "  0.4315544366836548,\n",
       "  0.43074294924736023,\n",
       "  0.43036696314811707,\n",
       "  0.4288717210292816,\n",
       "  0.428531676530838,\n",
       "  0.42789629101753235,\n",
       "  0.42701801657676697],\n",
       " 'val_loss': [0.7126055359840393,\n",
       "  0.6880088448524475,\n",
       "  0.5803287029266357,\n",
       "  0.5166085362434387,\n",
       "  0.4895075559616089,\n",
       "  0.4950792193412781,\n",
       "  0.48612523078918457,\n",
       "  0.4553801119327545,\n",
       "  0.44133704900741577,\n",
       "  0.43786388635635376,\n",
       "  0.4396442770957947,\n",
       "  0.4506688117980957,\n",
       "  0.39972352981567383,\n",
       "  0.3955893814563751,\n",
       "  0.3915725350379944,\n",
       "  0.39368298649787903,\n",
       "  0.38094857335090637,\n",
       "  0.379347562789917,\n",
       "  0.3850174844264984,\n",
       "  0.380946546792984,\n",
       "  0.37008604407310486,\n",
       "  0.3780854344367981,\n",
       "  0.36497658491134644,\n",
       "  0.3655156195163727,\n",
       "  0.36108675599098206,\n",
       "  0.36261093616485596,\n",
       "  0.35643547773361206,\n",
       "  0.3579290509223938,\n",
       "  0.35606303811073303,\n",
       "  0.3547627925872803,\n",
       "  0.35016125440597534,\n",
       "  0.3642347753047943,\n",
       "  0.3468204736709595,\n",
       "  0.3473831117153168,\n",
       "  0.3623741567134857,\n",
       "  0.34376442432403564,\n",
       "  0.36107999086380005,\n",
       "  0.3458505868911743,\n",
       "  0.3492334187030792,\n",
       "  0.3432822525501251],\n",
       " 'val_mae': [0.6368112564086914,\n",
       "  0.5703656673431396,\n",
       "  0.5351505279541016,\n",
       "  0.5206614136695862,\n",
       "  0.5022227168083191,\n",
       "  0.4933752119541168,\n",
       "  0.4838489592075348,\n",
       "  0.4752774238586426,\n",
       "  0.46705934405326843,\n",
       "  0.46234601736068726,\n",
       "  0.4637792110443115,\n",
       "  0.4572650194168091,\n",
       "  0.45166537165641785,\n",
       "  0.4496610462665558,\n",
       "  0.4463699758052826,\n",
       "  0.4444962441921234,\n",
       "  0.43897414207458496,\n",
       "  0.43681108951568604,\n",
       "  0.4369050860404968,\n",
       "  0.43676161766052246,\n",
       "  0.4349789619445801,\n",
       "  0.4357868432998657,\n",
       "  0.42667093873023987,\n",
       "  0.4271409511566162,\n",
       "  0.4257424771785736,\n",
       "  0.42560702562332153,\n",
       "  0.4241633415222168,\n",
       "  0.4259428083896637,\n",
       "  0.42436832189559937,\n",
       "  0.421389639377594,\n",
       "  0.4193384647369385,\n",
       "  0.4252665638923645,\n",
       "  0.41821053624153137,\n",
       "  0.41832834482192993,\n",
       "  0.4217756986618042,\n",
       "  0.4148756265640259,\n",
       "  0.41928863525390625,\n",
       "  0.4157959818840027,\n",
       "  0.4150291979312897,\n",
       "  0.41273006796836853]}"
      ]
     },
     "execution_count": 15,
     "metadata": {},
     "output_type": "execute_result"
    }
   ],
   "source": [
    "model_history.history"
   ]
  },
  {
   "cell_type": "code",
   "execution_count": 16,
   "metadata": {
    "colab": {
     "base_uri": "https://localhost:8080/",
     "height": 341
    },
    "id": "ATEJHGLvZVJK",
    "outputId": "ea09a6f0-7082-45b8-945f-ecfa9ab8407b"
   },
   "outputs": [
    {
     "data": {
      "text/plain": [
       "<function matplotlib.pyplot.show>"
      ]
     },
     "execution_count": 16,
     "metadata": {},
     "output_type": "execute_result"
    },
    {
     "data": {
      "image/png": "[encoded data removed]",
      "text/plain": [
       "<Figure size 576x360 with 1 Axes>"
      ]
     },
     "metadata": {
      "needs_background": "light"
     },
     "output_type": "display_data"
    }
   ],
   "source": [
    "import pandas as pd\n",
    "pd.DataFrame(model_history.history).plot(figsize=(8,5))\n",
    "plt.grid(True)\n",
    "plt.gca().set_ylim(0,1)\n",
    "plt.show"
   ]
  },
  {
   "cell_type": "markdown",
   "metadata": {
    "id": "up9HmgFgZmnJ"
   },
   "source": [
    "### Evaluating Performance and prediction of the Model\n"
   ]
  },
  {
   "cell_type": "code",
   "execution_count": 17,
   "metadata": {
    "colab": {
     "base_uri": "https://localhost:8080/"
    },
    "id": "1puXlRjmZgUg",
    "outputId": "58e4ef02-2172-41a4-d9bf-e5312c3afcac"
   },
   "outputs": [
    {
     "name": "stdout",
     "output_type": "stream",
     "text": [
      "162/162 [==============================] - 0s 1ms/step - loss: 0.3601 - mae: 0.4246\n"
     ]
    }
   ],
   "source": [
    "mae_test=model.evaluate(x_test,y_test)"
   ]
  },
  {
   "cell_type": "code",
   "execution_count": 18,
   "metadata": {
    "id": "_H8GFFxMZuaI"
   },
   "outputs": [],
   "source": [
    "x_new=x_test[:10]  # Taking first ten datasets for evaluation and prediction\n"
   ]
  },
  {
   "cell_type": "code",
   "execution_count": 19,
   "metadata": {
    "colab": {
     "base_uri": "https://localhost:8080/"
    },
    "id": "CK4nzLLvZ9Lb",
    "outputId": "a8e26307-26b7-48aa-a36d-702caae2e81b"
   },
   "outputs": [
    {
     "name": "stdout",
     "output_type": "stream",
     "text": [
      "[[0.59]\n",
      " [1.84]\n",
      " [3.77]\n",
      " [2.63]\n",
      " [2.81]\n",
      " [1.76]\n",
      " [2.55]\n",
      " [1.57]\n",
      " [2.77]\n",
      " [4.2 ]]\n",
      "[0.477   0.458   5.00001 2.186   2.78    1.587   1.982   1.575   3.4\n",
      " 4.466  ]\n"
     ]
    }
   ],
   "source": [
    "# Calculating the probability of each class(10 classes)\n",
    "y_proba=model.predict(x_new)\n",
    "print(y_proba.round(2)) ## Predicted values\n",
    "print(y_test[:10])  ## Actual values"
   ]
  },
  {
   "cell_type": "code",
   "execution_count": 20,
   "metadata": {
    "id": "5-52JhTiaBDJ"
   },
   "outputs": [],
   "source": [
    "del model"
   ]
  },
  {
   "cell_type": "code",
   "execution_count": 21,
   "metadata": {
    "id": "zuEdukJjcfV1"
   },
   "outputs": [],
   "source": [
    "keras.backend.clear_session()"
   ]
  },
  {
   "cell_type": "markdown",
   "metadata": {
    "id": "igdYBRDKclUQ"
   },
   "source": [
    "### Functional API's\n",
    "for complex neural architecture .Possible to create wide linkage"
   ]
  },
  {
   "cell_type": "code",
   "execution_count": 22,
   "metadata": {
    "id": "Ylb3qL5zckaO"
   },
   "outputs": [],
   "source": [
    "input_=keras.layers.Input(shape=x_train.shape[1:])# We are using layers as func to next layers \n",
    "hidden1=keras.layers.Dense(30,activation=\"relu\")(input_)\n",
    "hidden2=keras.layers.Dense(30,activation=\"relu\")(hidden1)\n",
    "concat=keras.layers.concatenate([input_,hidden2])  # merging output of hidden layer2 and input layer\n",
    "output=keras.layers.Dense(1)(concat)\n",
    "model=keras.models.Model(inputs=[input_],outputs=[output])"
   ]
  },
  {
   "cell_type": "code",
   "execution_count": 23,
   "metadata": {
    "colab": {
     "base_uri": "https://localhost:8080/"
    },
    "id": "7EFNtAMkdHi2",
    "outputId": "ab45bc89-e809-4ac2-ad9f-f42a3dfc2bc4"
   },
   "outputs": [
    {
     "name": "stdout",
     "output_type": "stream",
     "text": [
      "Model: \"model\"\n",
      "__________________________________________________________________________________________________\n",
      "Layer (type)                    Output Shape         Param #     Connected to                     \n",
      "==================================================================================================\n",
      "input_1 (InputLayer)            [(None, 8)]          0                                            \n",
      "__________________________________________________________________________________________________\n",
      "dense (Dense)                   (None, 30)           270         input_1[0][0]                    \n",
      "__________________________________________________________________________________________________\n",
      "dense_1 (Dense)                 (None, 30)           930         dense[0][0]                      \n",
      "__________________________________________________________________________________________________\n",
      "concatenate (Concatenate)       (None, 38)           0           input_1[0][0]                    \n",
      "                                                                 dense_1[0][0]                    \n",
      "__________________________________________________________________________________________________\n",
      "dense_2 (Dense)                 (None, 1)            39          concatenate[0][0]                \n",
      "==================================================================================================\n",
      "Total params: 1,239\n",
      "Trainable params: 1,239\n",
      "Non-trainable params: 0\n",
      "__________________________________________________________________________________________________\n"
     ]
    }
   ],
   "source": [
    "model.summary()"
   ]
  },
  {
   "cell_type": "code",
   "execution_count": 24,
   "metadata": {
    "id": "7J0TCRTPl5nU"
   },
   "outputs": [],
   "source": [
    "model.compile(loss=\"mean_squared_error\",optimizer=keras.optimizers.SGD(learning_rate=1e-3),metrics=[\"mae\"])\n",
    "## mae===mean absolute error"
   ]
  },
  {
   "cell_type": "code",
   "execution_count": 25,
   "metadata": {
    "colab": {
     "base_uri": "https://localhost:8080/"
    },
    "id": "SgokZuQVr-nF",
    "outputId": "18fabf92-a7f4-442c-9e71-9b2021e0c5b7"
   },
   "outputs": [
    {
     "name": "stdout",
     "output_type": "stream",
     "text": [
      "Epoch 1/80\n",
      "363/363 [==============================] - 1s 2ms/step - loss: 1.6920 - mae: 0.8893 - val_loss: 0.8798 - val_mae: 0.6026\n",
      "Epoch 2/80\n",
      "363/363 [==============================] - 1s 2ms/step - loss: 0.6836 - mae: 0.5994 - val_loss: 0.6420 - val_mae: 0.5764\n",
      "Epoch 3/80\n",
      "363/363 [==============================] - 1s 2ms/step - loss: 0.6265 - mae: 0.5775 - val_loss: 0.5891 - val_mae: 0.5503\n",
      "Epoch 4/80\n",
      "363/363 [==============================] - 1s 2ms/step - loss: 0.5877 - mae: 0.5581 - val_loss: 0.5455 - val_mae: 0.5343\n",
      "Epoch 5/80\n",
      "363/363 [==============================] - 1s 2ms/step - loss: 0.5566 - mae: 0.5421 - val_loss: 0.5409 - val_mae: 0.5202\n",
      "Epoch 6/80\n",
      "363/363 [==============================] - 1s 2ms/step - loss: 0.5312 - mae: 0.5298 - val_loss: 0.4903 - val_mae: 0.5046\n",
      "Epoch 7/80\n",
      "363/363 [==============================] - 1s 1ms/step - loss: 0.5108 - mae: 0.5186 - val_loss: 0.4728 - val_mae: 0.4962\n",
      "Epoch 8/80\n",
      "363/363 [==============================] - 1s 2ms/step - loss: 0.4952 - mae: 0.5096 - val_loss: 0.5017 - val_mae: 0.4921\n",
      "Epoch 9/80\n",
      "363/363 [==============================] - 1s 2ms/step - loss: 0.4802 - mae: 0.5025 - val_loss: 0.4511 - val_mae: 0.4811\n",
      "Epoch 10/80\n",
      "363/363 [==============================] - 1s 2ms/step - loss: 0.4685 - mae: 0.4959 - val_loss: 0.4330 - val_mae: 0.4735\n",
      "Epoch 11/80\n",
      "363/363 [==============================] - 1s 1ms/step - loss: 0.4590 - mae: 0.4897 - val_loss: 0.4991 - val_mae: 0.4778\n",
      "Epoch 12/80\n",
      "363/363 [==============================] - 1s 1ms/step - loss: 0.4502 - mae: 0.4851 - val_loss: 0.4179 - val_mae: 0.4658\n",
      "Epoch 13/80\n",
      "363/363 [==============================] - 1s 2ms/step - loss: 0.4433 - mae: 0.4811 - val_loss: 0.4409 - val_mae: 0.4658\n",
      "Epoch 14/80\n",
      "363/363 [==============================] - 1s 1ms/step - loss: 0.4363 - mae: 0.4766 - val_loss: 0.4239 - val_mae: 0.4621\n",
      "Epoch 15/80\n",
      "363/363 [==============================] - 1s 2ms/step - loss: 0.4306 - mae: 0.4736 - val_loss: 0.4480 - val_mae: 0.4601\n",
      "Epoch 16/80\n",
      "363/363 [==============================] - 1s 2ms/step - loss: 0.4253 - mae: 0.4703 - val_loss: 0.4113 - val_mae: 0.4550\n",
      "Epoch 17/80\n",
      "363/363 [==============================] - 1s 2ms/step - loss: 0.4213 - mae: 0.4676 - val_loss: 0.4454 - val_mae: 0.4538\n",
      "Epoch 18/80\n",
      "363/363 [==============================] - 1s 2ms/step - loss: 0.4168 - mae: 0.4650 - val_loss: 0.4538 - val_mae: 0.4518\n",
      "Epoch 19/80\n",
      "363/363 [==============================] - 1s 2ms/step - loss: 0.4126 - mae: 0.4616 - val_loss: 0.4084 - val_mae: 0.4477\n",
      "Epoch 20/80\n",
      "363/363 [==============================] - 1s 1ms/step - loss: 0.4096 - mae: 0.4600 - val_loss: 0.4581 - val_mae: 0.4505\n",
      "Epoch 21/80\n",
      "363/363 [==============================] - 1s 2ms/step - loss: 0.4060 - mae: 0.4573 - val_loss: 0.4267 - val_mae: 0.4487\n",
      "Epoch 22/80\n",
      "363/363 [==============================] - 1s 2ms/step - loss: 0.4029 - mae: 0.4559 - val_loss: 0.4677 - val_mae: 0.4485\n",
      "Epoch 23/80\n",
      "363/363 [==============================] - 1s 2ms/step - loss: 0.4000 - mae: 0.4542 - val_loss: 0.3940 - val_mae: 0.4390\n",
      "Epoch 24/80\n",
      "363/363 [==============================] - 1s 2ms/step - loss: 0.3972 - mae: 0.4515 - val_loss: 0.4277 - val_mae: 0.4410\n",
      "Epoch 25/80\n",
      "363/363 [==============================] - 1s 2ms/step - loss: 0.3946 - mae: 0.4502 - val_loss: 0.4414 - val_mae: 0.4412\n",
      "Epoch 26/80\n",
      "363/363 [==============================] - 1s 2ms/step - loss: 0.3925 - mae: 0.4488 - val_loss: 0.4365 - val_mae: 0.4393\n",
      "Epoch 27/80\n",
      "363/363 [==============================] - 1s 2ms/step - loss: 0.3905 - mae: 0.4472 - val_loss: 0.3854 - val_mae: 0.4354\n",
      "Epoch 28/80\n",
      "363/363 [==============================] - 1s 2ms/step - loss: 0.3885 - mae: 0.4455 - val_loss: 0.4330 - val_mae: 0.4401\n",
      "Epoch 29/80\n",
      "363/363 [==============================] - 1s 1ms/step - loss: 0.3867 - mae: 0.4448 - val_loss: 0.4135 - val_mae: 0.4373\n",
      "Epoch 30/80\n",
      "363/363 [==============================] - 1s 2ms/step - loss: 0.3848 - mae: 0.4435 - val_loss: 0.4344 - val_mae: 0.4358\n",
      "Epoch 31/80\n",
      "363/363 [==============================] - 1s 2ms/step - loss: 0.3830 - mae: 0.4420 - val_loss: 0.4016 - val_mae: 0.4332\n",
      "Epoch 32/80\n",
      "363/363 [==============================] - 1s 2ms/step - loss: 0.3816 - mae: 0.4410 - val_loss: 0.4459 - val_mae: 0.4380\n",
      "Epoch 33/80\n",
      "363/363 [==============================] - 1s 2ms/step - loss: 0.3805 - mae: 0.4408 - val_loss: 0.3867 - val_mae: 0.4319\n",
      "Epoch 34/80\n",
      "363/363 [==============================] - 1s 2ms/step - loss: 0.3787 - mae: 0.4393 - val_loss: 0.3923 - val_mae: 0.4323\n",
      "Epoch 35/80\n",
      "363/363 [==============================] - 1s 2ms/step - loss: 0.3776 - mae: 0.4383 - val_loss: 0.4512 - val_mae: 0.4358\n",
      "Epoch 36/80\n",
      "363/363 [==============================] - 1s 2ms/step - loss: 0.3763 - mae: 0.4379 - val_loss: 0.3639 - val_mae: 0.4268\n",
      "Epoch 37/80\n",
      "363/363 [==============================] - 1s 2ms/step - loss: 0.3751 - mae: 0.4365 - val_loss: 0.4068 - val_mae: 0.4309\n",
      "Epoch 38/80\n",
      "363/363 [==============================] - 1s 2ms/step - loss: 0.3741 - mae: 0.4362 - val_loss: 0.3776 - val_mae: 0.4276\n",
      "Epoch 39/80\n",
      "363/363 [==============================] - 1s 2ms/step - loss: 0.3728 - mae: 0.4352 - val_loss: 0.3774 - val_mae: 0.4266\n",
      "Epoch 40/80\n",
      "363/363 [==============================] - 1s 2ms/step - loss: 0.3716 - mae: 0.4345 - val_loss: 0.3917 - val_mae: 0.4260\n",
      "Epoch 41/80\n",
      "363/363 [==============================] - 1s 2ms/step - loss: 0.3710 - mae: 0.4335 - val_loss: 0.4056 - val_mae: 0.4283\n",
      "Epoch 42/80\n",
      "363/363 [==============================] - 1s 1ms/step - loss: 0.3703 - mae: 0.4335 - val_loss: 0.4084 - val_mae: 0.4275\n",
      "Epoch 43/80\n",
      "363/363 [==============================] - 1s 2ms/step - loss: 0.3690 - mae: 0.4321 - val_loss: 0.4129 - val_mae: 0.4271\n",
      "Epoch 44/80\n",
      "363/363 [==============================] - 1s 2ms/step - loss: 0.3680 - mae: 0.4314 - val_loss: 0.4302 - val_mae: 0.4296\n",
      "Epoch 45/80\n",
      "363/363 [==============================] - 1s 2ms/step - loss: 0.3677 - mae: 0.4317 - val_loss: 0.3713 - val_mae: 0.4226\n",
      "Epoch 46/80\n",
      "363/363 [==============================] - 1s 2ms/step - loss: 0.3664 - mae: 0.4298 - val_loss: 0.3868 - val_mae: 0.4253\n",
      "Epoch 47/80\n",
      "363/363 [==============================] - 1s 2ms/step - loss: 0.3657 - mae: 0.4303 - val_loss: 0.3763 - val_mae: 0.4221\n",
      "Epoch 48/80\n",
      "363/363 [==============================] - 1s 2ms/step - loss: 0.3648 - mae: 0.4289 - val_loss: 0.4181 - val_mae: 0.4262\n",
      "Epoch 49/80\n",
      "363/363 [==============================] - 1s 2ms/step - loss: 0.3646 - mae: 0.4290 - val_loss: 0.3607 - val_mae: 0.4219\n",
      "Epoch 50/80\n",
      "363/363 [==============================] - 1s 2ms/step - loss: 0.3633 - mae: 0.4282 - val_loss: 0.3506 - val_mae: 0.4189\n",
      "Epoch 51/80\n",
      "363/363 [==============================] - 1s 2ms/step - loss: 0.3625 - mae: 0.4271 - val_loss: 0.4003 - val_mae: 0.4253\n",
      "Epoch 52/80\n",
      "363/363 [==============================] - 1s 2ms/step - loss: 0.3619 - mae: 0.4272 - val_loss: 0.3504 - val_mae: 0.4176\n",
      "Epoch 53/80\n",
      "363/363 [==============================] - 1s 2ms/step - loss: 0.3611 - mae: 0.4263 - val_loss: 0.4272 - val_mae: 0.4235\n",
      "Epoch 54/80\n",
      "363/363 [==============================] - 1s 1ms/step - loss: 0.3606 - mae: 0.4259 - val_loss: 0.3470 - val_mae: 0.4186\n",
      "Epoch 55/80\n",
      "363/363 [==============================] - 1s 2ms/step - loss: 0.3598 - mae: 0.4258 - val_loss: 0.3646 - val_mae: 0.4183\n",
      "Epoch 56/80\n",
      "363/363 [==============================] - 1s 2ms/step - loss: 0.3590 - mae: 0.4248 - val_loss: 0.3640 - val_mae: 0.4185\n",
      "Epoch 57/80\n",
      "363/363 [==============================] - 1s 2ms/step - loss: 0.3584 - mae: 0.4246 - val_loss: 0.3477 - val_mae: 0.4157\n",
      "Epoch 58/80\n",
      "363/363 [==============================] - 1s 2ms/step - loss: 0.3576 - mae: 0.4236 - val_loss: 0.4117 - val_mae: 0.4197\n",
      "Epoch 59/80\n",
      "363/363 [==============================] - 1s 2ms/step - loss: 0.3575 - mae: 0.4237 - val_loss: 0.3816 - val_mae: 0.4192\n",
      "Epoch 60/80\n",
      "363/363 [==============================] - 1s 2ms/step - loss: 0.3567 - mae: 0.4231 - val_loss: 0.3610 - val_mae: 0.4184\n",
      "Epoch 61/80\n",
      "363/363 [==============================] - 1s 2ms/step - loss: 0.3557 - mae: 0.4223 - val_loss: 0.3888 - val_mae: 0.4229\n",
      "Epoch 62/80\n",
      "363/363 [==============================] - 1s 2ms/step - loss: 0.3556 - mae: 0.4225 - val_loss: 0.3694 - val_mae: 0.4167\n",
      "Epoch 63/80\n",
      "363/363 [==============================] - 1s 2ms/step - loss: 0.3543 - mae: 0.4214 - val_loss: 0.3630 - val_mae: 0.4180\n",
      "Epoch 64/80\n",
      "363/363 [==============================] - 1s 2ms/step - loss: 0.3544 - mae: 0.4217 - val_loss: 0.3432 - val_mae: 0.4145\n",
      "Epoch 65/80\n",
      "363/363 [==============================] - 1s 2ms/step - loss: 0.3537 - mae: 0.4213 - val_loss: 0.3550 - val_mae: 0.4143\n",
      "Epoch 66/80\n",
      "363/363 [==============================] - 1s 2ms/step - loss: 0.3530 - mae: 0.4206 - val_loss: 0.3571 - val_mae: 0.4142\n",
      "Epoch 67/80\n",
      "363/363 [==============================] - 1s 2ms/step - loss: 0.3524 - mae: 0.4202 - val_loss: 0.3724 - val_mae: 0.4162\n",
      "Epoch 68/80\n",
      "363/363 [==============================] - 1s 2ms/step - loss: 0.3520 - mae: 0.4198 - val_loss: 0.3612 - val_mae: 0.4137\n",
      "Epoch 69/80\n",
      "363/363 [==============================] - 1s 2ms/step - loss: 0.3515 - mae: 0.4189 - val_loss: 0.3507 - val_mae: 0.4146\n",
      "Epoch 70/80\n",
      "363/363 [==============================] - 1s 2ms/step - loss: 0.3506 - mae: 0.4192 - val_loss: 0.3819 - val_mae: 0.4138\n",
      "Epoch 71/80\n",
      "363/363 [==============================] - 1s 2ms/step - loss: 0.3507 - mae: 0.4188 - val_loss: 0.3771 - val_mae: 0.4150\n",
      "Epoch 72/80\n",
      "363/363 [==============================] - 1s 2ms/step - loss: 0.3500 - mae: 0.4185 - val_loss: 0.3628 - val_mae: 0.4125\n",
      "Epoch 73/80\n",
      "363/363 [==============================] - 1s 2ms/step - loss: 0.3490 - mae: 0.4179 - val_loss: 0.3357 - val_mae: 0.4089\n",
      "Epoch 74/80\n",
      "363/363 [==============================] - 1s 2ms/step - loss: 0.3492 - mae: 0.4176 - val_loss: 0.3913 - val_mae: 0.4142\n",
      "Epoch 75/80\n",
      "363/363 [==============================] - 1s 2ms/step - loss: 0.3484 - mae: 0.4168 - val_loss: 0.3896 - val_mae: 0.4159\n",
      "Epoch 76/80\n",
      "363/363 [==============================] - 1s 2ms/step - loss: 0.3481 - mae: 0.4171 - val_loss: 0.3492 - val_mae: 0.4099\n",
      "Epoch 77/80\n",
      "363/363 [==============================] - 1s 2ms/step - loss: 0.3472 - mae: 0.4159 - val_loss: 0.3890 - val_mae: 0.4151\n",
      "Epoch 78/80\n",
      "363/363 [==============================] - 1s 2ms/step - loss: 0.3469 - mae: 0.4166 - val_loss: 0.3657 - val_mae: 0.4123\n",
      "Epoch 79/80\n",
      "363/363 [==============================] - 1s 2ms/step - loss: 0.3463 - mae: 0.4157 - val_loss: 0.3639 - val_mae: 0.4115\n",
      "Epoch 80/80\n",
      "363/363 [==============================] - 1s 2ms/step - loss: 0.3458 - mae: 0.4156 - val_loss: 0.3646 - val_mae: 0.4104\n"
     ]
    }
   ],
   "source": [
    "model_history=model.fit(x_train,y_train,epochs=80,validation_data=(x_valid,y_valid))"
   ]
  },
  {
   "cell_type": "code",
   "execution_count": 26,
   "metadata": {
    "colab": {
     "base_uri": "https://localhost:8080/"
    },
    "id": "crghGcW0sRab",
    "outputId": "9c7b6b70-ce2f-4f55-df62-c9c6189409c5"
   },
   "outputs": [
    {
     "data": {
      "text/plain": [
       "{'loss': [1.6920058727264404,\n",
       "  0.6836402416229248,\n",
       "  0.626488208770752,\n",
       "  0.5877465605735779,\n",
       "  0.5565561056137085,\n",
       "  0.5311980843544006,\n",
       "  0.5107864141464233,\n",
       "  0.4951668083667755,\n",
       "  0.48022276163101196,\n",
       "  0.4684668779373169,\n",
       "  0.4589638411998749,\n",
       "  0.45022058486938477,\n",
       "  0.4432659149169922,\n",
       "  0.43632543087005615,\n",
       "  0.43062451481819153,\n",
       "  0.4253448247909546,\n",
       "  0.4212932586669922,\n",
       "  0.4168177843093872,\n",
       "  0.4126453101634979,\n",
       "  0.40958571434020996,\n",
       "  0.4059634804725647,\n",
       "  0.40294399857521057,\n",
       "  0.4000455439090729,\n",
       "  0.3971884846687317,\n",
       "  0.3946215510368347,\n",
       "  0.3924905061721802,\n",
       "  0.3904934525489807,\n",
       "  0.3884531259536743,\n",
       "  0.38671207427978516,\n",
       "  0.38484570384025574,\n",
       "  0.38295412063598633,\n",
       "  0.38158518075942993,\n",
       "  0.3805287778377533,\n",
       "  0.37870270013809204,\n",
       "  0.377562940120697,\n",
       "  0.37630170583724976,\n",
       "  0.37508344650268555,\n",
       "  0.37408918142318726,\n",
       "  0.37281879782676697,\n",
       "  0.3716459572315216,\n",
       "  0.37104251980781555,\n",
       "  0.37028491497039795,\n",
       "  0.36903753876686096,\n",
       "  0.3680493235588074,\n",
       "  0.3677307963371277,\n",
       "  0.36635422706604004,\n",
       "  0.365658700466156,\n",
       "  0.36475035548210144,\n",
       "  0.3645518720149994,\n",
       "  0.36326321959495544,\n",
       "  0.3624892830848694,\n",
       "  0.3619111478328705,\n",
       "  0.36112070083618164,\n",
       "  0.36061543226242065,\n",
       "  0.3598141670227051,\n",
       "  0.35897088050842285,\n",
       "  0.3583967983722687,\n",
       "  0.3576154112815857,\n",
       "  0.3574783504009247,\n",
       "  0.35666942596435547,\n",
       "  0.355660617351532,\n",
       "  0.35561421513557434,\n",
       "  0.35428959131240845,\n",
       "  0.3543744385242462,\n",
       "  0.3537199795246124,\n",
       "  0.35298478603363037,\n",
       "  0.35240116715431213,\n",
       "  0.3519901633262634,\n",
       "  0.35154616832733154,\n",
       "  0.3506409823894501,\n",
       "  0.3506990671157837,\n",
       "  0.3499528169631958,\n",
       "  0.3490312099456787,\n",
       "  0.34920620918273926,\n",
       "  0.3483881950378418,\n",
       "  0.34807777404785156,\n",
       "  0.34720417857170105,\n",
       "  0.3469049632549286,\n",
       "  0.3462967872619629,\n",
       "  0.3458409309387207],\n",
       " 'mae': [0.8892966508865356,\n",
       "  0.5993583798408508,\n",
       "  0.577479362487793,\n",
       "  0.558142364025116,\n",
       "  0.542133629322052,\n",
       "  0.5297517776489258,\n",
       "  0.5185921788215637,\n",
       "  0.5096290707588196,\n",
       "  0.5025359392166138,\n",
       "  0.49592795968055725,\n",
       "  0.4896959960460663,\n",
       "  0.4850703179836273,\n",
       "  0.48114877939224243,\n",
       "  0.47657036781311035,\n",
       "  0.4735844135284424,\n",
       "  0.4702606499195099,\n",
       "  0.4675999581813812,\n",
       "  0.4649639427661896,\n",
       "  0.46159058809280396,\n",
       "  0.46004417538642883,\n",
       "  0.45733100175857544,\n",
       "  0.4559226632118225,\n",
       "  0.45419758558273315,\n",
       "  0.45146194100379944,\n",
       "  0.4502381384372711,\n",
       "  0.4487718939781189,\n",
       "  0.4472378194332123,\n",
       "  0.4455063045024872,\n",
       "  0.4448150396347046,\n",
       "  0.44350185990333557,\n",
       "  0.44200798869132996,\n",
       "  0.44095367193222046,\n",
       "  0.44078633189201355,\n",
       "  0.43926265835762024,\n",
       "  0.43829038739204407,\n",
       "  0.4378664791584015,\n",
       "  0.43653467297554016,\n",
       "  0.4362221360206604,\n",
       "  0.4352187514305115,\n",
       "  0.4344877004623413,\n",
       "  0.43345504999160767,\n",
       "  0.43345212936401367,\n",
       "  0.43213728070259094,\n",
       "  0.43143051862716675,\n",
       "  0.43174394965171814,\n",
       "  0.42976489663124084,\n",
       "  0.4303133189678192,\n",
       "  0.4289470911026001,\n",
       "  0.4289717674255371,\n",
       "  0.4281557500362396,\n",
       "  0.42705368995666504,\n",
       "  0.4271667003631592,\n",
       "  0.42630767822265625,\n",
       "  0.4258631765842438,\n",
       "  0.4257596731185913,\n",
       "  0.424821674823761,\n",
       "  0.42457231879234314,\n",
       "  0.4236462712287903,\n",
       "  0.42368602752685547,\n",
       "  0.42310631275177,\n",
       "  0.4223294258117676,\n",
       "  0.42253851890563965,\n",
       "  0.4214138090610504,\n",
       "  0.42169255018234253,\n",
       "  0.42134377360343933,\n",
       "  0.42063137888908386,\n",
       "  0.4201643466949463,\n",
       "  0.41982123255729675,\n",
       "  0.4188799560070038,\n",
       "  0.4192134141921997,\n",
       "  0.418795645236969,\n",
       "  0.4185183048248291,\n",
       "  0.4179477095603943,\n",
       "  0.4175975024700165,\n",
       "  0.4168264865875244,\n",
       "  0.41711515188217163,\n",
       "  0.41589680314064026,\n",
       "  0.4165540337562561,\n",
       "  0.4157271683216095,\n",
       "  0.4156085252761841],\n",
       " 'val_loss': [0.879798412322998,\n",
       "  0.6420255303382874,\n",
       "  0.589079737663269,\n",
       "  0.54546719789505,\n",
       "  0.5408936142921448,\n",
       "  0.4903125464916229,\n",
       "  0.47283148765563965,\n",
       "  0.501725971698761,\n",
       "  0.4510645270347595,\n",
       "  0.4330177903175354,\n",
       "  0.4991108477115631,\n",
       "  0.4179282784461975,\n",
       "  0.4408893585205078,\n",
       "  0.4238838255405426,\n",
       "  0.44802555441856384,\n",
       "  0.4113348424434662,\n",
       "  0.44541579484939575,\n",
       "  0.45375221967697144,\n",
       "  0.40842995047569275,\n",
       "  0.4580708146095276,\n",
       "  0.42670390009880066,\n",
       "  0.46774914860725403,\n",
       "  0.39399126172065735,\n",
       "  0.4276650547981262,\n",
       "  0.44141992926597595,\n",
       "  0.436546266078949,\n",
       "  0.385418176651001,\n",
       "  0.4329665005207062,\n",
       "  0.4135214388370514,\n",
       "  0.43440109491348267,\n",
       "  0.4016220271587372,\n",
       "  0.4458732604980469,\n",
       "  0.3866626024246216,\n",
       "  0.3922930657863617,\n",
       "  0.4512353837490082,\n",
       "  0.3639443814754486,\n",
       "  0.4068410396575928,\n",
       "  0.3775917887687683,\n",
       "  0.37741902470588684,\n",
       "  0.3917340934276581,\n",
       "  0.4055730998516083,\n",
       "  0.40839433670043945,\n",
       "  0.4128943085670471,\n",
       "  0.4302404522895813,\n",
       "  0.3712922930717468,\n",
       "  0.3867816925048828,\n",
       "  0.37633809447288513,\n",
       "  0.4180925190448761,\n",
       "  0.3606957495212555,\n",
       "  0.3505765199661255,\n",
       "  0.4002864956855774,\n",
       "  0.350376158952713,\n",
       "  0.42716071009635925,\n",
       "  0.3470255434513092,\n",
       "  0.36457908153533936,\n",
       "  0.36401742696762085,\n",
       "  0.34773731231689453,\n",
       "  0.4117436707019806,\n",
       "  0.3815920054912567,\n",
       "  0.36099231243133545,\n",
       "  0.3887830674648285,\n",
       "  0.3694322109222412,\n",
       "  0.36301255226135254,\n",
       "  0.34319379925727844,\n",
       "  0.35495999455451965,\n",
       "  0.35711395740509033,\n",
       "  0.3724328875541687,\n",
       "  0.3612133860588074,\n",
       "  0.3506706655025482,\n",
       "  0.3819107711315155,\n",
       "  0.3770522177219391,\n",
       "  0.3628043830394745,\n",
       "  0.3356550335884094,\n",
       "  0.3912518620491028,\n",
       "  0.38961881399154663,\n",
       "  0.3492364287376404,\n",
       "  0.3889540135860443,\n",
       "  0.36574265360832214,\n",
       "  0.36388981342315674,\n",
       "  0.3646118938922882],\n",
       " 'val_mae': [0.6026318669319153,\n",
       "  0.5763723850250244,\n",
       "  0.5502772331237793,\n",
       "  0.534281313419342,\n",
       "  0.5201656818389893,\n",
       "  0.5045694708824158,\n",
       "  0.4961996078491211,\n",
       "  0.4920657277107239,\n",
       "  0.4810589849948883,\n",
       "  0.4734765291213989,\n",
       "  0.477807879447937,\n",
       "  0.4658489227294922,\n",
       "  0.4657770097255707,\n",
       "  0.4620634913444519,\n",
       "  0.46006906032562256,\n",
       "  0.4549534022808075,\n",
       "  0.453832745552063,\n",
       "  0.45184817910194397,\n",
       "  0.447709858417511,\n",
       "  0.45054298639297485,\n",
       "  0.44869187474250793,\n",
       "  0.44846779108047485,\n",
       "  0.4389907121658325,\n",
       "  0.44097667932510376,\n",
       "  0.4411579370498657,\n",
       "  0.4393341541290283,\n",
       "  0.4353789985179901,\n",
       "  0.4401054084300995,\n",
       "  0.4372848868370056,\n",
       "  0.4358246326446533,\n",
       "  0.4331955313682556,\n",
       "  0.4380006492137909,\n",
       "  0.4319463074207306,\n",
       "  0.4322590231895447,\n",
       "  0.43577754497528076,\n",
       "  0.4268395006656647,\n",
       "  0.43091338872909546,\n",
       "  0.42763498425483704,\n",
       "  0.42661216855049133,\n",
       "  0.42601633071899414,\n",
       "  0.42825520038604736,\n",
       "  0.4275359511375427,\n",
       "  0.4270729124546051,\n",
       "  0.4296317398548126,\n",
       "  0.4225965440273285,\n",
       "  0.4252828061580658,\n",
       "  0.42213279008865356,\n",
       "  0.4262377917766571,\n",
       "  0.42187589406967163,\n",
       "  0.41885173320770264,\n",
       "  0.4252501130104065,\n",
       "  0.41759079694747925,\n",
       "  0.4234548807144165,\n",
       "  0.41861414909362793,\n",
       "  0.4182555377483368,\n",
       "  0.41852685809135437,\n",
       "  0.41567498445510864,\n",
       "  0.4197215437889099,\n",
       "  0.41915565729141235,\n",
       "  0.4183887243270874,\n",
       "  0.42290550470352173,\n",
       "  0.416668564081192,\n",
       "  0.41800516843795776,\n",
       "  0.41445547342300415,\n",
       "  0.4143494963645935,\n",
       "  0.4142436981201172,\n",
       "  0.4162296652793884,\n",
       "  0.4136681854724884,\n",
       "  0.4145703613758087,\n",
       "  0.41376981139183044,\n",
       "  0.4150063097476959,\n",
       "  0.4125388264656067,\n",
       "  0.40888670086860657,\n",
       "  0.4141606390476227,\n",
       "  0.4158836305141449,\n",
       "  0.40988877415657043,\n",
       "  0.4151442050933838,\n",
       "  0.4123404622077942,\n",
       "  0.41146647930145264,\n",
       "  0.4103679955005646]}"
      ]
     },
     "execution_count": 26,
     "metadata": {},
     "output_type": "execute_result"
    }
   ],
   "source": [
    "model_history.history"
   ]
  },
  {
   "cell_type": "code",
   "execution_count": 27,
   "metadata": {
    "colab": {
     "base_uri": "https://localhost:8080/",
     "height": 0
    },
    "id": "wzhHSOu8sekv",
    "outputId": "758b60c9-fba5-4708-8a68-1956ba5916c8"
   },
   "outputs": [
    {
     "data": {
      "text/plain": [
       "<function matplotlib.pyplot.show>"
      ]
     },
     "execution_count": 27,
     "metadata": {},
     "output_type": "execute_result"
    },
    {
     "data": {
      "image/png": "[encoded data removed]",
      "text/plain": [
       "<Figure size 576x360 with 1 Axes>"
      ]
     },
     "metadata": {
      "needs_background": "light"
     },
     "output_type": "display_data"
    }
   ],
   "source": [
    "import pandas as pd\n",
    "pd.DataFrame(model_history.history).plot(figsize=(8,5))\n",
    "plt.grid(True)\n",
    "plt.gca().set_ylim(0,1)\n",
    "plt.show"
   ]
  },
  {
   "cell_type": "markdown",
   "metadata": {
    "id": "M4raAs4Ps9P6"
   },
   "source": [
    "### Evaluating Performance and prediction of the Model\n"
   ]
  },
  {
   "cell_type": "code",
   "execution_count": 28,
   "metadata": {
    "colab": {
     "base_uri": "https://localhost:8080/"
    },
    "id": "XIkmvQLjsymC",
    "outputId": "62c0de40-86bb-4167-db9b-73176e54e669"
   },
   "outputs": [
    {
     "name": "stdout",
     "output_type": "stream",
     "text": [
      "162/162 [==============================] - 0s 1ms/step - loss: 0.3453 - mae: 0.4147\n"
     ]
    }
   ],
   "source": [
    "mae_test=model.evaluate(x_test,y_test)"
   ]
  },
  {
   "cell_type": "code",
   "execution_count": 29,
   "metadata": {
    "id": "_5xyUps3tI1W"
   },
   "outputs": [],
   "source": [
    "x_new=x_test[:10]  # Taking first ten datasets for evaluation and prediction\n"
   ]
  },
  {
   "cell_type": "code",
   "execution_count": 30,
   "metadata": {
    "colab": {
     "base_uri": "https://localhost:8080/"
    },
    "id": "rzR3kBx5tN2M",
    "outputId": "5641dda8-c707-45a6-eaef-1c0d0cca0b60"
   },
   "outputs": [
    {
     "name": "stdout",
     "output_type": "stream",
     "text": [
      "[[0.72]\n",
      " [1.68]\n",
      " [4.17]\n",
      " [2.68]\n",
      " [2.96]\n",
      " [1.75]\n",
      " [2.46]\n",
      " [1.54]\n",
      " [2.76]\n",
      " [4.13]]\n",
      "[0.477   0.458   5.00001 2.186   2.78    1.587   1.982   1.575   3.4\n",
      " 4.466  ]\n"
     ]
    }
   ],
   "source": [
    "# Calculating the probability of each class(10 classes)\n",
    "y_proba=model.predict(x_new)\n",
    "print(y_proba.round(2)) ## Predicted values\n",
    "print(y_test[:10])  ## Actual values"
   ]
  },
  {
   "cell_type": "markdown",
   "metadata": {
    "id": "hlXtG-5fvBtU"
   },
   "source": [
    "## Saving and Restoring"
   ]
  },
  {
   "cell_type": "code",
   "execution_count": 31,
   "metadata": {
    "id": "weARqTChtabg"
   },
   "outputs": [],
   "source": [
    "model.save(\"my_functional_model.h5\")"
   ]
  },
  {
   "cell_type": "code",
   "execution_count": 32,
   "metadata": {
    "colab": {
     "base_uri": "https://localhost:8080/",
     "height": 35
    },
    "id": "e1_RNX1VvK2t",
    "outputId": "56400178-4f49-458e-babf-fd2393e4f8d2"
   },
   "outputs": [
    {
     "data": {
      "application/vnd.google.colaboratory.intrinsic+json": {
       "type": "string"
      },
      "text/plain": [
       "'/content'"
      ]
     },
     "execution_count": 32,
     "metadata": {},
     "output_type": "execute_result"
    }
   ],
   "source": [
    "%pwd   # %cd path --- if you want to change path of saved model"
   ]
  },
  {
   "cell_type": "code",
   "execution_count": 33,
   "metadata": {
    "id": "chGFkTaAvSsh"
   },
   "outputs": [],
   "source": [
    "del model"
   ]
  },
  {
   "cell_type": "code",
   "execution_count": 34,
   "metadata": {
    "id": "j7lxofxUveMN"
   },
   "outputs": [],
   "source": [
    "keras.backend.clear_session()"
   ]
  },
  {
   "cell_type": "code",
   "execution_count": 35,
   "metadata": {
    "id": "54P1PfhZvjLl"
   },
   "outputs": [],
   "source": [
    "model=keras.models.load_model(\"my_functional_model.h5\")"
   ]
  },
  {
   "cell_type": "code",
   "execution_count": 36,
   "metadata": {
    "colab": {
     "base_uri": "https://localhost:8080/"
    },
    "id": "O3x7xGM8vta8",
    "outputId": "0140fae4-ec5d-44d7-876d-d5a03fecd3ce"
   },
   "outputs": [
    {
     "name": "stdout",
     "output_type": "stream",
     "text": [
      "Model: \"model\"\n",
      "__________________________________________________________________________________________________\n",
      "Layer (type)                    Output Shape         Param #     Connected to                     \n",
      "==================================================================================================\n",
      "input_1 (InputLayer)            [(None, 8)]          0                                            \n",
      "__________________________________________________________________________________________________\n",
      "dense (Dense)                   (None, 30)           270         input_1[0][0]                    \n",
      "__________________________________________________________________________________________________\n",
      "dense_1 (Dense)                 (None, 30)           930         dense[0][0]                      \n",
      "__________________________________________________________________________________________________\n",
      "concatenate (Concatenate)       (None, 38)           0           input_1[0][0]                    \n",
      "                                                                 dense_1[0][0]                    \n",
      "__________________________________________________________________________________________________\n",
      "dense_2 (Dense)                 (None, 1)            39          concatenate[0][0]                \n",
      "==================================================================================================\n",
      "Total params: 1,239\n",
      "Trainable params: 1,239\n",
      "Non-trainable params: 0\n",
      "__________________________________________________________________________________________________\n"
     ]
    }
   ],
   "source": [
    "model.summary()"
   ]
  },
  {
   "cell_type": "code",
   "execution_count": 37,
   "metadata": {
    "colab": {
     "base_uri": "https://localhost:8080/"
    },
    "id": "M8SOYBCWvwfK",
    "outputId": "56be9cde-5c10-4362-bccb-31841251cb80"
   },
   "outputs": [
    {
     "name": "stdout",
     "output_type": "stream",
     "text": [
      "[[0.71822155]\n",
      " [1.6817915 ]\n",
      " [4.1707244 ]\n",
      " [2.6761103 ]\n",
      " [2.959702  ]\n",
      " [1.7546465 ]\n",
      " [2.4577527 ]\n",
      " [1.538209  ]\n",
      " [2.7606604 ]\n",
      " [4.128527  ]]\n"
     ]
    }
   ],
   "source": [
    "y_pred=model.predict(x_new)\n",
    "print(y_pred)"
   ]
  },
  {
   "cell_type": "code",
   "execution_count": 38,
   "metadata": {
    "id": "Gv7t3Temwfp7"
   },
   "outputs": [],
   "source": [
    "del model"
   ]
  },
  {
   "cell_type": "code",
   "execution_count": 39,
   "metadata": {
    "id": "_EJwEPfowuBy"
   },
   "outputs": [],
   "source": [
    "keras.backend.clear_session()"
   ]
  },
  {
   "cell_type": "markdown",
   "metadata": {
    "id": "mMa-IYAwwz_K"
   },
   "source": [
    "## Callbacks during training \n",
    "* can create checkpoints , save model after each epoch"
   ]
  },
  {
   "cell_type": "code",
   "execution_count": 40,
   "metadata": {
    "id": "WW8yBHR9wwuI"
   },
   "outputs": [],
   "source": [
    "model=keras.models.Sequential([\n",
    "              keras.layers.Dense(30,activation=\"relu\",input_shape=[8]),\n",
    "              keras.layers.Dense(30,activation=\"relu\"),\n",
    "              keras.layers.Dense(1),\n",
    "\n",
    "])"
   ]
  },
  {
   "cell_type": "code",
   "execution_count": 41,
   "metadata": {
    "id": "X9tDYOm0xo1s"
   },
   "outputs": [],
   "source": [
    "model.compile(loss=\"mean_squared_error\",optimizer=keras.optimizers.SGD(learning_rate=1e-3),metrics=[\"mae\"])\n"
   ]
  },
  {
   "cell_type": "code",
   "execution_count": 42,
   "metadata": {
    "id": "g_EBRochVeMB"
   },
   "outputs": [],
   "source": [
    "checkpoint_cb=keras.callbacks.ModelCheckpoint(\"Model-{epoch:02d}.h5\")  ## file will be saved as variable name  Model-1,Model-2 etc."
   ]
  },
  {
   "cell_type": "code",
   "execution_count": 43,
   "metadata": {
    "colab": {
     "base_uri": "https://localhost:8080/"
    },
    "id": "122xwRsYV6wN",
    "outputId": "8826c199-e0f4-4bd8-9404-c6c69b2f4655"
   },
   "outputs": [
    {
     "name": "stdout",
     "output_type": "stream",
     "text": [
      "Epoch 1/10\n",
      "363/363 [==============================] - 1s 2ms/step - loss: 2.0148 - mae: 1.0404 - val_loss: 1.4007 - val_mae: 0.7047\n",
      "Epoch 2/10\n",
      "363/363 [==============================] - 1s 2ms/step - loss: 0.7735 - mae: 0.6609 - val_loss: 1.3632 - val_mae: 0.6278\n",
      "Epoch 3/10\n",
      "363/363 [==============================] - 1s 2ms/step - loss: 0.6815 - mae: 0.6089 - val_loss: 0.8402 - val_mae: 0.5747\n",
      "Epoch 4/10\n",
      "363/363 [==============================] - 1s 2ms/step - loss: 0.6134 - mae: 0.5725 - val_loss: 0.5897 - val_mae: 0.5467\n",
      "Epoch 5/10\n",
      "363/363 [==============================] - 1s 2ms/step - loss: 0.5652 - mae: 0.5466 - val_loss: 0.5373 - val_mae: 0.5229\n",
      "Epoch 6/10\n",
      "363/363 [==============================] - 1s 2ms/step - loss: 0.5242 - mae: 0.5261 - val_loss: 0.5175 - val_mae: 0.5015\n",
      "Epoch 7/10\n",
      "363/363 [==============================] - 1s 2ms/step - loss: 0.4955 - mae: 0.5096 - val_loss: 0.4717 - val_mae: 0.4857\n",
      "Epoch 8/10\n",
      "363/363 [==============================] - 1s 2ms/step - loss: 0.4729 - mae: 0.4971 - val_loss: 0.4582 - val_mae: 0.4763\n",
      "Epoch 9/10\n",
      "363/363 [==============================] - 1s 2ms/step - loss: 0.4546 - mae: 0.4871 - val_loss: 0.4201 - val_mae: 0.4638\n",
      "Epoch 10/10\n",
      "363/363 [==============================] - 1s 2ms/step - loss: 0.4411 - mae: 0.4797 - val_loss: 0.4036 - val_mae: 0.4568\n"
     ]
    }
   ],
   "source": [
    "history=model.fit(x_train,y_train,epochs=10,validation_data=(x_valid,y_valid),callbacks=[checkpoint_cb])\n",
    "## Model could be saved at each epoch , Model will be saved in diff files"
   ]
  },
  {
   "cell_type": "code",
   "execution_count": 44,
   "metadata": {
    "id": "TX-iRqulWeRO"
   },
   "outputs": [],
   "source": [
    "del model \n",
    "keras.backend.clear_session()"
   ]
  },
  {
   "cell_type": "code",
   "execution_count": 45,
   "metadata": {
    "id": "Zc4ZP16mzZw2"
   },
   "outputs": [],
   "source": [
    "model=keras.models.load_model(\"Model-10.h5\")"
   ]
  },
  {
   "cell_type": "code",
   "execution_count": 46,
   "metadata": {
    "colab": {
     "base_uri": "https://localhost:8080/"
    },
    "id": "u4JSJUOMIP6g",
    "outputId": "0689291b-51b2-4a93-cb09-7c355110cc28"
   },
   "outputs": [
    {
     "name": "stdout",
     "output_type": "stream",
     "text": [
      "162/162 [==============================] - 0s 1ms/step - loss: 0.4343 - mae: 0.4726\n"
     ]
    }
   ],
   "source": [
    "mse_test=model.evaluate(x_test,y_test)"
   ]
  },
  {
   "cell_type": "code",
   "execution_count": 46,
   "metadata": {
    "id": "5_ULXb-iIYN7"
   },
   "outputs": [],
   "source": []
  },
  {
   "cell_type": "markdown",
   "metadata": {
    "id": "QJzh758YNGdn"
   },
   "source": [
    "### Save Best Model only"
   ]
  },
  {
   "cell_type": "code",
   "execution_count": 47,
   "metadata": {
    "id": "mgNa6Tl3NNbQ"
   },
   "outputs": [],
   "source": [
    "model=keras.models.Sequential([\n",
    "              keras.layers.Dense(30,activation=\"relu\",input_shape=[8]),\n",
    "              keras.layers.Dense(30,activation=\"relu\"),\n",
    "              keras.layers.Dense(1),\n",
    "\n",
    "])"
   ]
  },
  {
   "cell_type": "code",
   "execution_count": 48,
   "metadata": {
    "id": "v4dvgTP-NVcU"
   },
   "outputs": [],
   "source": [
    "model.compile(loss=\"mean_squared_error\",optimizer=keras.optimizers.SGD(learning_rate=1e-3),metrics=[\"mae\"])\n"
   ]
  },
  {
   "cell_type": "code",
   "execution_count": 49,
   "metadata": {
    "id": "nSoe_4DCNcss"
   },
   "outputs": [],
   "source": [
    "checkpoint_cb=keras.callbacks.ModelCheckpoint(\"Best_Model.h5\",save_best_only=True)"
   ]
  },
  {
   "cell_type": "code",
   "execution_count": 50,
   "metadata": {
    "colab": {
     "base_uri": "https://localhost:8080/"
    },
    "id": "9qysttI3Niin",
    "outputId": "fc225e7d-f879-45a1-f6de-9580e33d41e3"
   },
   "outputs": [
    {
     "name": "stdout",
     "output_type": "stream",
     "text": [
      "Epoch 1/10\n",
      "363/363 [==============================] - 1s 2ms/step - loss: 1.5112 - mae: 0.8941 - val_loss: 0.8699 - val_mae: 0.6246\n",
      "Epoch 2/10\n",
      "363/363 [==============================] - 1s 2ms/step - loss: 0.6710 - mae: 0.6074 - val_loss: 0.6277 - val_mae: 0.5795\n",
      "Epoch 3/10\n",
      "363/363 [==============================] - 1s 2ms/step - loss: 0.6166 - mae: 0.5782 - val_loss: 0.5812 - val_mae: 0.5533\n",
      "Epoch 4/10\n",
      "363/363 [==============================] - 1s 1ms/step - loss: 0.5772 - mae: 0.5582 - val_loss: 0.5454 - val_mae: 0.5374\n",
      "Epoch 5/10\n",
      "363/363 [==============================] - 1s 2ms/step - loss: 0.5462 - mae: 0.5401 - val_loss: 0.5101 - val_mae: 0.5172\n",
      "Epoch 6/10\n",
      "363/363 [==============================] - 1s 2ms/step - loss: 0.5188 - mae: 0.5261 - val_loss: 0.4870 - val_mae: 0.5035\n",
      "Epoch 7/10\n",
      "363/363 [==============================] - 1s 2ms/step - loss: 0.4975 - mae: 0.5131 - val_loss: 0.4705 - val_mae: 0.4924\n",
      "Epoch 8/10\n",
      "363/363 [==============================] - 1s 1ms/step - loss: 0.4795 - mae: 0.5037 - val_loss: 0.4448 - val_mae: 0.4803\n",
      "Epoch 9/10\n",
      "363/363 [==============================] - 1s 1ms/step - loss: 0.4640 - mae: 0.4950 - val_loss: 0.4298 - val_mae: 0.4718\n",
      "Epoch 10/10\n",
      "363/363 [==============================] - 1s 1ms/step - loss: 0.4511 - mae: 0.4879 - val_loss: 0.4183 - val_mae: 0.4639\n"
     ]
    }
   ],
   "source": [
    "history=model.fit(x_train,y_train,epochs=10,validation_data=(x_valid,y_valid),callbacks=[checkpoint_cb])\n"
   ]
  },
  {
   "cell_type": "code",
   "execution_count": 51,
   "metadata": {
    "id": "9qJ2_OskN5pA"
   },
   "outputs": [],
   "source": [
    "model=keras.models.load_model(\"Best_Model.h5\")"
   ]
  },
  {
   "cell_type": "code",
   "execution_count": 52,
   "metadata": {
    "colab": {
     "base_uri": "https://localhost:8080/"
    },
    "id": "ONJAMonlOHnO",
    "outputId": "a195cfa8-01ab-4657-b14c-2b0b3c16cddf"
   },
   "outputs": [
    {
     "name": "stdout",
     "output_type": "stream",
     "text": [
      "162/162 [==============================] - 0s 1ms/step - loss: 0.4456 - mae: 0.4788\n"
     ]
    }
   ],
   "source": [
    "m_test=model.evaluate(x_test,y_test)"
   ]
  },
  {
   "cell_type": "code",
   "execution_count": 53,
   "metadata": {
    "id": "0n1DjypbwWmp"
   },
   "outputs": [],
   "source": [
    "del model \n",
    "keras.backend.clear_session()"
   ]
  },
  {
   "cell_type": "markdown",
   "metadata": {
    "id": "cPGDUCtuv7xv"
   },
   "source": [
    "### Early Stopping :- No of epochs after which their is no improvement after which training will be stopped"
   ]
  },
  {
   "cell_type": "code",
   "execution_count": 54,
   "metadata": {
    "id": "RhxXlYC9OOON"
   },
   "outputs": [],
   "source": [
    "model=keras.models.Sequential([\n",
    "              keras.layers.Dense(30,activation=\"relu\",input_shape=[8]),\n",
    "              keras.layers.Dense(30,activation=\"relu\"),\n",
    "              keras.layers.Dense(1),\n",
    "\n",
    "])"
   ]
  },
  {
   "cell_type": "code",
   "execution_count": 55,
   "metadata": {
    "id": "C7hpEG3L046x"
   },
   "outputs": [],
   "source": [
    "model.compile(loss=\"mean_squared_error\",optimizer=keras.optimizers.SGD(learning_rate=1e-3),metrics=[\"mae\"])\n"
   ]
  },
  {
   "cell_type": "code",
   "execution_count": 56,
   "metadata": {
    "id": "1k032gO607Y2"
   },
   "outputs": [],
   "source": [
    "checkpoint_cb=keras.callbacks.ModelCheckpoint(\"Early_Stopping.h5\",save_best_only=True)"
   ]
  },
  {
   "cell_type": "code",
   "execution_count": 63,
   "metadata": {
    "id": "q7B_CM0G1Gbw"
   },
   "outputs": [],
   "source": [
    "early_stopping_cb=keras.callbacks.EarlyStopping(patience=10,restore_best_weights=True)"
   ]
  },
  {
   "cell_type": "code",
   "execution_count": 64,
   "metadata": {
    "colab": {
     "base_uri": "https://localhost:8080/"
    },
    "id": "3i_D5tvV1XQC",
    "outputId": "b56a08d0-4578-4d4f-9276-39c58b30ebd5"
   },
   "outputs": [
    {
     "name": "stdout",
     "output_type": "stream",
     "text": [
      "Epoch 1/40\n",
      "363/363 [==============================] - 1s 2ms/step - loss: 0.4235 - mae: 0.4658 - val_loss: 0.4061 - val_mae: 0.4503\n",
      "Epoch 2/40\n",
      "363/363 [==============================] - 1s 2ms/step - loss: 0.4153 - mae: 0.4599 - val_loss: 0.4209 - val_mae: 0.4522\n",
      "Epoch 3/40\n",
      "363/363 [==============================] - 1s 2ms/step - loss: 0.4089 - mae: 0.4565 - val_loss: 0.4081 - val_mae: 0.4437\n",
      "Epoch 4/40\n",
      "363/363 [==============================] - 1s 2ms/step - loss: 0.4034 - mae: 0.4528 - val_loss: 0.4042 - val_mae: 0.4448\n",
      "Epoch 5/40\n",
      "363/363 [==============================] - 1s 2ms/step - loss: 0.3994 - mae: 0.4499 - val_loss: 0.3843 - val_mae: 0.4391\n",
      "Epoch 6/40\n",
      "363/363 [==============================] - 1s 1ms/step - loss: 0.3953 - mae: 0.4476 - val_loss: 0.4106 - val_mae: 0.4389\n",
      "Epoch 7/40\n",
      "363/363 [==============================] - 1s 2ms/step - loss: 0.3924 - mae: 0.4454 - val_loss: 0.3823 - val_mae: 0.4350\n",
      "Epoch 8/40\n",
      "363/363 [==============================] - 1s 2ms/step - loss: 0.3893 - mae: 0.4436 - val_loss: 0.3759 - val_mae: 0.4331\n",
      "Epoch 9/40\n",
      "363/363 [==============================] - 1s 2ms/step - loss: 0.3866 - mae: 0.4422 - val_loss: 0.3942 - val_mae: 0.4326\n",
      "Epoch 10/40\n",
      "363/363 [==============================] - 1s 2ms/step - loss: 0.3841 - mae: 0.4401 - val_loss: 0.4085 - val_mae: 0.4325\n",
      "Epoch 11/40\n",
      "363/363 [==============================] - 1s 1ms/step - loss: 0.3819 - mae: 0.4387 - val_loss: 0.3832 - val_mae: 0.4300\n",
      "Epoch 12/40\n",
      "363/363 [==============================] - 1s 2ms/step - loss: 0.3797 - mae: 0.4372 - val_loss: 0.4419 - val_mae: 0.4327\n",
      "Epoch 13/40\n",
      "363/363 [==============================] - 1s 1ms/step - loss: 0.3779 - mae: 0.4362 - val_loss: 0.3957 - val_mae: 0.4317\n",
      "Epoch 14/40\n",
      "363/363 [==============================] - 1s 1ms/step - loss: 0.3761 - mae: 0.4347 - val_loss: 0.3859 - val_mae: 0.4298\n",
      "Epoch 15/40\n",
      "363/363 [==============================] - 1s 1ms/step - loss: 0.3745 - mae: 0.4337 - val_loss: 0.3998 - val_mae: 0.4291\n",
      "Epoch 16/40\n",
      "363/363 [==============================] - 1s 1ms/step - loss: 0.3731 - mae: 0.4332 - val_loss: 0.3852 - val_mae: 0.4273\n",
      "Epoch 17/40\n",
      "363/363 [==============================] - 1s 2ms/step - loss: 0.3716 - mae: 0.4319 - val_loss: 0.4352 - val_mae: 0.4284\n",
      "Epoch 18/40\n",
      "363/363 [==============================] - 1s 1ms/step - loss: 0.3705 - mae: 0.4310 - val_loss: 0.4225 - val_mae: 0.4267\n"
     ]
    }
   ],
   "source": [
    "history=model.fit(x_train,y_train,epochs=40,validation_data=(x_valid,y_valid),callbacks=[checkpoint_cb,early_stopping_cb])\n"
   ]
  },
  {
   "cell_type": "code",
   "execution_count": 59,
   "metadata": {
    "id": "WQeTOI2-1iKt"
   },
   "outputs": [],
   "source": [
    "model=keras.models.load_model(\"Early_Stopping.h5\")"
   ]
  },
  {
   "cell_type": "code",
   "execution_count": 60,
   "metadata": {
    "colab": {
     "base_uri": "https://localhost:8080/"
    },
    "id": "DXzaJnOW1sQM",
    "outputId": "6993bbc2-3157-4627-b8c0-ac992a5d2ec2"
   },
   "outputs": [
    {
     "name": "stdout",
     "output_type": "stream",
     "text": [
      "162/162 [==============================] - 0s 1ms/step - loss: 0.4190 - mae: 0.4624\n"
     ]
    }
   ],
   "source": [
    "m_test=model.evaluate(x_test,y_test)"
   ]
  },
  {
   "cell_type": "code",
   "execution_count": 61,
   "metadata": {
    "id": "J299omF41uwC"
   },
   "outputs": [],
   "source": [
    "x_new=x_test[:10]  # Taking first ten datasets for evaluation and prediction\n"
   ]
  },
  {
   "cell_type": "code",
   "execution_count": 62,
   "metadata": {
    "colab": {
     "base_uri": "https://localhost:8080/"
    },
    "id": "vEIjoAv_13zv",
    "outputId": "8035d59a-c17b-491d-956b-3d03139d3034"
   },
   "outputs": [
    {
     "name": "stdout",
     "output_type": "stream",
     "text": [
      "[[0.63]\n",
      " [1.67]\n",
      " [3.44]\n",
      " [2.42]\n",
      " [2.6 ]\n",
      " [1.89]\n",
      " [2.62]\n",
      " [1.61]\n",
      " [2.78]\n",
      " [4.12]]\n",
      "[0.477   0.458   5.00001 2.186   2.78    1.587   1.982   1.575   3.4\n",
      " 4.466  ]\n"
     ]
    }
   ],
   "source": [
    "# Calculating the probability of each class(10 classes)\n",
    "y_proba=model.predict(x_new)\n",
    "print(y_proba.round(2)) ## Predicted values\n",
    "print(y_test[:10])  ## Actual values"
   ]
  },
  {
   "cell_type": "code",
   "execution_count": null,
   "metadata": {
    "id": "96tjru5019DJ"
   },
   "outputs": [],
   "source": []
  }
 ],
 "metadata": {
  "colab": {
   "name": "Builing_Neural_Network_for_regression.ipynb",
   "provenance": []
  },
  "kernelspec": {
   "display_name": "Python 3",
   "language": "python",
   "name": "python3"
  },
  "language_info": {
   "codemirror_mode": {
    "name": "ipython",
    "version": 3
   },
   "file_extension": ".py",
   "mimetype": "text/x-python",
   "name": "python",
   "nbconvert_exporter": "python",
   "pygments_lexer": "ipython3",
   "version": "3.7.10"
  }
 },
 "nbformat": 4,
 "nbformat_minor": 1
}
