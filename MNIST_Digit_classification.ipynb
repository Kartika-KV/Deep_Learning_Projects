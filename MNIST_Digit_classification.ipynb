{
 "cells": [
  {
   "cell_type": "markdown",
   "metadata": {
    "id": "ba52MlVv7Ot2"
   },
   "source": [
    "### MNIST Digit classification using keras and tensorflow"
   ]
  },
  {
   "cell_type": "code",
   "execution_count": 1,
   "metadata": {
    "id": "YpwlsWIZ7UWI"
   },
   "outputs": [],
   "source": [
    "import numpy as np\n",
    "import pandas.compat\n",
    "import pandas as pd\n",
    "%matplotlib inline\n",
    "import matplotlib as mpl\n",
    "import matplotlib.pyplot as plt "
   ]
  },
  {
   "cell_type": "code",
   "execution_count": 2,
   "metadata": {
    "id": "PHynvzCr7We8"
   },
   "outputs": [],
   "source": [
    "import tensorflow as tf\n",
    "from tensorflow import keras"
   ]
  },
  {
   "cell_type": "markdown",
   "metadata": {
    "id": "QARNolGx7q7H"
   },
   "source": [
    "The MNIST data is a database of handwritten digits from 0 to 9. The database contains 60,000 28x28 grayscale images of the 10 digits, along with a test set of 10,000 images.We Will create an ANN model for identifying the digit from the handwritten images."
   ]
  },
  {
   "cell_type": "code",
   "execution_count": 3,
   "metadata": {
    "colab": {
     "base_uri": "https://localhost:8080/"
    },
    "id": "NHpLMp9h7ZZI",
    "outputId": "bfabb2af-22e7-473e-cf3d-8796b760eeba"
   },
   "outputs": [
    {
     "name": "stdout",
     "output_type": "stream",
     "text": [
      "Downloading data from https://storage.googleapis.com/tensorflow/tf-keras-datasets/mnist.npz\n",
      "11493376/11490434 [==============================] - 0s 0us/step\n",
      "11501568/11490434 [==============================] - 0s 0us/step\n"
     ]
    }
   ],
   "source": [
    "from keras.datasets import mnist\n",
    "mnist=keras.datasets.mnist\n",
    "(X_train,Y_train),(X_test,Y_test)=mnist.load_data()"
   ]
  },
  {
   "cell_type": "code",
   "execution_count": 4,
   "metadata": {
    "colab": {
     "base_uri": "https://localhost:8080/",
     "height": 283
    },
    "id": "xv-b5GF07ju7",
    "outputId": "79fb1255-ad64-4794-a4d3-0033b4d8e6ed"
   },
   "outputs": [
    {
     "data": {
      "text/plain": [
       "<matplotlib.image.AxesImage at 0x7f29cd799bd0>"
      ]
     },
     "execution_count": 4,
     "metadata": {},
     "output_type": "execute_result"
    },
    {
     "data": {
      "image/png": "[encoded data removed]",
      "text/plain": [
       "<Figure size 432x288 with 1 Axes>"
      ]
     },
     "metadata": {
      "needs_background": "light"
     },
     "output_type": "display_data"
    }
   ],
   "source": [
    "plt.imshow(X_train[1]) # 2nd Image"
   ]
  },
  {
   "cell_type": "code",
   "execution_count": 5,
   "metadata": {
    "colab": {
     "base_uri": "https://localhost:8080/"
    },
    "id": "NUgBwKyh71o3",
    "outputId": "8fc1e2c1-b882-4af0-a6a1-591f524b6111"
   },
   "outputs": [
    {
     "data": {
      "text/plain": [
       "0"
      ]
     },
     "execution_count": 5,
     "metadata": {},
     "output_type": "execute_result"
    }
   ],
   "source": [
    "Y_train[1] # Labels for the data present "
   ]
  },
  {
   "cell_type": "code",
   "execution_count": 7,
   "metadata": {
    "colab": {
     "base_uri": "https://localhost:8080/"
    },
    "id": "AEl54W3X745R",
    "outputId": "c90cd69f-365b-4830-d67c-eafc1e4e111f"
   },
   "outputs": [
    {
     "data": {
      "text/plain": [
       "array([[  0,   0,   0,   0,   0,   0,   0,   0,   0,   0,   0,   0,   0,\n",
       "          0,   0,   0,   0,   0,   0,   0,   0,   0,   0,   0,   0,   0,\n",
       "          0,   0],\n",
       "       [  0,   0,   0,   0,   0,   0,   0,   0,   0,   0,   0,   0,   0,\n",
       "          0,   0,   0,   0,   0,   0,   0,   0,   0,   0,   0,   0,   0,\n",
       "          0,   0],\n",
       "       [  0,   0,   0,   0,   0,   0,   0,   0,   0,   0,   0,   0,   0,\n",
       "          0,   0,   0,   0,   0,   0,   0,   0,   0,   0,   0,   0,   0,\n",
       "          0,   0],\n",
       "       [  0,   0,   0,   0,   0,   0,   0,   0,   0,   0,   0,   0,   0,\n",
       "          0,   0,   0,   0,   0,   0,   0,   0,   0,   0,   0,   0,   0,\n",
       "          0,   0],\n",
       "       [  0,   0,   0,   0,   0,   0,   0,   0,   0,   0,   0,   0,   0,\n",
       "          0,   0,  51, 159, 253, 159,  50,   0,   0,   0,   0,   0,   0,\n",
       "          0,   0],\n",
       "       [  0,   0,   0,   0,   0,   0,   0,   0,   0,   0,   0,   0,   0,\n",
       "          0,  48, 238, 252, 252, 252, 237,   0,   0,   0,   0,   0,   0,\n",
       "          0,   0],\n",
       "       [  0,   0,   0,   0,   0,   0,   0,   0,   0,   0,   0,   0,   0,\n",
       "         54, 227, 253, 252, 239, 233, 252,  57,   6,   0,   0,   0,   0,\n",
       "          0,   0],\n",
       "       [  0,   0,   0,   0,   0,   0,   0,   0,   0,   0,   0,  10,  60,\n",
       "        224, 252, 253, 252, 202,  84, 252, 253, 122,   0,   0,   0,   0,\n",
       "          0,   0],\n",
       "       [  0,   0,   0,   0,   0,   0,   0,   0,   0,   0,   0, 163, 252,\n",
       "        252, 252, 253, 252, 252,  96, 189, 253, 167,   0,   0,   0,   0,\n",
       "          0,   0],\n",
       "       [  0,   0,   0,   0,   0,   0,   0,   0,   0,   0,  51, 238, 253,\n",
       "        253, 190, 114, 253, 228,  47,  79, 255, 168,   0,   0,   0,   0,\n",
       "          0,   0],\n",
       "       [  0,   0,   0,   0,   0,   0,   0,   0,   0,  48, 238, 252, 252,\n",
       "        179,  12,  75, 121,  21,   0,   0, 253, 243,  50,   0,   0,   0,\n",
       "          0,   0],\n",
       "       [  0,   0,   0,   0,   0,   0,   0,   0,  38, 165, 253, 233, 208,\n",
       "         84,   0,   0,   0,   0,   0,   0, 253, 252, 165,   0,   0,   0,\n",
       "          0,   0],\n",
       "       [  0,   0,   0,   0,   0,   0,   0,   7, 178, 252, 240,  71,  19,\n",
       "         28,   0,   0,   0,   0,   0,   0, 253, 252, 195,   0,   0,   0,\n",
       "          0,   0],\n",
       "       [  0,   0,   0,   0,   0,   0,   0,  57, 252, 252,  63,   0,   0,\n",
       "          0,   0,   0,   0,   0,   0,   0, 253, 252, 195,   0,   0,   0,\n",
       "          0,   0],\n",
       "       [  0,   0,   0,   0,   0,   0,   0, 198, 253, 190,   0,   0,   0,\n",
       "          0,   0,   0,   0,   0,   0,   0, 255, 253, 196,   0,   0,   0,\n",
       "          0,   0],\n",
       "       [  0,   0,   0,   0,   0,   0,  76, 246, 252, 112,   0,   0,   0,\n",
       "          0,   0,   0,   0,   0,   0,   0, 253, 252, 148,   0,   0,   0,\n",
       "          0,   0],\n",
       "       [  0,   0,   0,   0,   0,   0,  85, 252, 230,  25,   0,   0,   0,\n",
       "          0,   0,   0,   0,   0,   7, 135, 253, 186,  12,   0,   0,   0,\n",
       "          0,   0],\n",
       "       [  0,   0,   0,   0,   0,   0,  85, 252, 223,   0,   0,   0,   0,\n",
       "          0,   0,   0,   0,   7, 131, 252, 225,  71,   0,   0,   0,   0,\n",
       "          0,   0],\n",
       "       [  0,   0,   0,   0,   0,   0,  85, 252, 145,   0,   0,   0,   0,\n",
       "          0,   0,   0,  48, 165, 252, 173,   0,   0,   0,   0,   0,   0,\n",
       "          0,   0],\n",
       "       [  0,   0,   0,   0,   0,   0,  86, 253, 225,   0,   0,   0,   0,\n",
       "          0,   0, 114, 238, 253, 162,   0,   0,   0,   0,   0,   0,   0,\n",
       "          0,   0],\n",
       "       [  0,   0,   0,   0,   0,   0,  85, 252, 249, 146,  48,  29,  85,\n",
       "        178, 225, 253, 223, 167,  56,   0,   0,   0,   0,   0,   0,   0,\n",
       "          0,   0],\n",
       "       [  0,   0,   0,   0,   0,   0,  85, 252, 252, 252, 229, 215, 252,\n",
       "        252, 252, 196, 130,   0,   0,   0,   0,   0,   0,   0,   0,   0,\n",
       "          0,   0],\n",
       "       [  0,   0,   0,   0,   0,   0,  28, 199, 252, 252, 253, 252, 252,\n",
       "        233, 145,   0,   0,   0,   0,   0,   0,   0,   0,   0,   0,   0,\n",
       "          0,   0],\n",
       "       [  0,   0,   0,   0,   0,   0,   0,  25, 128, 252, 253, 252, 141,\n",
       "         37,   0,   0,   0,   0,   0,   0,   0,   0,   0,   0,   0,   0,\n",
       "          0,   0],\n",
       "       [  0,   0,   0,   0,   0,   0,   0,   0,   0,   0,   0,   0,   0,\n",
       "          0,   0,   0,   0,   0,   0,   0,   0,   0,   0,   0,   0,   0,\n",
       "          0,   0],\n",
       "       [  0,   0,   0,   0,   0,   0,   0,   0,   0,   0,   0,   0,   0,\n",
       "          0,   0,   0,   0,   0,   0,   0,   0,   0,   0,   0,   0,   0,\n",
       "          0,   0],\n",
       "       [  0,   0,   0,   0,   0,   0,   0,   0,   0,   0,   0,   0,   0,\n",
       "          0,   0,   0,   0,   0,   0,   0,   0,   0,   0,   0,   0,   0,\n",
       "          0,   0],\n",
       "       [  0,   0,   0,   0,   0,   0,   0,   0,   0,   0,   0,   0,   0,\n",
       "          0,   0,   0,   0,   0,   0,   0,   0,   0,   0,   0,   0,   0,\n",
       "          0,   0]], dtype=uint8)"
      ]
     },
     "execution_count": 7,
     "metadata": {},
     "output_type": "execute_result"
    }
   ],
   "source": [
    "X_train[1]"
   ]
  },
  {
   "cell_type": "markdown",
   "metadata": {
    "id": "gPLpSYN28NZK"
   },
   "source": [
    "## Data Normalisation\n",
    "We normalise the data so that data dimensions are approximately of same scale ie bw 0 and 1"
   ]
  },
  {
   "cell_type": "code",
   "execution_count": 8,
   "metadata": {
    "id": "BEvHcwmR8Goi"
   },
   "outputs": [],
   "source": [
    "x_train_new=X_train/255.\n",
    "x_test_new=X_test/255."
   ]
  },
  {
   "cell_type": "code",
   "execution_count": 9,
   "metadata": {
    "colab": {
     "base_uri": "https://localhost:8080/"
    },
    "id": "TRs8ppf98XA1",
    "outputId": "83a2acc5-333c-4843-d2da-3551718b83fd"
   },
   "outputs": [
    {
     "data": {
      "text/plain": [
       "array([[0.        , 0.        , 0.        , 0.        , 0.        ,\n",
       "        0.        , 0.        , 0.        , 0.        , 0.        ,\n",
       "        0.        , 0.        , 0.        , 0.        , 0.        ,\n",
       "        0.        , 0.        , 0.        , 0.        , 0.        ,\n",
       "        0.        , 0.        , 0.        , 0.        , 0.        ,\n",
       "        0.        , 0.        , 0.        ],\n",
       "       [0.        , 0.        , 0.        , 0.        , 0.        ,\n",
       "        0.        , 0.        , 0.        , 0.        , 0.        ,\n",
       "        0.        , 0.        , 0.        , 0.        , 0.        ,\n",
       "        0.        , 0.        , 0.        , 0.        , 0.        ,\n",
       "        0.        , 0.        , 0.        , 0.        , 0.        ,\n",
       "        0.        , 0.        , 0.        ],\n",
       "       [0.        , 0.        , 0.        , 0.        , 0.        ,\n",
       "        0.        , 0.        , 0.        , 0.        , 0.        ,\n",
       "        0.        , 0.        , 0.        , 0.        , 0.        ,\n",
       "        0.        , 0.        , 0.        , 0.        , 0.        ,\n",
       "        0.        , 0.        , 0.        , 0.        , 0.        ,\n",
       "        0.        , 0.        , 0.        ],\n",
       "       [0.        , 0.        , 0.        , 0.        , 0.        ,\n",
       "        0.        , 0.        , 0.        , 0.        , 0.        ,\n",
       "        0.        , 0.        , 0.        , 0.        , 0.        ,\n",
       "        0.        , 0.        , 0.        , 0.        , 0.        ,\n",
       "        0.        , 0.        , 0.        , 0.        , 0.        ,\n",
       "        0.        , 0.        , 0.        ],\n",
       "       [0.        , 0.        , 0.        , 0.        , 0.        ,\n",
       "        0.        , 0.        , 0.        , 0.        , 0.        ,\n",
       "        0.        , 0.        , 0.        , 0.        , 0.        ,\n",
       "        0.2       , 0.62352941, 0.99215686, 0.62352941, 0.19607843,\n",
       "        0.        , 0.        , 0.        , 0.        , 0.        ,\n",
       "        0.        , 0.        , 0.        ],\n",
       "       [0.        , 0.        , 0.        , 0.        , 0.        ,\n",
       "        0.        , 0.        , 0.        , 0.        , 0.        ,\n",
       "        0.        , 0.        , 0.        , 0.        , 0.18823529,\n",
       "        0.93333333, 0.98823529, 0.98823529, 0.98823529, 0.92941176,\n",
       "        0.        , 0.        , 0.        , 0.        , 0.        ,\n",
       "        0.        , 0.        , 0.        ],\n",
       "       [0.        , 0.        , 0.        , 0.        , 0.        ,\n",
       "        0.        , 0.        , 0.        , 0.        , 0.        ,\n",
       "        0.        , 0.        , 0.        , 0.21176471, 0.89019608,\n",
       "        0.99215686, 0.98823529, 0.9372549 , 0.91372549, 0.98823529,\n",
       "        0.22352941, 0.02352941, 0.        , 0.        , 0.        ,\n",
       "        0.        , 0.        , 0.        ],\n",
       "       [0.        , 0.        , 0.        , 0.        , 0.        ,\n",
       "        0.        , 0.        , 0.        , 0.        , 0.        ,\n",
       "        0.        , 0.03921569, 0.23529412, 0.87843137, 0.98823529,\n",
       "        0.99215686, 0.98823529, 0.79215686, 0.32941176, 0.98823529,\n",
       "        0.99215686, 0.47843137, 0.        , 0.        , 0.        ,\n",
       "        0.        , 0.        , 0.        ],\n",
       "       [0.        , 0.        , 0.        , 0.        , 0.        ,\n",
       "        0.        , 0.        , 0.        , 0.        , 0.        ,\n",
       "        0.        , 0.63921569, 0.98823529, 0.98823529, 0.98823529,\n",
       "        0.99215686, 0.98823529, 0.98823529, 0.37647059, 0.74117647,\n",
       "        0.99215686, 0.65490196, 0.        , 0.        , 0.        ,\n",
       "        0.        , 0.        , 0.        ],\n",
       "       [0.        , 0.        , 0.        , 0.        , 0.        ,\n",
       "        0.        , 0.        , 0.        , 0.        , 0.        ,\n",
       "        0.2       , 0.93333333, 0.99215686, 0.99215686, 0.74509804,\n",
       "        0.44705882, 0.99215686, 0.89411765, 0.18431373, 0.30980392,\n",
       "        1.        , 0.65882353, 0.        , 0.        , 0.        ,\n",
       "        0.        , 0.        , 0.        ],\n",
       "       [0.        , 0.        , 0.        , 0.        , 0.        ,\n",
       "        0.        , 0.        , 0.        , 0.        , 0.18823529,\n",
       "        0.93333333, 0.98823529, 0.98823529, 0.70196078, 0.04705882,\n",
       "        0.29411765, 0.4745098 , 0.08235294, 0.        , 0.        ,\n",
       "        0.99215686, 0.95294118, 0.19607843, 0.        , 0.        ,\n",
       "        0.        , 0.        , 0.        ],\n",
       "       [0.        , 0.        , 0.        , 0.        , 0.        ,\n",
       "        0.        , 0.        , 0.        , 0.14901961, 0.64705882,\n",
       "        0.99215686, 0.91372549, 0.81568627, 0.32941176, 0.        ,\n",
       "        0.        , 0.        , 0.        , 0.        , 0.        ,\n",
       "        0.99215686, 0.98823529, 0.64705882, 0.        , 0.        ,\n",
       "        0.        , 0.        , 0.        ],\n",
       "       [0.        , 0.        , 0.        , 0.        , 0.        ,\n",
       "        0.        , 0.        , 0.02745098, 0.69803922, 0.98823529,\n",
       "        0.94117647, 0.27843137, 0.0745098 , 0.10980392, 0.        ,\n",
       "        0.        , 0.        , 0.        , 0.        , 0.        ,\n",
       "        0.99215686, 0.98823529, 0.76470588, 0.        , 0.        ,\n",
       "        0.        , 0.        , 0.        ],\n",
       "       [0.        , 0.        , 0.        , 0.        , 0.        ,\n",
       "        0.        , 0.        , 0.22352941, 0.98823529, 0.98823529,\n",
       "        0.24705882, 0.        , 0.        , 0.        , 0.        ,\n",
       "        0.        , 0.        , 0.        , 0.        , 0.        ,\n",
       "        0.99215686, 0.98823529, 0.76470588, 0.        , 0.        ,\n",
       "        0.        , 0.        , 0.        ],\n",
       "       [0.        , 0.        , 0.        , 0.        , 0.        ,\n",
       "        0.        , 0.        , 0.77647059, 0.99215686, 0.74509804,\n",
       "        0.        , 0.        , 0.        , 0.        , 0.        ,\n",
       "        0.        , 0.        , 0.        , 0.        , 0.        ,\n",
       "        1.        , 0.99215686, 0.76862745, 0.        , 0.        ,\n",
       "        0.        , 0.        , 0.        ],\n",
       "       [0.        , 0.        , 0.        , 0.        , 0.        ,\n",
       "        0.        , 0.29803922, 0.96470588, 0.98823529, 0.43921569,\n",
       "        0.        , 0.        , 0.        , 0.        , 0.        ,\n",
       "        0.        , 0.        , 0.        , 0.        , 0.        ,\n",
       "        0.99215686, 0.98823529, 0.58039216, 0.        , 0.        ,\n",
       "        0.        , 0.        , 0.        ],\n",
       "       [0.        , 0.        , 0.        , 0.        , 0.        ,\n",
       "        0.        , 0.33333333, 0.98823529, 0.90196078, 0.09803922,\n",
       "        0.        , 0.        , 0.        , 0.        , 0.        ,\n",
       "        0.        , 0.        , 0.        , 0.02745098, 0.52941176,\n",
       "        0.99215686, 0.72941176, 0.04705882, 0.        , 0.        ,\n",
       "        0.        , 0.        , 0.        ],\n",
       "       [0.        , 0.        , 0.        , 0.        , 0.        ,\n",
       "        0.        , 0.33333333, 0.98823529, 0.8745098 , 0.        ,\n",
       "        0.        , 0.        , 0.        , 0.        , 0.        ,\n",
       "        0.        , 0.        , 0.02745098, 0.51372549, 0.98823529,\n",
       "        0.88235294, 0.27843137, 0.        , 0.        , 0.        ,\n",
       "        0.        , 0.        , 0.        ],\n",
       "       [0.        , 0.        , 0.        , 0.        , 0.        ,\n",
       "        0.        , 0.33333333, 0.98823529, 0.56862745, 0.        ,\n",
       "        0.        , 0.        , 0.        , 0.        , 0.        ,\n",
       "        0.        , 0.18823529, 0.64705882, 0.98823529, 0.67843137,\n",
       "        0.        , 0.        , 0.        , 0.        , 0.        ,\n",
       "        0.        , 0.        , 0.        ],\n",
       "       [0.        , 0.        , 0.        , 0.        , 0.        ,\n",
       "        0.        , 0.3372549 , 0.99215686, 0.88235294, 0.        ,\n",
       "        0.        , 0.        , 0.        , 0.        , 0.        ,\n",
       "        0.44705882, 0.93333333, 0.99215686, 0.63529412, 0.        ,\n",
       "        0.        , 0.        , 0.        , 0.        , 0.        ,\n",
       "        0.        , 0.        , 0.        ],\n",
       "       [0.        , 0.        , 0.        , 0.        , 0.        ,\n",
       "        0.        , 0.33333333, 0.98823529, 0.97647059, 0.57254902,\n",
       "        0.18823529, 0.11372549, 0.33333333, 0.69803922, 0.88235294,\n",
       "        0.99215686, 0.8745098 , 0.65490196, 0.21960784, 0.        ,\n",
       "        0.        , 0.        , 0.        , 0.        , 0.        ,\n",
       "        0.        , 0.        , 0.        ],\n",
       "       [0.        , 0.        , 0.        , 0.        , 0.        ,\n",
       "        0.        , 0.33333333, 0.98823529, 0.98823529, 0.98823529,\n",
       "        0.89803922, 0.84313725, 0.98823529, 0.98823529, 0.98823529,\n",
       "        0.76862745, 0.50980392, 0.        , 0.        , 0.        ,\n",
       "        0.        , 0.        , 0.        , 0.        , 0.        ,\n",
       "        0.        , 0.        , 0.        ],\n",
       "       [0.        , 0.        , 0.        , 0.        , 0.        ,\n",
       "        0.        , 0.10980392, 0.78039216, 0.98823529, 0.98823529,\n",
       "        0.99215686, 0.98823529, 0.98823529, 0.91372549, 0.56862745,\n",
       "        0.        , 0.        , 0.        , 0.        , 0.        ,\n",
       "        0.        , 0.        , 0.        , 0.        , 0.        ,\n",
       "        0.        , 0.        , 0.        ],\n",
       "       [0.        , 0.        , 0.        , 0.        , 0.        ,\n",
       "        0.        , 0.        , 0.09803922, 0.50196078, 0.98823529,\n",
       "        0.99215686, 0.98823529, 0.55294118, 0.14509804, 0.        ,\n",
       "        0.        , 0.        , 0.        , 0.        , 0.        ,\n",
       "        0.        , 0.        , 0.        , 0.        , 0.        ,\n",
       "        0.        , 0.        , 0.        ],\n",
       "       [0.        , 0.        , 0.        , 0.        , 0.        ,\n",
       "        0.        , 0.        , 0.        , 0.        , 0.        ,\n",
       "        0.        , 0.        , 0.        , 0.        , 0.        ,\n",
       "        0.        , 0.        , 0.        , 0.        , 0.        ,\n",
       "        0.        , 0.        , 0.        , 0.        , 0.        ,\n",
       "        0.        , 0.        , 0.        ],\n",
       "       [0.        , 0.        , 0.        , 0.        , 0.        ,\n",
       "        0.        , 0.        , 0.        , 0.        , 0.        ,\n",
       "        0.        , 0.        , 0.        , 0.        , 0.        ,\n",
       "        0.        , 0.        , 0.        , 0.        , 0.        ,\n",
       "        0.        , 0.        , 0.        , 0.        , 0.        ,\n",
       "        0.        , 0.        , 0.        ],\n",
       "       [0.        , 0.        , 0.        , 0.        , 0.        ,\n",
       "        0.        , 0.        , 0.        , 0.        , 0.        ,\n",
       "        0.        , 0.        , 0.        , 0.        , 0.        ,\n",
       "        0.        , 0.        , 0.        , 0.        , 0.        ,\n",
       "        0.        , 0.        , 0.        , 0.        , 0.        ,\n",
       "        0.        , 0.        , 0.        ],\n",
       "       [0.        , 0.        , 0.        , 0.        , 0.        ,\n",
       "        0.        , 0.        , 0.        , 0.        , 0.        ,\n",
       "        0.        , 0.        , 0.        , 0.        , 0.        ,\n",
       "        0.        , 0.        , 0.        , 0.        , 0.        ,\n",
       "        0.        , 0.        , 0.        , 0.        , 0.        ,\n",
       "        0.        , 0.        , 0.        ]])"
      ]
     },
     "execution_count": 9,
     "metadata": {},
     "output_type": "execute_result"
    }
   ],
   "source": [
    "x_train_new[1]"
   ]
  },
  {
   "cell_type": "markdown",
   "metadata": {
    "id": "1Xc21AQO8jw1"
   },
   "source": [
    "### Split the dataset into training/valiadation and testing data set \n",
    "* Training data set - used to train the model\n",
    "* Valiadation data set - used for tuning hyperparameters and evaluate the models \n",
    "* Testing data set - for testing the model after intial verifications by valiadation set "
   ]
  },
  {
   "cell_type": "code",
   "execution_count": 10,
   "metadata": {
    "id": "Syv1UpSn8ZFr"
   },
   "outputs": [],
   "source": [
    "# 6000 images for validation and other for training data set \n",
    "x_valid,x_train=x_train_new[:6000],x_train_new[6000:]\n",
    "y_valid,y_train=Y_train[:6000],Y_train[6000:]\n",
    "x_test=x_test_new"
   ]
  },
  {
   "cell_type": "code",
   "execution_count": 11,
   "metadata": {
    "colab": {
     "base_uri": "https://localhost:8080/"
    },
    "id": "CL0ix5RZ8qW9",
    "outputId": "a6833ce0-efcd-4cf2-882a-89f3a87961b8"
   },
   "outputs": [
    {
     "data": {
      "text/plain": [
       "54000"
      ]
     },
     "execution_count": 11,
     "metadata": {},
     "output_type": "execute_result"
    }
   ],
   "source": [
    "len(x_train)"
   ]
  },
  {
   "cell_type": "markdown",
   "metadata": {
    "id": "pbdQdDup80Cb"
   },
   "source": [
    "* x_train,y_train - for training the model\n",
    "* x_valid,y_valid - for tuning the hyperparameters \n",
    "* X_test,Y_test - for evaluating model performance"
   ]
  },
  {
   "cell_type": "markdown",
   "metadata": {
    "id": "83PVFsb985jy"
   },
   "source": [
    "### Create Model architecture \n",
    "* Sequential -- Simple Neural Networks \n",
    "* Functional -- Complex Neural Networks"
   ]
  },
  {
   "cell_type": "code",
   "execution_count": 13,
   "metadata": {
    "id": "48AXUOF-8ssh"
   },
   "outputs": [],
   "source": [
    "model=keras.models.Sequential()\n",
    "model.add(keras.layers.Flatten(input_shape=[28,28]))\n",
    "model.add(keras.layers.Dense(200,activation=\"relu\"))# Hidden Layer Trainable Paramaters=28*28*200+200\n",
    "model.add(keras.layers.Dense(100,activation=\"relu\"))# Hidden Layer  Trainable Paramaters=200*100+100\n",
    "model.add(keras.layers.Dense(10,activation=\"softmax\"))# Multi-class Classification Trainable Paramaters=100*10+10"
   ]
  },
  {
   "cell_type": "code",
   "execution_count": 14,
   "metadata": {
    "colab": {
     "base_uri": "https://localhost:8080/"
    },
    "id": "kqArjlVT8xtd",
    "outputId": "5a6707e0-3d1c-43c6-a132-3ba765390c2a"
   },
   "outputs": [
    {
     "name": "stdout",
     "output_type": "stream",
     "text": [
      "Model: \"sequential\"\n",
      "_________________________________________________________________\n",
      "Layer (type)                 Output Shape              Param #   \n",
      "=================================================================\n",
      "flatten (Flatten)            (None, 784)               0         \n",
      "_________________________________________________________________\n",
      "dense (Dense)                (None, 200)               157000    \n",
      "_________________________________________________________________\n",
      "dense_1 (Dense)              (None, 100)               20100     \n",
      "_________________________________________________________________\n",
      "dense_2 (Dense)              (None, 10)                1010      \n",
      "=================================================================\n",
      "Total params: 178,110\n",
      "Trainable params: 178,110\n",
      "Non-trainable params: 0\n",
      "_________________________________________________________________\n"
     ]
    }
   ],
   "source": [
    "model.summary()"
   ]
  },
  {
   "cell_type": "code",
   "execution_count": 15,
   "metadata": {
    "colab": {
     "base_uri": "https://localhost:8080/",
     "height": 466
    },
    "id": "x6Wk7MDn9DYs",
    "outputId": "cd3cddc8-b92e-43b0-937a-a0474df10417"
   },
   "outputs": [
    {
     "data": {
      "image/png": "[encoded data removed]",
      "text/plain": [
       "<IPython.core.display.Image object>"
      ]
     },
     "execution_count": 15,
     "metadata": {},
     "output_type": "execute_result"
    }
   ],
   "source": [
    "import pydot\n",
    "keras.utils.plot_model(model) # Structure of the Model (Neural Network)"
   ]
  },
  {
   "cell_type": "markdown",
   "metadata": {
    "id": "qOJ7UWaL9M8P"
   },
   "source": [
    "* We can access parameters using get_weights method"
   ]
  },
  {
   "cell_type": "code",
   "execution_count": 16,
   "metadata": {
    "colab": {
     "base_uri": "https://localhost:8080/"
    },
    "id": "4cmdoq1b9I54",
    "outputId": "124a0ec7-a0c2-42bf-b75c-8f8d97fd99ba"
   },
   "outputs": [
    {
     "data": {
      "text/plain": [
       "array([[-0.0251173 ,  0.07759373,  0.04315265, ..., -0.06539932,\n",
       "         0.00312794, -0.07470035],\n",
       "       [ 0.05843128,  0.06781387, -0.03330049, ...,  0.04564246,\n",
       "         0.05310047, -0.01246399],\n",
       "       [-0.01744538, -0.05500338,  0.03287037, ..., -0.05746949,\n",
       "         0.03302298,  0.07741979],\n",
       "       ...,\n",
       "       [-0.03858506,  0.02514318, -0.00299364, ...,  0.07442065,\n",
       "        -0.06210198, -0.05811974],\n",
       "       [-0.01589511,  0.05551702,  0.07405381, ...,  0.04662888,\n",
       "         0.06091657, -0.04812129],\n",
       "       [ 0.05855507, -0.06415631, -0.02494321, ..., -0.03068598,\n",
       "         0.01546881,  0.00429977]], dtype=float32)"
      ]
     },
     "execution_count": 16,
     "metadata": {},
     "output_type": "execute_result"
    }
   ],
   "source": [
    "weights,biases=model.layers[1].get_weights()\n",
    "weights"
   ]
  },
  {
   "cell_type": "code",
   "execution_count": 17,
   "metadata": {
    "colab": {
     "base_uri": "https://localhost:8080/"
    },
    "id": "4I8kOj3Y9QVE",
    "outputId": "fa598487-5b49-4489-aa27-cbea3e4d2500"
   },
   "outputs": [
    {
     "data": {
      "text/plain": [
       "(784, 200)"
      ]
     },
     "execution_count": 17,
     "metadata": {},
     "output_type": "execute_result"
    }
   ],
   "source": [
    "weights.shape"
   ]
  },
  {
   "cell_type": "code",
   "execution_count": 18,
   "metadata": {
    "colab": {
     "base_uri": "https://localhost:8080/"
    },
    "id": "j645ICvb9TUs",
    "outputId": "0b19438d-c98e-4f7f-eae0-a2b5e7f122c5"
   },
   "outputs": [
    {
     "data": {
      "text/plain": [
       "(200,)"
      ]
     },
     "execution_count": 18,
     "metadata": {},
     "output_type": "execute_result"
    }
   ],
   "source": [
    "biases.shape"
   ]
  },
  {
   "cell_type": "markdown",
   "metadata": {
    "id": "WIdvK1OY9et_"
   },
   "source": [
    "### Compiling and training of Neural Network\n",
    "https://keras.io/api/models/"
   ]
  },
  {
   "cell_type": "code",
   "execution_count": 19,
   "metadata": {
    "id": "RHC1PR0p9Vi1"
   },
   "outputs": [],
   "source": [
    "model.compile(loss=\"sparse_categorical_crossentropy\",optimizer=\"sgd\",metrics=[\"accuracy\"])\n",
    "# loss func for multi-class classification--- sparse_categorical_crossentropy ie when we have labels in y variable\n",
    "# if we have probabilities in y variable--- categorical_crossentropy\n",
    "# For binary labels we use binary crossentropy"
   ]
  },
  {
   "cell_type": "code",
   "execution_count": 20,
   "metadata": {
    "colab": {
     "base_uri": "https://localhost:8080/"
    },
    "id": "oocMXW8_9h3F",
    "outputId": "435b67e4-99d6-468d-e0e7-b104b139a122"
   },
   "outputs": [
    {
     "name": "stdout",
     "output_type": "stream",
     "text": [
      "Epoch 1/60\n",
      "1688/1688 [==============================] - 7s 4ms/step - loss: 0.6537 - accuracy: 0.8322 - val_loss: 0.3246 - val_accuracy: 0.9082\n",
      "Epoch 2/60\n",
      "1688/1688 [==============================] - 6s 4ms/step - loss: 0.2965 - accuracy: 0.9157 - val_loss: 0.2469 - val_accuracy: 0.9325\n",
      "Epoch 3/60\n",
      "1688/1688 [==============================] - 6s 4ms/step - loss: 0.2421 - accuracy: 0.9310 - val_loss: 0.2151 - val_accuracy: 0.9398\n",
      "Epoch 4/60\n",
      "1688/1688 [==============================] - 6s 3ms/step - loss: 0.2085 - accuracy: 0.9404 - val_loss: 0.1855 - val_accuracy: 0.9468\n",
      "Epoch 5/60\n",
      "1688/1688 [==============================] - 5s 3ms/step - loss: 0.1831 - accuracy: 0.9482 - val_loss: 0.1659 - val_accuracy: 0.9550\n",
      "Epoch 6/60\n",
      "1688/1688 [==============================] - 6s 3ms/step - loss: 0.1631 - accuracy: 0.9538 - val_loss: 0.1535 - val_accuracy: 0.9572\n",
      "Epoch 7/60\n",
      "1688/1688 [==============================] - 5s 3ms/step - loss: 0.1466 - accuracy: 0.9585 - val_loss: 0.1512 - val_accuracy: 0.9557\n",
      "Epoch 8/60\n",
      "1688/1688 [==============================] - 6s 3ms/step - loss: 0.1337 - accuracy: 0.9624 - val_loss: 0.1291 - val_accuracy: 0.9643\n",
      "Epoch 9/60\n",
      "1688/1688 [==============================] - 6s 3ms/step - loss: 0.1221 - accuracy: 0.9658 - val_loss: 0.1221 - val_accuracy: 0.9655\n",
      "Epoch 10/60\n",
      "1688/1688 [==============================] - 5s 3ms/step - loss: 0.1124 - accuracy: 0.9683 - val_loss: 0.1151 - val_accuracy: 0.9678\n",
      "Epoch 11/60\n",
      "1688/1688 [==============================] - 6s 3ms/step - loss: 0.1040 - accuracy: 0.9707 - val_loss: 0.1110 - val_accuracy: 0.9698\n",
      "Epoch 12/60\n",
      "1688/1688 [==============================] - 6s 3ms/step - loss: 0.0964 - accuracy: 0.9732 - val_loss: 0.1079 - val_accuracy: 0.9702\n",
      "Epoch 13/60\n",
      "1688/1688 [==============================] - 6s 3ms/step - loss: 0.0899 - accuracy: 0.9746 - val_loss: 0.1028 - val_accuracy: 0.9717\n",
      "Epoch 14/60\n",
      "1688/1688 [==============================] - 6s 3ms/step - loss: 0.0838 - accuracy: 0.9768 - val_loss: 0.1005 - val_accuracy: 0.9703\n",
      "Epoch 15/60\n",
      "1688/1688 [==============================] - 6s 3ms/step - loss: 0.0781 - accuracy: 0.9784 - val_loss: 0.0964 - val_accuracy: 0.9730\n",
      "Epoch 16/60\n",
      "1688/1688 [==============================] - 6s 3ms/step - loss: 0.0737 - accuracy: 0.9798 - val_loss: 0.0942 - val_accuracy: 0.9725\n",
      "Epoch 17/60\n",
      "1688/1688 [==============================] - 6s 3ms/step - loss: 0.0687 - accuracy: 0.9810 - val_loss: 0.0883 - val_accuracy: 0.9743\n",
      "Epoch 18/60\n",
      "1688/1688 [==============================] - 6s 3ms/step - loss: 0.0647 - accuracy: 0.9819 - val_loss: 0.0860 - val_accuracy: 0.9762\n",
      "Epoch 19/60\n",
      "1688/1688 [==============================] - 6s 3ms/step - loss: 0.0611 - accuracy: 0.9834 - val_loss: 0.0869 - val_accuracy: 0.9748\n",
      "Epoch 20/60\n",
      "1688/1688 [==============================] - 6s 3ms/step - loss: 0.0575 - accuracy: 0.9843 - val_loss: 0.0835 - val_accuracy: 0.9757\n",
      "Epoch 21/60\n",
      "1688/1688 [==============================] - 6s 3ms/step - loss: 0.0543 - accuracy: 0.9850 - val_loss: 0.0823 - val_accuracy: 0.9742\n",
      "Epoch 22/60\n",
      "1688/1688 [==============================] - 5s 3ms/step - loss: 0.0512 - accuracy: 0.9861 - val_loss: 0.0816 - val_accuracy: 0.9755\n",
      "Epoch 23/60\n",
      "1688/1688 [==============================] - 5s 3ms/step - loss: 0.0488 - accuracy: 0.9868 - val_loss: 0.0823 - val_accuracy: 0.9763\n",
      "Epoch 24/60\n",
      "1688/1688 [==============================] - 5s 3ms/step - loss: 0.0462 - accuracy: 0.9877 - val_loss: 0.0817 - val_accuracy: 0.9762\n",
      "Epoch 25/60\n",
      "1688/1688 [==============================] - 6s 3ms/step - loss: 0.0434 - accuracy: 0.9879 - val_loss: 0.0800 - val_accuracy: 0.9757\n",
      "Epoch 26/60\n",
      "1688/1688 [==============================] - 6s 3ms/step - loss: 0.0413 - accuracy: 0.9888 - val_loss: 0.0775 - val_accuracy: 0.9763\n",
      "Epoch 27/60\n",
      "1688/1688 [==============================] - 6s 3ms/step - loss: 0.0389 - accuracy: 0.9899 - val_loss: 0.0764 - val_accuracy: 0.9763\n",
      "Epoch 28/60\n",
      "1688/1688 [==============================] - 6s 3ms/step - loss: 0.0370 - accuracy: 0.9904 - val_loss: 0.0746 - val_accuracy: 0.9778\n",
      "Epoch 29/60\n",
      "1688/1688 [==============================] - 5s 3ms/step - loss: 0.0348 - accuracy: 0.9913 - val_loss: 0.0768 - val_accuracy: 0.9765\n",
      "Epoch 30/60\n",
      "1688/1688 [==============================] - 6s 3ms/step - loss: 0.0332 - accuracy: 0.9917 - val_loss: 0.0744 - val_accuracy: 0.9775\n",
      "Epoch 31/60\n",
      "1688/1688 [==============================] - 6s 3ms/step - loss: 0.0316 - accuracy: 0.9922 - val_loss: 0.0737 - val_accuracy: 0.9770\n",
      "Epoch 32/60\n",
      "1688/1688 [==============================] - 5s 3ms/step - loss: 0.0297 - accuracy: 0.9929 - val_loss: 0.0728 - val_accuracy: 0.9773\n",
      "Epoch 33/60\n",
      "1688/1688 [==============================] - 6s 3ms/step - loss: 0.0284 - accuracy: 0.9934 - val_loss: 0.0722 - val_accuracy: 0.9788\n",
      "Epoch 34/60\n",
      "1688/1688 [==============================] - 6s 3ms/step - loss: 0.0270 - accuracy: 0.9937 - val_loss: 0.0742 - val_accuracy: 0.9778\n",
      "Epoch 35/60\n",
      "1688/1688 [==============================] - 5s 3ms/step - loss: 0.0258 - accuracy: 0.9942 - val_loss: 0.0723 - val_accuracy: 0.9787\n",
      "Epoch 36/60\n",
      "1688/1688 [==============================] - 5s 3ms/step - loss: 0.0244 - accuracy: 0.9947 - val_loss: 0.0736 - val_accuracy: 0.9765\n",
      "Epoch 37/60\n",
      "1688/1688 [==============================] - 5s 3ms/step - loss: 0.0233 - accuracy: 0.9949 - val_loss: 0.0739 - val_accuracy: 0.9785\n",
      "Epoch 38/60\n",
      "1688/1688 [==============================] - 5s 3ms/step - loss: 0.0221 - accuracy: 0.9958 - val_loss: 0.0716 - val_accuracy: 0.9790\n",
      "Epoch 39/60\n",
      "1688/1688 [==============================] - 5s 3ms/step - loss: 0.0210 - accuracy: 0.9959 - val_loss: 0.0730 - val_accuracy: 0.9770\n",
      "Epoch 40/60\n",
      "1688/1688 [==============================] - 5s 3ms/step - loss: 0.0199 - accuracy: 0.9965 - val_loss: 0.0723 - val_accuracy: 0.9788\n",
      "Epoch 41/60\n",
      "1688/1688 [==============================] - 5s 3ms/step - loss: 0.0192 - accuracy: 0.9969 - val_loss: 0.0721 - val_accuracy: 0.9780\n",
      "Epoch 42/60\n",
      "1688/1688 [==============================] - 5s 3ms/step - loss: 0.0182 - accuracy: 0.9970 - val_loss: 0.0713 - val_accuracy: 0.9793\n",
      "Epoch 43/60\n",
      "1688/1688 [==============================] - 5s 3ms/step - loss: 0.0173 - accuracy: 0.9972 - val_loss: 0.0736 - val_accuracy: 0.9775\n",
      "Epoch 44/60\n",
      "1688/1688 [==============================] - 5s 3ms/step - loss: 0.0164 - accuracy: 0.9973 - val_loss: 0.0734 - val_accuracy: 0.9787\n",
      "Epoch 45/60\n",
      "1688/1688 [==============================] - 5s 3ms/step - loss: 0.0157 - accuracy: 0.9976 - val_loss: 0.0726 - val_accuracy: 0.9778\n",
      "Epoch 46/60\n",
      "1688/1688 [==============================] - 5s 3ms/step - loss: 0.0150 - accuracy: 0.9980 - val_loss: 0.0716 - val_accuracy: 0.9795\n",
      "Epoch 47/60\n",
      "1688/1688 [==============================] - 5s 3ms/step - loss: 0.0143 - accuracy: 0.9982 - val_loss: 0.0715 - val_accuracy: 0.9792\n",
      "Epoch 48/60\n",
      "1688/1688 [==============================] - 5s 3ms/step - loss: 0.0136 - accuracy: 0.9983 - val_loss: 0.0740 - val_accuracy: 0.9770\n",
      "Epoch 49/60\n",
      "1688/1688 [==============================] - 5s 3ms/step - loss: 0.0131 - accuracy: 0.9984 - val_loss: 0.0725 - val_accuracy: 0.9792\n",
      "Epoch 50/60\n",
      "1688/1688 [==============================] - 5s 3ms/step - loss: 0.0126 - accuracy: 0.9984 - val_loss: 0.0711 - val_accuracy: 0.9787\n",
      "Epoch 51/60\n",
      "1688/1688 [==============================] - 5s 3ms/step - loss: 0.0118 - accuracy: 0.9988 - val_loss: 0.0737 - val_accuracy: 0.9783\n",
      "Epoch 52/60\n",
      "1688/1688 [==============================] - 5s 3ms/step - loss: 0.0115 - accuracy: 0.9987 - val_loss: 0.0723 - val_accuracy: 0.9782\n",
      "Epoch 53/60\n",
      "1688/1688 [==============================] - 5s 3ms/step - loss: 0.0109 - accuracy: 0.9990 - val_loss: 0.0738 - val_accuracy: 0.9787\n",
      "Epoch 54/60\n",
      "1688/1688 [==============================] - 5s 3ms/step - loss: 0.0105 - accuracy: 0.9990 - val_loss: 0.0723 - val_accuracy: 0.9797\n",
      "Epoch 55/60\n",
      "1688/1688 [==============================] - 5s 3ms/step - loss: 0.0100 - accuracy: 0.9992 - val_loss: 0.0740 - val_accuracy: 0.9778\n",
      "Epoch 56/60\n",
      "1688/1688 [==============================] - 6s 3ms/step - loss: 0.0096 - accuracy: 0.9992 - val_loss: 0.0726 - val_accuracy: 0.9792\n",
      "Epoch 57/60\n",
      "1688/1688 [==============================] - 6s 3ms/step - loss: 0.0093 - accuracy: 0.9992 - val_loss: 0.0724 - val_accuracy: 0.9785\n",
      "Epoch 58/60\n",
      "1688/1688 [==============================] - 6s 3ms/step - loss: 0.0088 - accuracy: 0.9994 - val_loss: 0.0737 - val_accuracy: 0.9787\n",
      "Epoch 59/60\n",
      "1688/1688 [==============================] - 6s 3ms/step - loss: 0.0085 - accuracy: 0.9994 - val_loss: 0.0733 - val_accuracy: 0.9793\n",
      "Epoch 60/60\n",
      "1688/1688 [==============================] - 6s 3ms/step - loss: 0.0082 - accuracy: 0.9993 - val_loss: 0.0735 - val_accuracy: 0.9783\n"
     ]
    }
   ],
   "source": [
    "model_history=model.fit(x_train,y_train,epochs=60,validation_data=(x_valid,y_valid))"
   ]
  },
  {
   "cell_type": "code",
   "execution_count": 21,
   "metadata": {
    "colab": {
     "base_uri": "https://localhost:8080/"
    },
    "id": "8NOm2J7M9k85",
    "outputId": "80192160-b491-4014-b94c-28138a6a060f"
   },
   "outputs": [
    {
     "data": {
      "text/plain": [
       "{'epochs': 60, 'steps': 1688, 'verbose': 1}"
      ]
     },
     "execution_count": 21,
     "metadata": {},
     "output_type": "execute_result"
    }
   ],
   "source": [
    "model_history.params"
   ]
  },
  {
   "cell_type": "code",
   "execution_count": 22,
   "metadata": {
    "colab": {
     "base_uri": "https://localhost:8080/"
    },
    "id": "Fkz-XiVp9n4A",
    "outputId": "7fa8f09b-b154-43a8-be9d-84ee61f3e9a1"
   },
   "outputs": [
    {
     "data": {
      "text/plain": [
       "{'accuracy': [0.8321852087974548,\n",
       "  0.9157407283782959,\n",
       "  0.930981457233429,\n",
       "  0.9404259324073792,\n",
       "  0.9482222199440002,\n",
       "  0.9538333415985107,\n",
       "  0.9584629535675049,\n",
       "  0.9624444246292114,\n",
       "  0.965833306312561,\n",
       "  0.9682777523994446,\n",
       "  0.9706851840019226,\n",
       "  0.973203718662262,\n",
       "  0.9746296405792236,\n",
       "  0.9767777919769287,\n",
       "  0.9783889055252075,\n",
       "  0.9798148274421692,\n",
       "  0.9810370206832886,\n",
       "  0.9819074273109436,\n",
       "  0.9834444522857666,\n",
       "  0.9842592477798462,\n",
       "  0.9850184917449951,\n",
       "  0.9861111044883728,\n",
       "  0.9868147969245911,\n",
       "  0.9877222180366516,\n",
       "  0.9879074096679688,\n",
       "  0.9887592792510986,\n",
       "  0.9899073839187622,\n",
       "  0.9904444217681885,\n",
       "  0.9913148283958435,\n",
       "  0.9917036890983582,\n",
       "  0.992222249507904,\n",
       "  0.9929259419441223,\n",
       "  0.9933703541755676,\n",
       "  0.9937407374382019,\n",
       "  0.994185209274292,\n",
       "  0.994685173034668,\n",
       "  0.9949259161949158,\n",
       "  0.9957592487335205,\n",
       "  0.9959074258804321,\n",
       "  0.9964814782142639,\n",
       "  0.9968888759613037,\n",
       "  0.996999979019165,\n",
       "  0.9971851706504822,\n",
       "  0.9972777962684631,\n",
       "  0.9975740909576416,\n",
       "  0.9980185031890869,\n",
       "  0.998203694820404,\n",
       "  0.9982592463493347,\n",
       "  0.9984259009361267,\n",
       "  0.9983888864517212,\n",
       "  0.9987592697143555,\n",
       "  0.9986666440963745,\n",
       "  0.9990370273590088,\n",
       "  0.9990184903144836,\n",
       "  0.9991666674613953,\n",
       "  0.9992222189903259,\n",
       "  0.9992407560348511,\n",
       "  0.9993703961372375,\n",
       "  0.9993888735771179,\n",
       "  0.9992963075637817],\n",
       " 'loss': [0.6537286639213562,\n",
       "  0.2965335249900818,\n",
       "  0.24214491248130798,\n",
       "  0.20847216248512268,\n",
       "  0.18306121230125427,\n",
       "  0.16313707828521729,\n",
       "  0.14664529263973236,\n",
       "  0.1337367594242096,\n",
       "  0.12205936014652252,\n",
       "  0.11243686079978943,\n",
       "  0.10404689610004425,\n",
       "  0.09640096873044968,\n",
       "  0.08985403925180435,\n",
       "  0.08383414894342422,\n",
       "  0.07814235240221024,\n",
       "  0.07365503162145615,\n",
       "  0.06871237605810165,\n",
       "  0.06474986672401428,\n",
       "  0.0611046627163887,\n",
       "  0.05745888128876686,\n",
       "  0.054276589304208755,\n",
       "  0.05116749927401543,\n",
       "  0.04883944243192673,\n",
       "  0.04616679251194,\n",
       "  0.043417781591415405,\n",
       "  0.04134664684534073,\n",
       "  0.038892678916454315,\n",
       "  0.0369790643453598,\n",
       "  0.034790974110364914,\n",
       "  0.033222343772649765,\n",
       "  0.03164142370223999,\n",
       "  0.029709933325648308,\n",
       "  0.028404412791132927,\n",
       "  0.0270322747528553,\n",
       "  0.02575446292757988,\n",
       "  0.02442255988717079,\n",
       "  0.023315172642469406,\n",
       "  0.022069407626986504,\n",
       "  0.021031290292739868,\n",
       "  0.019923727959394455,\n",
       "  0.019171861931681633,\n",
       "  0.01815502718091011,\n",
       "  0.01729084923863411,\n",
       "  0.016404740512371063,\n",
       "  0.01572907157242298,\n",
       "  0.015007982030510902,\n",
       "  0.014304791577160358,\n",
       "  0.013621841557323933,\n",
       "  0.013079600408673286,\n",
       "  0.012581104412674904,\n",
       "  0.011848069727420807,\n",
       "  0.011532650329172611,\n",
       "  0.010856506414711475,\n",
       "  0.010506238788366318,\n",
       "  0.010001267306506634,\n",
       "  0.009625183418393135,\n",
       "  0.009260868653655052,\n",
       "  0.008830932900309563,\n",
       "  0.0084767397493124,\n",
       "  0.008179747499525547],\n",
       " 'val_accuracy': [0.9081666469573975,\n",
       "  0.9325000047683716,\n",
       "  0.9398333430290222,\n",
       "  0.9468333125114441,\n",
       "  0.9549999833106995,\n",
       "  0.9571666717529297,\n",
       "  0.9556666612625122,\n",
       "  0.9643333554267883,\n",
       "  0.965499997138977,\n",
       "  0.9678333401679993,\n",
       "  0.9698333144187927,\n",
       "  0.9701666831970215,\n",
       "  0.971666693687439,\n",
       "  0.9703333377838135,\n",
       "  0.9729999899864197,\n",
       "  0.9725000262260437,\n",
       "  0.9743333458900452,\n",
       "  0.9761666655540466,\n",
       "  0.9748333096504211,\n",
       "  0.9756666421890259,\n",
       "  0.9741666913032532,\n",
       "  0.9754999876022339,\n",
       "  0.9763333201408386,\n",
       "  0.9761666655540466,\n",
       "  0.9756666421890259,\n",
       "  0.9763333201408386,\n",
       "  0.9763333201408386,\n",
       "  0.9778333306312561,\n",
       "  0.9764999747276306,\n",
       "  0.9775000214576721,\n",
       "  0.9769999980926514,\n",
       "  0.9773333072662354,\n",
       "  0.9788333177566528,\n",
       "  0.9778333306312561,\n",
       "  0.9786666631698608,\n",
       "  0.9764999747276306,\n",
       "  0.9785000085830688,\n",
       "  0.9789999723434448,\n",
       "  0.9769999980926514,\n",
       "  0.9788333177566528,\n",
       "  0.9779999852180481,\n",
       "  0.9793333411216736,\n",
       "  0.9775000214576721,\n",
       "  0.9786666631698608,\n",
       "  0.9778333306312561,\n",
       "  0.9794999957084656,\n",
       "  0.9791666865348816,\n",
       "  0.9769999980926514,\n",
       "  0.9791666865348816,\n",
       "  0.9786666631698608,\n",
       "  0.9783333539962769,\n",
       "  0.9781666398048401,\n",
       "  0.9786666631698608,\n",
       "  0.9796666502952576,\n",
       "  0.9778333306312561,\n",
       "  0.9791666865348816,\n",
       "  0.9785000085830688,\n",
       "  0.9786666631698608,\n",
       "  0.9793333411216736,\n",
       "  0.9783333539962769],\n",
       " 'val_loss': [0.3245736360549927,\n",
       "  0.2469303160905838,\n",
       "  0.21511775255203247,\n",
       "  0.185531347990036,\n",
       "  0.16588550806045532,\n",
       "  0.15350507199764252,\n",
       "  0.15122824907302856,\n",
       "  0.12911969423294067,\n",
       "  0.12210878729820251,\n",
       "  0.11509113758802414,\n",
       "  0.11100423336029053,\n",
       "  0.1079285591840744,\n",
       "  0.10279633849859238,\n",
       "  0.10053623467683792,\n",
       "  0.09642013907432556,\n",
       "  0.09420797973871231,\n",
       "  0.08832404762506485,\n",
       "  0.08595161139965057,\n",
       "  0.08692944049835205,\n",
       "  0.08350413292646408,\n",
       "  0.08231202512979507,\n",
       "  0.08156529814004898,\n",
       "  0.08226746320724487,\n",
       "  0.08172116428613663,\n",
       "  0.07995609194040298,\n",
       "  0.07750768214464188,\n",
       "  0.0764085128903389,\n",
       "  0.07462000846862793,\n",
       "  0.07684329897165298,\n",
       "  0.07438378036022186,\n",
       "  0.07366571575403214,\n",
       "  0.07281575351953506,\n",
       "  0.07222919911146164,\n",
       "  0.07424282282590866,\n",
       "  0.07229801267385483,\n",
       "  0.07357412576675415,\n",
       "  0.07391337305307388,\n",
       "  0.07161156833171844,\n",
       "  0.07297156751155853,\n",
       "  0.0722772628068924,\n",
       "  0.07209242135286331,\n",
       "  0.07133663445711136,\n",
       "  0.07361114025115967,\n",
       "  0.07343315333127975,\n",
       "  0.07256806641817093,\n",
       "  0.07156628370285034,\n",
       "  0.07145950198173523,\n",
       "  0.07399691641330719,\n",
       "  0.0725480169057846,\n",
       "  0.07114502042531967,\n",
       "  0.07367783784866333,\n",
       "  0.07225054502487183,\n",
       "  0.0737859308719635,\n",
       "  0.07233644276857376,\n",
       "  0.07403538376092911,\n",
       "  0.07262425124645233,\n",
       "  0.07242043316364288,\n",
       "  0.07372494786977768,\n",
       "  0.07334738969802856,\n",
       "  0.07349339127540588]}"
      ]
     },
     "execution_count": 22,
     "metadata": {},
     "output_type": "execute_result"
    }
   ],
   "source": [
    "model_history.history"
   ]
  },
  {
   "cell_type": "code",
   "execution_count": 23,
   "metadata": {
    "colab": {
     "base_uri": "https://localhost:8080/",
     "height": 341
    },
    "id": "VwHEdBJn9p93",
    "outputId": "ce8e1c92-1dc4-4845-ebf7-c9ad8f7b5510"
   },
   "outputs": [
    {
     "data": {
      "text/plain": [
       "<function matplotlib.pyplot.show>"
      ]
     },
     "execution_count": 23,
     "metadata": {},
     "output_type": "execute_result"
    },
    {
     "data": {
      "image/png": "[encoded data removed]",
      "text/plain": [
       "<Figure size 576x360 with 1 Axes>"
      ]
     },
     "metadata": {
      "needs_background": "light"
     },
     "output_type": "display_data"
    }
   ],
   "source": [
    "import pandas as pd\n",
    "pd.DataFrame(model_history.history).plot(figsize=(8,5))\n",
    "plt.grid(True)\n",
    "plt.gca().set_ylim(0,1)\n",
    "plt.show"
   ]
  },
  {
   "cell_type": "markdown",
   "metadata": {
    "id": "p2rfcsIi9z3l"
   },
   "source": [
    "### Evaluating Performance and prediction of the Model\n"
   ]
  },
  {
   "cell_type": "code",
   "execution_count": 24,
   "metadata": {
    "colab": {
     "base_uri": "https://localhost:8080/"
    },
    "id": "KoDppnBo90qh",
    "outputId": "6706b236-d5cf-4b93-dc98-44c0da83521b"
   },
   "outputs": [
    {
     "name": "stdout",
     "output_type": "stream",
     "text": [
      "313/313 [==============================] - 1s 3ms/step - loss: 16.3072 - accuracy: 0.9754\n"
     ]
    },
    {
     "data": {
      "text/plain": [
       "[16.307212829589844, 0.9753999710083008]"
      ]
     },
     "execution_count": 24,
     "metadata": {},
     "output_type": "execute_result"
    }
   ],
   "source": [
    "model.evaluate(X_test,Y_test)"
   ]
  },
  {
   "cell_type": "code",
   "execution_count": 25,
   "metadata": {
    "id": "fo1gxnlL93uA"
   },
   "outputs": [],
   "source": [
    "x_new=X_test[:5]  # Taking first five datasets for evaluation and prediction\n"
   ]
  },
  {
   "cell_type": "code",
   "execution_count": 26,
   "metadata": {
    "colab": {
     "base_uri": "https://localhost:8080/"
    },
    "id": "7zYDIapf-A11",
    "outputId": "a0dd6840-fd24-4531-b7b9-306c9f54bce7"
   },
   "outputs": [
    {
     "data": {
      "text/plain": [
       "array([[0., 0., 0., 0., 0., 0., 0., 1., 0., 0.],\n",
       "       [0., 0., 1., 0., 0., 0., 0., 0., 0., 0.],\n",
       "       [0., 1., 0., 0., 0., 0., 0., 0., 0., 0.],\n",
       "       [1., 0., 0., 0., 0., 0., 0., 0., 0., 0.],\n",
       "       [0., 0., 0., 0., 1., 0., 0., 0., 0., 0.]], dtype=float32)"
      ]
     },
     "execution_count": 26,
     "metadata": {},
     "output_type": "execute_result"
    }
   ],
   "source": [
    "# Calculating the probability of each class(10 classes)\n",
    "y_proba=model.predict(x_new)\n",
    "y_proba.round(2)"
   ]
  },
  {
   "cell_type": "code",
   "execution_count": 27,
   "metadata": {
    "colab": {
     "base_uri": "https://localhost:8080/"
    },
    "id": "HNBUwabN-G3T",
    "outputId": "c3b59b08-e50c-46d2-d807-b254be5e458a"
   },
   "outputs": [
    {
     "data": {
      "text/plain": [
       "array([7, 2, 1, 0, 4])"
      ]
     },
     "execution_count": 27,
     "metadata": {},
     "output_type": "execute_result"
    }
   ],
   "source": [
    "# Predicting which class does sample belongs to \n",
    "y_pred=np.argmax(y_proba,axis=1)\n",
    "y_pred"
   ]
  },
  {
   "cell_type": "code",
   "execution_count": 28,
   "metadata": {
    "colab": {
     "base_uri": "https://localhost:8080/",
     "height": 283
    },
    "id": "qxzLN3sq-K8F",
    "outputId": "289e0f3b-8f9c-46a6-d129-3ccc544d6027"
   },
   "outputs": [
    {
     "name": "stdout",
     "output_type": "stream",
     "text": [
      "AxesImage(54,36;334.8x217.44)\n"
     ]
    },
    {
     "data": {
      "image/png": "[encoded data removed]",
      "text/plain": [
       "<Figure size 432x288 with 1 Axes>"
      ]
     },
     "metadata": {
      "needs_background": "light"
     },
     "output_type": "display_data"
    }
   ],
   "source": [
    "# Checking whether the prediction is right or not\n",
    "print(plt.imshow(X_test[0]))"
   ]
  },
  {
   "cell_type": "code",
   "execution_count": 29,
   "metadata": {
    "colab": {
     "base_uri": "https://localhost:8080/",
     "height": 283
    },
    "id": "_Z6CR_W7-L-M",
    "outputId": "7adc05cd-3e2d-45b0-89ba-b6a9be1124f6"
   },
   "outputs": [
    {
     "name": "stdout",
     "output_type": "stream",
     "text": [
      "AxesImage(54,36;334.8x217.44)\n"
     ]
    },
    {
     "data": {
      "image/png": "[encoded data removed]",
      "text/plain": [
       "<Figure size 432x288 with 1 Axes>"
      ]
     },
     "metadata": {
      "needs_background": "light"
     },
     "output_type": "display_data"
    }
   ],
   "source": [
    "print(plt.imshow(X_test[1]))"
   ]
  },
  {
   "cell_type": "code",
   "execution_count": 30,
   "metadata": {
    "colab": {
     "base_uri": "https://localhost:8080/",
     "height": 283
    },
    "id": "JFop0nQa-N3y",
    "outputId": "c12b2558-35b2-47ed-9217-5a3ad0733574"
   },
   "outputs": [
    {
     "name": "stdout",
     "output_type": "stream",
     "text": [
      "AxesImage(54,36;334.8x217.44)\n"
     ]
    },
    {
     "data": {
      "image/png": "[encoded data removed]",
      "text/plain": [
       "<Figure size 432x288 with 1 Axes>"
      ]
     },
     "metadata": {
      "needs_background": "light"
     },
     "output_type": "display_data"
    }
   ],
   "source": [
    "print(plt.imshow(X_test[2]))"
   ]
  },
  {
   "cell_type": "code",
   "execution_count": 31,
   "metadata": {
    "colab": {
     "base_uri": "https://localhost:8080/",
     "height": 283
    },
    "id": "WUijzujL_CJ2",
    "outputId": "b8e9e06e-e71b-45cd-9f41-ff380304b65b"
   },
   "outputs": [
    {
     "name": "stdout",
     "output_type": "stream",
     "text": [
      "AxesImage(54,36;334.8x217.44)\n"
     ]
    },
    {
     "data": {
      "image/png": "[encoded data removed]",
      "text/plain": [
       "<Figure size 432x288 with 1 Axes>"
      ]
     },
     "metadata": {
      "needs_background": "light"
     },
     "output_type": "display_data"
    }
   ],
   "source": [
    "print(plt.imshow(X_test[3]))"
   ]
  },
  {
   "cell_type": "code",
   "execution_count": 32,
   "metadata": {
    "colab": {
     "base_uri": "https://localhost:8080/",
     "height": 283
    },
    "id": "cH5E1q30_EU1",
    "outputId": "7ec86975-d547-42b9-e1d3-64ef17cae3d3"
   },
   "outputs": [
    {
     "name": "stdout",
     "output_type": "stream",
     "text": [
      "AxesImage(54,36;334.8x217.44)\n"
     ]
    },
    {
     "data": {
      "image/png": "[encoded data removed]",
      "text/plain": [
       "<Figure size 432x288 with 1 Axes>"
      ]
     },
     "metadata": {
      "needs_background": "light"
     },
     "output_type": "display_data"
    }
   ],
   "source": [
    "print(plt.imshow(X_test[4]))"
   ]
  },
  {
   "cell_type": "code",
   "execution_count": null,
   "metadata": {
    "id": "z6j_5V-L_F4d"
   },
   "outputs": [],
   "source": []
  }
 ],
 "metadata": {
  "colab": {
   "name": "MNIST Digit classification.ipynb",
   "provenance": []
  },
  "kernelspec": {
   "display_name": "Python 3",
   "language": "python",
   "name": "python3"
  },
  "language_info": {
   "codemirror_mode": {
    "name": "ipython",
    "version": 3
   },
   "file_extension": ".py",
   "mimetype": "text/x-python",
   "name": "python",
   "nbconvert_exporter": "python",
   "pygments_lexer": "ipython3",
   "version": "3.7.10"
  }
 },
 "nbformat": 4,
 "nbformat_minor": 1
}
