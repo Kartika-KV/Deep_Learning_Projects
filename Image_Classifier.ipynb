{
  "nbformat": 4,
  "nbformat_minor": 5,
  "metadata": {
    "kernelspec": {
      "display_name": "Python 3",
      "language": "python",
      "name": "python3"
    },
    "language_info": {
      "codemirror_mode": {
        "name": "ipython",
        "version": 3
      },
      "file_extension": ".py",
      "mimetype": "text/x-python",
      "name": "python",
      "nbconvert_exporter": "python",
      "pygments_lexer": "ipython3",
      "version": "3.7.10"
    },
    "colab": {
      "name": "Image Classifier.ipynb",
      "provenance": []
    }
  },
  "cells": [
    {
      "cell_type": "markdown",
      "metadata": {
        "id": "07364aa8"
      },
      "source": [
        "## Image Classifier using Neural Networks (Keras and Tensorflow ) on fashion_mnist dataset"
      ],
      "id": "07364aa8"
    },
    {
      "cell_type": "code",
      "metadata": {
        "id": "065a5a9c"
      },
      "source": [
        "import numpy as np\n",
        "import pandas.compat\n",
        "import pandas as pd\n",
        "%matplotlib inline\n",
        "import matplotlib as mpl\n",
        "import matplotlib.pyplot as plt "
      ],
      "id": "065a5a9c",
      "execution_count": 2,
      "outputs": []
    },
    {
      "cell_type": "code",
      "metadata": {
        "id": "ad2ee67d"
      },
      "source": [
        "import tensorflow as tf\n",
        "from tensorflow import keras"
      ],
      "id": "ad2ee67d",
      "execution_count": 3,
      "outputs": []
    },
    {
      "cell_type": "code",
      "metadata": {
        "colab": {
          "base_uri": "https://localhost:8080/",
          "height": 35
        },
        "id": "635f92eb",
        "outputId": "9cd9dce5-9408-43b5-92eb-b6b781bad67c"
      },
      "source": [
        "keras.__version__"
      ],
      "id": "635f92eb",
      "execution_count": 4,
      "outputs": [
        {
          "output_type": "execute_result",
          "data": {
            "application/vnd.google.colaboratory.intrinsic+json": {
              "type": "string"
            },
            "text/plain": [
              "'2.6.0'"
            ]
          },
          "metadata": {},
          "execution_count": 4
        }
      ]
    },
    {
      "cell_type": "code",
      "metadata": {
        "colab": {
          "base_uri": "https://localhost:8080/",
          "height": 35
        },
        "id": "3b8dd760",
        "outputId": "4834a153-f4c3-49ef-c6ae-5fd3e7448a3b"
      },
      "source": [
        "tf.__version__"
      ],
      "id": "3b8dd760",
      "execution_count": 5,
      "outputs": [
        {
          "output_type": "execute_result",
          "data": {
            "application/vnd.google.colaboratory.intrinsic+json": {
              "type": "string"
            },
            "text/plain": [
              "'2.6.0'"
            ]
          },
          "metadata": {},
          "execution_count": 5
        }
      ]
    },
    {
      "cell_type": "code",
      "metadata": {
        "id": "942defcc"
      },
      "source": [
        "#Training data set consists of 60,000 images 28X28 pixels along with set of 10,000 images as test data\n",
        "from keras.datasets import fashion_mnist"
      ],
      "id": "942defcc",
      "execution_count": 6,
      "outputs": []
    },
    {
      "cell_type": "code",
      "metadata": {
        "colab": {
          "base_uri": "https://localhost:8080/"
        },
        "id": "55c77747",
        "outputId": "5b1de1bc-5b3f-49ad-9e25-98d5fcc65cb2"
      },
      "source": [
        "fashion_mnist=keras.datasets.fashion_mnist\n",
        "(X_train,Y_train),(X_test,Y_test)=fashion_mnist.load_data()"
      ],
      "id": "55c77747",
      "execution_count": 7,
      "outputs": [
        {
          "output_type": "stream",
          "name": "stdout",
          "text": [
            "Downloading data from https://storage.googleapis.com/tensorflow/tf-keras-datasets/train-labels-idx1-ubyte.gz\n",
            "32768/29515 [=================================] - 0s 0us/step\n",
            "40960/29515 [=========================================] - 0s 0us/step\n",
            "Downloading data from https://storage.googleapis.com/tensorflow/tf-keras-datasets/train-images-idx3-ubyte.gz\n",
            "26427392/26421880 [==============================] - 0s 0us/step\n",
            "26435584/26421880 [==============================] - 0s 0us/step\n",
            "Downloading data from https://storage.googleapis.com/tensorflow/tf-keras-datasets/t10k-labels-idx1-ubyte.gz\n",
            "16384/5148 [===============================================================================================] - 0s 0us/step\n",
            "Downloading data from https://storage.googleapis.com/tensorflow/tf-keras-datasets/t10k-images-idx3-ubyte.gz\n",
            "4423680/4422102 [==============================] - 0s 0us/step\n",
            "4431872/4422102 [==============================] - 0s 0us/step\n"
          ]
        }
      ]
    },
    {
      "cell_type": "code",
      "metadata": {
        "colab": {
          "base_uri": "https://localhost:8080/",
          "height": 283
        },
        "id": "61ff10c3",
        "outputId": "e60824c7-e5b0-475a-b435-b850fb0394c6"
      },
      "source": [
        "plt.imshow(X_train[1]) # 2nd Image"
      ],
      "id": "61ff10c3",
      "execution_count": 8,
      "outputs": [
        {
          "output_type": "execute_result",
          "data": {
            "text/plain": [
              "<matplotlib.image.AxesImage at 0x7f02a87ee6d0>"
            ]
          },
          "metadata": {},
          "execution_count": 8
        },
        {
          "output_type": "display_data",
          "data": {
            "image/png": "[encoded data removed]",
            "text/plain": [
              "<Figure size 432x288 with 1 Axes>"
            ]
          },
          "metadata": {
            "needs_background": "light"
          }
        }
      ]
    },
    {
      "cell_type": "code",
      "metadata": {
        "colab": {
          "base_uri": "https://localhost:8080/"
        },
        "id": "451c4023",
        "outputId": "6131ed9c-69b7-4b95-b545-b406ebd0d65b"
      },
      "source": [
        "Y_train[1] # Labels for the data present "
      ],
      "id": "451c4023",
      "execution_count": 9,
      "outputs": [
        {
          "output_type": "execute_result",
          "data": {
            "text/plain": [
              "0"
            ]
          },
          "metadata": {},
          "execution_count": 9
        }
      ]
    },
    {
      "cell_type": "markdown",
      "metadata": {
        "id": "eb1543f1"
      },
      "source": [
        "#### Labels and Categories of Fashion_Mnist Dataset\n",
        "   Y(Label)$~~~~~~~~~~$Categories\n",
        "\n",
        "*    0  $~~~~~~~~~~$T-shirt/Top\n",
        "*    1  $~~~~~~~~~~$Trouser\n",
        "*    2  $~~~~~~~~~~$Pullover\n",
        "*    3  $~~~~~~~~~~$Dress\n",
        "*    4  $~~~~~~~~~~$Coat\n",
        "*    5  $~~~~~~~~~~$Sandal\n",
        "*    6  $~~~~~~~~~~$Shirt\n",
        "*    7  $~~~~~~~~~~$Sneaker\n",
        "*    8  $~~~~~~~~~~$Bag\n",
        "*    9  $~~~~~~~~~~$AnkleBoot"
      ],
      "id": "eb1543f1"
    },
    {
      "cell_type": "code",
      "metadata": {
        "id": "68211324"
      },
      "source": [
        "Class_name=[\"T-shirt/Top\",\"Trouser\",\"Pullover\",\"Dress\",\"Coat\",\"Sandal\",\"Shirt\",\"Sneaker\",\"Bag\",\"Ankle Boot\"]"
      ],
      "id": "68211324",
      "execution_count": 10,
      "outputs": []
    },
    {
      "cell_type": "code",
      "metadata": {
        "colab": {
          "base_uri": "https://localhost:8080/",
          "height": 35
        },
        "id": "6771be83",
        "outputId": "d70e0059-b5ea-4635-d709-494a7fd63ab8"
      },
      "source": [
        "Class_name[Y_train[1]]"
      ],
      "id": "6771be83",
      "execution_count": 11,
      "outputs": [
        {
          "output_type": "execute_result",
          "data": {
            "application/vnd.google.colaboratory.intrinsic+json": {
              "type": "string"
            },
            "text/plain": [
              "'T-shirt/Top'"
            ]
          },
          "metadata": {},
          "execution_count": 11
        }
      ]
    },
    {
      "cell_type": "code",
      "metadata": {
        "colab": {
          "base_uri": "https://localhost:8080/"
        },
        "id": "898c2025",
        "outputId": "16e5550d-efc3-415c-d205-f48be8359882"
      },
      "source": [
        "X_train[1]"
      ],
      "id": "898c2025",
      "execution_count": 12,
      "outputs": [
        {
          "output_type": "execute_result",
          "data": {
            "text/plain": [
              "array([[  0,   0,   0,   0,   0,   1,   0,   0,   0,   0,  41, 188, 103,\n",
              "         54,  48,  43,  87, 168, 133,  16,   0,   0,   0,   0,   0,   0,\n",
              "          0,   0],\n",
              "       [  0,   0,   0,   1,   0,   0,   0,  49, 136, 219, 216, 228, 236,\n",
              "        255, 255, 255, 255, 217, 215, 254, 231, 160,  45,   0,   0,   0,\n",
              "          0,   0],\n",
              "       [  0,   0,   0,   0,   0,  14, 176, 222, 224, 212, 203, 198, 196,\n",
              "        200, 215, 204, 202, 201, 201, 201, 209, 218, 224, 164,   0,   0,\n",
              "          0,   0],\n",
              "       [  0,   0,   0,   0,   0, 188, 219, 200, 198, 202, 198, 199, 199,\n",
              "        201, 196, 198, 198, 200, 200, 200, 200, 201, 200, 225,  41,   0,\n",
              "          0,   0],\n",
              "       [  0,   0,   0,   0,  51, 219, 199, 203, 203, 212, 238, 248, 250,\n",
              "        245, 249, 246, 247, 252, 248, 235, 207, 203, 203, 222, 140,   0,\n",
              "          0,   0],\n",
              "       [  0,   0,   0,   0, 116, 226, 206, 204, 207, 204, 101,  75,  47,\n",
              "         73,  48,  50,  45,  51,  63, 113, 222, 202, 206, 220, 224,   0,\n",
              "          0,   0],\n",
              "       [  0,   0,   0,   0, 200, 222, 209, 203, 215, 200,   0,  70,  98,\n",
              "          0, 103,  59,  68,  71,  49,   0, 219, 206, 214, 210, 250,  38,\n",
              "          0,   0],\n",
              "       [  0,   0,   0,   0, 247, 218, 212, 210, 215, 214,   0, 254, 243,\n",
              "        139, 255, 174, 251, 255, 205,   0, 215, 217, 214, 208, 220,  95,\n",
              "          0,   0],\n",
              "       [  0,   0,   0,  45, 226, 214, 214, 215, 224, 205,   0,  42,  35,\n",
              "         60,  16,  17,  12,  13,  70,   0, 189, 216, 212, 206, 212, 156,\n",
              "          0,   0],\n",
              "       [  0,   0,   0, 164, 235, 214, 211, 220, 216, 201,  52,  71,  89,\n",
              "         94,  83,  78,  70,  76,  92,  87, 206, 207, 222, 213, 219, 208,\n",
              "          0,   0],\n",
              "       [  0,   0,   0, 106, 187, 223, 237, 248, 211, 198, 252, 250, 248,\n",
              "        245, 248, 252, 253, 250, 252, 239, 201, 212, 225, 215, 193, 113,\n",
              "          0,   0],\n",
              "       [  0,   0,   0,   0,   0,  17,  54, 159, 222, 193, 208, 192, 197,\n",
              "        200, 200, 200, 200, 201, 203, 195, 210, 165,   0,   0,   0,   0,\n",
              "          0,   0],\n",
              "       [  0,   0,   0,   0,   0,   0,   0,  47, 225, 192, 214, 203, 206,\n",
              "        204, 204, 205, 206, 204, 212, 197, 218, 107,   0,   0,   0,   0,\n",
              "          0,   0],\n",
              "       [  0,   0,   0,   0,   1,   6,   0,  46, 212, 195, 212, 202, 206,\n",
              "        205, 204, 205, 206, 204, 212, 200, 218,  91,   0,   3,   1,   0,\n",
              "          0,   0],\n",
              "       [  0,   0,   0,   0,   0,   1,   0,  11, 197, 199, 205, 202, 205,\n",
              "        206, 204, 205, 207, 204, 205, 205, 218,  77,   0,   5,   0,   0,\n",
              "          0,   0],\n",
              "       [  0,   0,   0,   0,   0,   3,   0,   2, 191, 198, 201, 205, 206,\n",
              "        205, 205, 206, 209, 206, 199, 209, 219,  74,   0,   5,   0,   0,\n",
              "          0,   0],\n",
              "       [  0,   0,   0,   0,   0,   2,   0,   0, 188, 197, 200, 207, 207,\n",
              "        204, 207, 207, 210, 208, 198, 207, 221,  72,   0,   4,   0,   0,\n",
              "          0,   0],\n",
              "       [  0,   0,   0,   0,   0,   2,   0,   0, 215, 198, 203, 206, 208,\n",
              "        205, 207, 207, 210, 208, 200, 202, 222,  75,   0,   4,   0,   0,\n",
              "          0,   0],\n",
              "       [  0,   0,   0,   0,   0,   1,   0,   0, 212, 198, 209, 206, 209,\n",
              "        206, 208, 207, 211, 206, 205, 198, 221,  80,   0,   3,   0,   0,\n",
              "          0,   0],\n",
              "       [  0,   0,   0,   0,   0,   1,   0,   0, 204, 201, 205, 208, 207,\n",
              "        205, 211, 205, 210, 210, 209, 195, 221,  96,   0,   3,   0,   0,\n",
              "          0,   0],\n",
              "       [  0,   0,   0,   0,   0,   1,   0,   0, 202, 201, 205, 209, 207,\n",
              "        205, 213, 206, 210, 209, 210, 194, 217, 105,   0,   2,   0,   0,\n",
              "          0,   0],\n",
              "       [  0,   0,   0,   0,   0,   1,   0,   0, 204, 204, 205, 208, 207,\n",
              "        205, 215, 207, 210, 208, 211, 193, 213, 115,   0,   2,   0,   0,\n",
              "          0,   0],\n",
              "       [  0,   0,   0,   0,   0,   0,   0,   0, 204, 207, 207, 208, 206,\n",
              "        206, 215, 210, 210, 207, 212, 195, 210, 118,   0,   2,   0,   0,\n",
              "          0,   0],\n",
              "       [  0,   0,   0,   0,   0,   1,   0,   0, 198, 208, 208, 208, 204,\n",
              "        207, 212, 212, 210, 207, 211, 196, 207, 121,   0,   1,   0,   0,\n",
              "          0,   0],\n",
              "       [  0,   0,   0,   0,   0,   1,   0,   0, 198, 210, 207, 208, 206,\n",
              "        209, 213, 212, 211, 207, 210, 197, 207, 124,   0,   1,   0,   0,\n",
              "          0,   0],\n",
              "       [  0,   0,   0,   0,   0,   0,   0,   0, 172, 210, 203, 201, 199,\n",
              "        204, 207, 205, 204, 201, 205, 197, 206, 127,   0,   0,   0,   0,\n",
              "          0,   0],\n",
              "       [  0,   0,   0,   0,   0,   0,   0,   0, 188, 221, 214, 234, 236,\n",
              "        238, 244, 244, 244, 240, 243, 214, 224, 162,   0,   2,   0,   0,\n",
              "          0,   0],\n",
              "       [  0,   0,   0,   0,   0,   1,   0,   0, 139, 146, 130, 135, 135,\n",
              "        137, 125, 124, 125, 121, 119, 114, 130,  76,   0,   0,   0,   0,\n",
              "          0,   0]], dtype=uint8)"
            ]
          },
          "metadata": {},
          "execution_count": 12
        }
      ]
    },
    {
      "cell_type": "markdown",
      "metadata": {
        "id": "b21d7861"
      },
      "source": [
        "## Data Normalisation\n",
        "We normalise the data so that data dimensions are approximately of same scale ie bw 0 and 1"
      ],
      "id": "b21d7861"
    },
    {
      "cell_type": "code",
      "metadata": {
        "id": "d3b34050"
      },
      "source": [
        "x_train_new=X_train/255.\n",
        "x_test_new=X_test/255."
      ],
      "id": "d3b34050",
      "execution_count": 13,
      "outputs": []
    },
    {
      "cell_type": "code",
      "metadata": {
        "colab": {
          "base_uri": "https://localhost:8080/"
        },
        "id": "e231c5ca",
        "outputId": "6cd9dd08-b9b9-44d0-d5e0-23da2d4a98ec"
      },
      "source": [
        "x_train_new[1]"
      ],
      "id": "e231c5ca",
      "execution_count": 14,
      "outputs": [
        {
          "output_type": "execute_result",
          "data": {
            "text/plain": [
              "array([[0.        , 0.        , 0.        , 0.        , 0.        ,\n",
              "        0.00392157, 0.        , 0.        , 0.        , 0.        ,\n",
              "        0.16078431, 0.7372549 , 0.40392157, 0.21176471, 0.18823529,\n",
              "        0.16862745, 0.34117647, 0.65882353, 0.52156863, 0.0627451 ,\n",
              "        0.        , 0.        , 0.        , 0.        , 0.        ,\n",
              "        0.        , 0.        , 0.        ],\n",
              "       [0.        , 0.        , 0.        , 0.00392157, 0.        ,\n",
              "        0.        , 0.        , 0.19215686, 0.53333333, 0.85882353,\n",
              "        0.84705882, 0.89411765, 0.9254902 , 1.        , 1.        ,\n",
              "        1.        , 1.        , 0.85098039, 0.84313725, 0.99607843,\n",
              "        0.90588235, 0.62745098, 0.17647059, 0.        , 0.        ,\n",
              "        0.        , 0.        , 0.        ],\n",
              "       [0.        , 0.        , 0.        , 0.        , 0.        ,\n",
              "        0.05490196, 0.69019608, 0.87058824, 0.87843137, 0.83137255,\n",
              "        0.79607843, 0.77647059, 0.76862745, 0.78431373, 0.84313725,\n",
              "        0.8       , 0.79215686, 0.78823529, 0.78823529, 0.78823529,\n",
              "        0.81960784, 0.85490196, 0.87843137, 0.64313725, 0.        ,\n",
              "        0.        , 0.        , 0.        ],\n",
              "       [0.        , 0.        , 0.        , 0.        , 0.        ,\n",
              "        0.7372549 , 0.85882353, 0.78431373, 0.77647059, 0.79215686,\n",
              "        0.77647059, 0.78039216, 0.78039216, 0.78823529, 0.76862745,\n",
              "        0.77647059, 0.77647059, 0.78431373, 0.78431373, 0.78431373,\n",
              "        0.78431373, 0.78823529, 0.78431373, 0.88235294, 0.16078431,\n",
              "        0.        , 0.        , 0.        ],\n",
              "       [0.        , 0.        , 0.        , 0.        , 0.2       ,\n",
              "        0.85882353, 0.78039216, 0.79607843, 0.79607843, 0.83137255,\n",
              "        0.93333333, 0.97254902, 0.98039216, 0.96078431, 0.97647059,\n",
              "        0.96470588, 0.96862745, 0.98823529, 0.97254902, 0.92156863,\n",
              "        0.81176471, 0.79607843, 0.79607843, 0.87058824, 0.54901961,\n",
              "        0.        , 0.        , 0.        ],\n",
              "       [0.        , 0.        , 0.        , 0.        , 0.45490196,\n",
              "        0.88627451, 0.80784314, 0.8       , 0.81176471, 0.8       ,\n",
              "        0.39607843, 0.29411765, 0.18431373, 0.28627451, 0.18823529,\n",
              "        0.19607843, 0.17647059, 0.2       , 0.24705882, 0.44313725,\n",
              "        0.87058824, 0.79215686, 0.80784314, 0.8627451 , 0.87843137,\n",
              "        0.        , 0.        , 0.        ],\n",
              "       [0.        , 0.        , 0.        , 0.        , 0.78431373,\n",
              "        0.87058824, 0.81960784, 0.79607843, 0.84313725, 0.78431373,\n",
              "        0.        , 0.2745098 , 0.38431373, 0.        , 0.40392157,\n",
              "        0.23137255, 0.26666667, 0.27843137, 0.19215686, 0.        ,\n",
              "        0.85882353, 0.80784314, 0.83921569, 0.82352941, 0.98039216,\n",
              "        0.14901961, 0.        , 0.        ],\n",
              "       [0.        , 0.        , 0.        , 0.        , 0.96862745,\n",
              "        0.85490196, 0.83137255, 0.82352941, 0.84313725, 0.83921569,\n",
              "        0.        , 0.99607843, 0.95294118, 0.54509804, 1.        ,\n",
              "        0.68235294, 0.98431373, 1.        , 0.80392157, 0.        ,\n",
              "        0.84313725, 0.85098039, 0.83921569, 0.81568627, 0.8627451 ,\n",
              "        0.37254902, 0.        , 0.        ],\n",
              "       [0.        , 0.        , 0.        , 0.17647059, 0.88627451,\n",
              "        0.83921569, 0.83921569, 0.84313725, 0.87843137, 0.80392157,\n",
              "        0.        , 0.16470588, 0.1372549 , 0.23529412, 0.0627451 ,\n",
              "        0.06666667, 0.04705882, 0.05098039, 0.2745098 , 0.        ,\n",
              "        0.74117647, 0.84705882, 0.83137255, 0.80784314, 0.83137255,\n",
              "        0.61176471, 0.        , 0.        ],\n",
              "       [0.        , 0.        , 0.        , 0.64313725, 0.92156863,\n",
              "        0.83921569, 0.82745098, 0.8627451 , 0.84705882, 0.78823529,\n",
              "        0.20392157, 0.27843137, 0.34901961, 0.36862745, 0.3254902 ,\n",
              "        0.30588235, 0.2745098 , 0.29803922, 0.36078431, 0.34117647,\n",
              "        0.80784314, 0.81176471, 0.87058824, 0.83529412, 0.85882353,\n",
              "        0.81568627, 0.        , 0.        ],\n",
              "       [0.        , 0.        , 0.        , 0.41568627, 0.73333333,\n",
              "        0.8745098 , 0.92941176, 0.97254902, 0.82745098, 0.77647059,\n",
              "        0.98823529, 0.98039216, 0.97254902, 0.96078431, 0.97254902,\n",
              "        0.98823529, 0.99215686, 0.98039216, 0.98823529, 0.9372549 ,\n",
              "        0.78823529, 0.83137255, 0.88235294, 0.84313725, 0.75686275,\n",
              "        0.44313725, 0.        , 0.        ],\n",
              "       [0.        , 0.        , 0.        , 0.        , 0.        ,\n",
              "        0.06666667, 0.21176471, 0.62352941, 0.87058824, 0.75686275,\n",
              "        0.81568627, 0.75294118, 0.77254902, 0.78431373, 0.78431373,\n",
              "        0.78431373, 0.78431373, 0.78823529, 0.79607843, 0.76470588,\n",
              "        0.82352941, 0.64705882, 0.        , 0.        , 0.        ,\n",
              "        0.        , 0.        , 0.        ],\n",
              "       [0.        , 0.        , 0.        , 0.        , 0.        ,\n",
              "        0.        , 0.        , 0.18431373, 0.88235294, 0.75294118,\n",
              "        0.83921569, 0.79607843, 0.80784314, 0.8       , 0.8       ,\n",
              "        0.80392157, 0.80784314, 0.8       , 0.83137255, 0.77254902,\n",
              "        0.85490196, 0.41960784, 0.        , 0.        , 0.        ,\n",
              "        0.        , 0.        , 0.        ],\n",
              "       [0.        , 0.        , 0.        , 0.        , 0.00392157,\n",
              "        0.02352941, 0.        , 0.18039216, 0.83137255, 0.76470588,\n",
              "        0.83137255, 0.79215686, 0.80784314, 0.80392157, 0.8       ,\n",
              "        0.80392157, 0.80784314, 0.8       , 0.83137255, 0.78431373,\n",
              "        0.85490196, 0.35686275, 0.        , 0.01176471, 0.00392157,\n",
              "        0.        , 0.        , 0.        ],\n",
              "       [0.        , 0.        , 0.        , 0.        , 0.        ,\n",
              "        0.00392157, 0.        , 0.04313725, 0.77254902, 0.78039216,\n",
              "        0.80392157, 0.79215686, 0.80392157, 0.80784314, 0.8       ,\n",
              "        0.80392157, 0.81176471, 0.8       , 0.80392157, 0.80392157,\n",
              "        0.85490196, 0.30196078, 0.        , 0.01960784, 0.        ,\n",
              "        0.        , 0.        , 0.        ],\n",
              "       [0.        , 0.        , 0.        , 0.        , 0.        ,\n",
              "        0.01176471, 0.        , 0.00784314, 0.74901961, 0.77647059,\n",
              "        0.78823529, 0.80392157, 0.80784314, 0.80392157, 0.80392157,\n",
              "        0.80784314, 0.81960784, 0.80784314, 0.78039216, 0.81960784,\n",
              "        0.85882353, 0.29019608, 0.        , 0.01960784, 0.        ,\n",
              "        0.        , 0.        , 0.        ],\n",
              "       [0.        , 0.        , 0.        , 0.        , 0.        ,\n",
              "        0.00784314, 0.        , 0.        , 0.7372549 , 0.77254902,\n",
              "        0.78431373, 0.81176471, 0.81176471, 0.8       , 0.81176471,\n",
              "        0.81176471, 0.82352941, 0.81568627, 0.77647059, 0.81176471,\n",
              "        0.86666667, 0.28235294, 0.        , 0.01568627, 0.        ,\n",
              "        0.        , 0.        , 0.        ],\n",
              "       [0.        , 0.        , 0.        , 0.        , 0.        ,\n",
              "        0.00784314, 0.        , 0.        , 0.84313725, 0.77647059,\n",
              "        0.79607843, 0.80784314, 0.81568627, 0.80392157, 0.81176471,\n",
              "        0.81176471, 0.82352941, 0.81568627, 0.78431373, 0.79215686,\n",
              "        0.87058824, 0.29411765, 0.        , 0.01568627, 0.        ,\n",
              "        0.        , 0.        , 0.        ],\n",
              "       [0.        , 0.        , 0.        , 0.        , 0.        ,\n",
              "        0.00392157, 0.        , 0.        , 0.83137255, 0.77647059,\n",
              "        0.81960784, 0.80784314, 0.81960784, 0.80784314, 0.81568627,\n",
              "        0.81176471, 0.82745098, 0.80784314, 0.80392157, 0.77647059,\n",
              "        0.86666667, 0.31372549, 0.        , 0.01176471, 0.        ,\n",
              "        0.        , 0.        , 0.        ],\n",
              "       [0.        , 0.        , 0.        , 0.        , 0.        ,\n",
              "        0.00392157, 0.        , 0.        , 0.8       , 0.78823529,\n",
              "        0.80392157, 0.81568627, 0.81176471, 0.80392157, 0.82745098,\n",
              "        0.80392157, 0.82352941, 0.82352941, 0.81960784, 0.76470588,\n",
              "        0.86666667, 0.37647059, 0.        , 0.01176471, 0.        ,\n",
              "        0.        , 0.        , 0.        ],\n",
              "       [0.        , 0.        , 0.        , 0.        , 0.        ,\n",
              "        0.00392157, 0.        , 0.        , 0.79215686, 0.78823529,\n",
              "        0.80392157, 0.81960784, 0.81176471, 0.80392157, 0.83529412,\n",
              "        0.80784314, 0.82352941, 0.81960784, 0.82352941, 0.76078431,\n",
              "        0.85098039, 0.41176471, 0.        , 0.00784314, 0.        ,\n",
              "        0.        , 0.        , 0.        ],\n",
              "       [0.        , 0.        , 0.        , 0.        , 0.        ,\n",
              "        0.00392157, 0.        , 0.        , 0.8       , 0.8       ,\n",
              "        0.80392157, 0.81568627, 0.81176471, 0.80392157, 0.84313725,\n",
              "        0.81176471, 0.82352941, 0.81568627, 0.82745098, 0.75686275,\n",
              "        0.83529412, 0.45098039, 0.        , 0.00784314, 0.        ,\n",
              "        0.        , 0.        , 0.        ],\n",
              "       [0.        , 0.        , 0.        , 0.        , 0.        ,\n",
              "        0.        , 0.        , 0.        , 0.8       , 0.81176471,\n",
              "        0.81176471, 0.81568627, 0.80784314, 0.80784314, 0.84313725,\n",
              "        0.82352941, 0.82352941, 0.81176471, 0.83137255, 0.76470588,\n",
              "        0.82352941, 0.4627451 , 0.        , 0.00784314, 0.        ,\n",
              "        0.        , 0.        , 0.        ],\n",
              "       [0.        , 0.        , 0.        , 0.        , 0.        ,\n",
              "        0.00392157, 0.        , 0.        , 0.77647059, 0.81568627,\n",
              "        0.81568627, 0.81568627, 0.8       , 0.81176471, 0.83137255,\n",
              "        0.83137255, 0.82352941, 0.81176471, 0.82745098, 0.76862745,\n",
              "        0.81176471, 0.4745098 , 0.        , 0.00392157, 0.        ,\n",
              "        0.        , 0.        , 0.        ],\n",
              "       [0.        , 0.        , 0.        , 0.        , 0.        ,\n",
              "        0.00392157, 0.        , 0.        , 0.77647059, 0.82352941,\n",
              "        0.81176471, 0.81568627, 0.80784314, 0.81960784, 0.83529412,\n",
              "        0.83137255, 0.82745098, 0.81176471, 0.82352941, 0.77254902,\n",
              "        0.81176471, 0.48627451, 0.        , 0.00392157, 0.        ,\n",
              "        0.        , 0.        , 0.        ],\n",
              "       [0.        , 0.        , 0.        , 0.        , 0.        ,\n",
              "        0.        , 0.        , 0.        , 0.6745098 , 0.82352941,\n",
              "        0.79607843, 0.78823529, 0.78039216, 0.8       , 0.81176471,\n",
              "        0.80392157, 0.8       , 0.78823529, 0.80392157, 0.77254902,\n",
              "        0.80784314, 0.49803922, 0.        , 0.        , 0.        ,\n",
              "        0.        , 0.        , 0.        ],\n",
              "       [0.        , 0.        , 0.        , 0.        , 0.        ,\n",
              "        0.        , 0.        , 0.        , 0.7372549 , 0.86666667,\n",
              "        0.83921569, 0.91764706, 0.9254902 , 0.93333333, 0.95686275,\n",
              "        0.95686275, 0.95686275, 0.94117647, 0.95294118, 0.83921569,\n",
              "        0.87843137, 0.63529412, 0.        , 0.00784314, 0.        ,\n",
              "        0.        , 0.        , 0.        ],\n",
              "       [0.        , 0.        , 0.        , 0.        , 0.        ,\n",
              "        0.00392157, 0.        , 0.        , 0.54509804, 0.57254902,\n",
              "        0.50980392, 0.52941176, 0.52941176, 0.5372549 , 0.49019608,\n",
              "        0.48627451, 0.49019608, 0.4745098 , 0.46666667, 0.44705882,\n",
              "        0.50980392, 0.29803922, 0.        , 0.        , 0.        ,\n",
              "        0.        , 0.        , 0.        ]])"
            ]
          },
          "metadata": {},
          "execution_count": 14
        }
      ]
    },
    {
      "cell_type": "markdown",
      "metadata": {
        "id": "009c4714"
      },
      "source": [
        "### Split the dataset into training/valiadation and testing data set \n",
        "* Training data set - used to train the model\n",
        "* Valiadation data set - used for tuning hyperparameters and evaluate the models \n",
        "* Testing data set - for testing the model after intial verifications by valiadation set "
      ],
      "id": "009c4714"
    },
    {
      "cell_type": "code",
      "metadata": {
        "id": "bc624479"
      },
      "source": [
        "# 5000 images for validation and other for training data set \n",
        "x_valid,x_train=x_train_new[:5000],x_train_new[5000:]\n",
        "y_valid,y_train=Y_train[:5000],Y_train[5000:]\n",
        "x_test=x_test_new"
      ],
      "id": "bc624479",
      "execution_count": 15,
      "outputs": []
    },
    {
      "cell_type": "code",
      "metadata": {
        "colab": {
          "base_uri": "https://localhost:8080/"
        },
        "id": "571f2612",
        "outputId": "eb44ccf8-6796-42d3-a9b3-af27cf16a865"
      },
      "source": [
        "len(x_train)"
      ],
      "id": "571f2612",
      "execution_count": 16,
      "outputs": [
        {
          "output_type": "execute_result",
          "data": {
            "text/plain": [
              "55000"
            ]
          },
          "metadata": {},
          "execution_count": 16
        }
      ]
    },
    {
      "cell_type": "markdown",
      "metadata": {
        "id": "2f6e8bc9"
      },
      "source": [
        "* x_train,y_train - for training the model\n",
        "* x_valid,y_valid - for tuning the hyperparameters \n",
        "* X_test,Y_test - for evaluating model performance"
      ],
      "id": "2f6e8bc9"
    },
    {
      "cell_type": "markdown",
      "metadata": {
        "id": "c89bb207"
      },
      "source": [
        "### Create Model architecture \n",
        "* Sequential -- Simple Neural Networks \n",
        "* Functional -- Complex Neural Networks"
      ],
      "id": "c89bb207"
    },
    {
      "cell_type": "code",
      "metadata": {
        "id": "4f5fb2a4"
      },
      "source": [
        "model=keras.models.Sequential()\n",
        "model.add(keras.layers.Flatten(input_shape=[28,28]))\n",
        "model.add(keras.layers.Dense(300,activation=\"relu\"))# Hidden Layer Trainable Paramaters=28*28*300+300\n",
        "model.add(keras.layers.Dense(100,activation=\"relu\"))# Hidden Layer  Trainable Paramaters=300*100+100\n",
        "model.add(keras.layers.Dense(10,activation=\"softmax\"))# Multi-class Classification Trainable Paramaters=100*10+10"
      ],
      "id": "4f5fb2a4",
      "execution_count": 17,
      "outputs": []
    },
    {
      "cell_type": "code",
      "metadata": {
        "colab": {
          "base_uri": "https://localhost:8080/"
        },
        "id": "56ce9142",
        "outputId": "e23e0762-2698-441a-f653-d2b9870d72b0"
      },
      "source": [
        "model.summary()"
      ],
      "id": "56ce9142",
      "execution_count": 18,
      "outputs": [
        {
          "output_type": "stream",
          "name": "stdout",
          "text": [
            "Model: \"sequential\"\n",
            "_________________________________________________________________\n",
            "Layer (type)                 Output Shape              Param #   \n",
            "=================================================================\n",
            "flatten (Flatten)            (None, 784)               0         \n",
            "_________________________________________________________________\n",
            "dense (Dense)                (None, 300)               235500    \n",
            "_________________________________________________________________\n",
            "dense_1 (Dense)              (None, 100)               30100     \n",
            "_________________________________________________________________\n",
            "dense_2 (Dense)              (None, 10)                1010      \n",
            "=================================================================\n",
            "Total params: 266,610\n",
            "Trainable params: 266,610\n",
            "Non-trainable params: 0\n",
            "_________________________________________________________________\n"
          ]
        }
      ]
    },
    {
      "cell_type": "code",
      "metadata": {
        "colab": {
          "base_uri": "https://localhost:8080/"
        },
        "id": "87437d2e",
        "outputId": "dd6e0cc2-b261-42ab-94b4-44f179dbe958"
      },
      "source": [
        "! pip install pydot\n",
        "import pydot"
      ],
      "id": "87437d2e",
      "execution_count": 19,
      "outputs": [
        {
          "output_type": "stream",
          "name": "stdout",
          "text": [
            "Requirement already satisfied: pydot in /usr/local/lib/python3.7/dist-packages (1.3.0)\n",
            "Requirement already satisfied: pyparsing>=2.1.4 in /usr/local/lib/python3.7/dist-packages (from pydot) (2.4.7)\n"
          ]
        }
      ]
    },
    {
      "cell_type": "code",
      "metadata": {
        "colab": {
          "base_uri": "https://localhost:8080/",
          "height": 466
        },
        "id": "d8f99c7d",
        "outputId": "684aa242-0ff1-4c35-cb5a-d368a2c4855a"
      },
      "source": [
        "keras.utils.plot_model(model) # Structure of the Model (Neural Network)"
      ],
      "id": "d8f99c7d",
      "execution_count": 20,
      "outputs": [
        {
          "output_type": "execute_result",
          "data": {
            "image/png": "[encoded data removed]",
            "text/plain": [
              "<IPython.core.display.Image object>"
            ]
          },
          "metadata": {},
          "execution_count": 20
        }
      ]
    },
    {
      "cell_type": "markdown",
      "metadata": {
        "id": "5ac66e2e"
      },
      "source": [
        "* We can access parameters using get_weights method"
      ],
      "id": "5ac66e2e"
    },
    {
      "cell_type": "code",
      "metadata": {
        "colab": {
          "base_uri": "https://localhost:8080/"
        },
        "id": "5fb8cb59",
        "outputId": "5e9d9f98-df0e-4afc-9628-8163a315c10b"
      },
      "source": [
        "weights,biases=model.layers[1].get_weights()\n",
        "weights"
      ],
      "id": "5fb8cb59",
      "execution_count": 21,
      "outputs": [
        {
          "output_type": "execute_result",
          "data": {
            "text/plain": [
              "array([[-0.01406704, -0.02154808, -0.02123448, ...,  0.07084502,\n",
              "         0.04424275, -0.03713759],\n",
              "       [-0.07362926, -0.05622609, -0.07146684, ...,  0.06312485,\n",
              "        -0.06988291,  0.06178287],\n",
              "       [-0.06744258,  0.03827664,  0.02418782, ...,  0.07316773,\n",
              "        -0.01914394,  0.02172401],\n",
              "       ...,\n",
              "       [ 0.01748142,  0.01242112, -0.00955036, ...,  0.04121427,\n",
              "        -0.05971663, -0.01546476],\n",
              "       [ 0.06112257,  0.02638187,  0.05291136, ...,  0.03561859,\n",
              "        -0.06567747, -0.06319621],\n",
              "       [-0.07303446, -0.05533104,  0.04603252, ..., -0.03015528,\n",
              "         0.02151089, -0.01678088]], dtype=float32)"
            ]
          },
          "metadata": {},
          "execution_count": 21
        }
      ]
    },
    {
      "cell_type": "code",
      "metadata": {
        "colab": {
          "base_uri": "https://localhost:8080/"
        },
        "id": "3daba2cd",
        "outputId": "fc3cfb56-e8cd-4f47-9c8c-ff5b3e5bb3b9"
      },
      "source": [
        "weights.shape"
      ],
      "id": "3daba2cd",
      "execution_count": 22,
      "outputs": [
        {
          "output_type": "execute_result",
          "data": {
            "text/plain": [
              "(784, 300)"
            ]
          },
          "metadata": {},
          "execution_count": 22
        }
      ]
    },
    {
      "cell_type": "code",
      "metadata": {
        "colab": {
          "base_uri": "https://localhost:8080/"
        },
        "id": "a62a6c86",
        "outputId": "6ccde4f7-90c4-451e-96ca-0a41ccbcd5a0"
      },
      "source": [
        "biases.shape"
      ],
      "id": "a62a6c86",
      "execution_count": 23,
      "outputs": [
        {
          "output_type": "execute_result",
          "data": {
            "text/plain": [
              "(300,)"
            ]
          },
          "metadata": {},
          "execution_count": 23
        }
      ]
    },
    {
      "cell_type": "markdown",
      "metadata": {
        "id": "c50ba488"
      },
      "source": [
        "### Compiling and training of Neural Network\n",
        "https://keras.io/api/models/"
      ],
      "id": "c50ba488"
    },
    {
      "cell_type": "code",
      "metadata": {
        "id": "f1883e22"
      },
      "source": [
        "model.compile(loss=\"sparse_categorical_crossentropy\",optimizer=\"sgd\",metrics=[\"accuracy\"])\n",
        "# loss func for multi-class classification--- sparse_categorical_crossentropy ie when we have labels in y variable\n",
        "# if we have probabilities in y variable--- categorical_crossentropy\n",
        "# For binary labels we use binary crossentropy"
      ],
      "id": "f1883e22",
      "execution_count": 24,
      "outputs": []
    },
    {
      "cell_type": "code",
      "metadata": {
        "colab": {
          "base_uri": "https://localhost:8080/"
        },
        "id": "d4a42854",
        "outputId": "2f2ab013-5789-49e9-d452-4f5bddbfdbbe"
      },
      "source": [
        "model_history=model.fit(x_train,y_train,epochs=30,validation_data=(x_valid,y_valid))"
      ],
      "id": "d4a42854",
      "execution_count": 25,
      "outputs": [
        {
          "output_type": "stream",
          "name": "stdout",
          "text": [
            "Epoch 1/30\n",
            "1719/1719 [==============================] - 7s 4ms/step - loss: 0.7076 - accuracy: 0.7697 - val_loss: 0.5027 - val_accuracy: 0.8290\n",
            "Epoch 2/30\n",
            "1719/1719 [==============================] - 6s 4ms/step - loss: 0.4837 - accuracy: 0.8328 - val_loss: 0.4446 - val_accuracy: 0.8506\n",
            "Epoch 3/30\n",
            "1719/1719 [==============================] - 6s 4ms/step - loss: 0.4394 - accuracy: 0.8468 - val_loss: 0.4288 - val_accuracy: 0.8490\n",
            "Epoch 4/30\n",
            "1719/1719 [==============================] - 6s 4ms/step - loss: 0.4125 - accuracy: 0.8556 - val_loss: 0.4026 - val_accuracy: 0.8666\n",
            "Epoch 5/30\n",
            "1719/1719 [==============================] - 6s 4ms/step - loss: 0.3937 - accuracy: 0.8611 - val_loss: 0.3778 - val_accuracy: 0.8710\n",
            "Epoch 6/30\n",
            "1719/1719 [==============================] - 6s 3ms/step - loss: 0.3772 - accuracy: 0.8668 - val_loss: 0.3796 - val_accuracy: 0.8688\n",
            "Epoch 7/30\n",
            "1719/1719 [==============================] - 6s 3ms/step - loss: 0.3643 - accuracy: 0.8711 - val_loss: 0.3711 - val_accuracy: 0.8696\n",
            "Epoch 8/30\n",
            "1719/1719 [==============================] - 6s 3ms/step - loss: 0.3519 - accuracy: 0.8750 - val_loss: 0.4113 - val_accuracy: 0.8504\n",
            "Epoch 9/30\n",
            "1719/1719 [==============================] - 6s 3ms/step - loss: 0.3412 - accuracy: 0.8788 - val_loss: 0.3514 - val_accuracy: 0.8778\n",
            "Epoch 10/30\n",
            "1719/1719 [==============================] - 6s 3ms/step - loss: 0.3321 - accuracy: 0.8820 - val_loss: 0.3404 - val_accuracy: 0.8778\n",
            "Epoch 11/30\n",
            "1719/1719 [==============================] - 6s 4ms/step - loss: 0.3238 - accuracy: 0.8845 - val_loss: 0.3800 - val_accuracy: 0.8640\n",
            "Epoch 12/30\n",
            "1719/1719 [==============================] - 6s 3ms/step - loss: 0.3166 - accuracy: 0.8865 - val_loss: 0.3443 - val_accuracy: 0.8806\n",
            "Epoch 13/30\n",
            "1719/1719 [==============================] - 6s 3ms/step - loss: 0.3083 - accuracy: 0.8897 - val_loss: 0.3268 - val_accuracy: 0.8844\n",
            "Epoch 14/30\n",
            "1719/1719 [==============================] - 6s 3ms/step - loss: 0.3017 - accuracy: 0.8909 - val_loss: 0.3273 - val_accuracy: 0.8814\n",
            "Epoch 15/30\n",
            "1719/1719 [==============================] - 6s 3ms/step - loss: 0.2954 - accuracy: 0.8941 - val_loss: 0.3337 - val_accuracy: 0.8812\n",
            "Epoch 16/30\n",
            "1719/1719 [==============================] - 6s 3ms/step - loss: 0.2897 - accuracy: 0.8963 - val_loss: 0.3295 - val_accuracy: 0.8810\n",
            "Epoch 17/30\n",
            "1719/1719 [==============================] - 6s 3ms/step - loss: 0.2838 - accuracy: 0.8981 - val_loss: 0.3181 - val_accuracy: 0.8872\n",
            "Epoch 18/30\n",
            "1719/1719 [==============================] - 6s 3ms/step - loss: 0.2784 - accuracy: 0.9000 - val_loss: 0.3182 - val_accuracy: 0.8862\n",
            "Epoch 19/30\n",
            "1719/1719 [==============================] - 6s 3ms/step - loss: 0.2729 - accuracy: 0.9011 - val_loss: 0.3106 - val_accuracy: 0.8856\n",
            "Epoch 20/30\n",
            "1719/1719 [==============================] - 6s 3ms/step - loss: 0.2694 - accuracy: 0.9031 - val_loss: 0.3237 - val_accuracy: 0.8862\n",
            "Epoch 21/30\n",
            "1719/1719 [==============================] - 6s 3ms/step - loss: 0.2632 - accuracy: 0.9057 - val_loss: 0.3138 - val_accuracy: 0.8864\n",
            "Epoch 22/30\n",
            "1719/1719 [==============================] - 6s 3ms/step - loss: 0.2585 - accuracy: 0.9063 - val_loss: 0.3341 - val_accuracy: 0.8774\n",
            "Epoch 23/30\n",
            "1719/1719 [==============================] - 6s 3ms/step - loss: 0.2540 - accuracy: 0.9086 - val_loss: 0.3046 - val_accuracy: 0.8902\n",
            "Epoch 24/30\n",
            "1719/1719 [==============================] - 6s 3ms/step - loss: 0.2495 - accuracy: 0.9097 - val_loss: 0.3016 - val_accuracy: 0.8890\n",
            "Epoch 25/30\n",
            "1719/1719 [==============================] - 6s 3ms/step - loss: 0.2447 - accuracy: 0.9122 - val_loss: 0.2936 - val_accuracy: 0.8942\n",
            "Epoch 26/30\n",
            "1719/1719 [==============================] - 6s 3ms/step - loss: 0.2407 - accuracy: 0.9129 - val_loss: 0.3182 - val_accuracy: 0.8870\n",
            "Epoch 27/30\n",
            "1719/1719 [==============================] - 6s 3ms/step - loss: 0.2369 - accuracy: 0.9142 - val_loss: 0.2904 - val_accuracy: 0.8966\n",
            "Epoch 28/30\n",
            "1719/1719 [==============================] - 6s 4ms/step - loss: 0.2330 - accuracy: 0.9161 - val_loss: 0.3006 - val_accuracy: 0.8936\n",
            "Epoch 29/30\n",
            "1719/1719 [==============================] - 6s 3ms/step - loss: 0.2290 - accuracy: 0.9175 - val_loss: 0.2970 - val_accuracy: 0.8910\n",
            "Epoch 30/30\n",
            "1719/1719 [==============================] - 6s 3ms/step - loss: 0.2258 - accuracy: 0.9187 - val_loss: 0.3160 - val_accuracy: 0.8866\n"
          ]
        }
      ]
    },
    {
      "cell_type": "code",
      "metadata": {
        "colab": {
          "base_uri": "https://localhost:8080/"
        },
        "id": "9b85f621",
        "outputId": "1746e2a0-9a4f-4969-da48-15d38033d9cc"
      },
      "source": [
        "model_history.params"
      ],
      "id": "9b85f621",
      "execution_count": 26,
      "outputs": [
        {
          "output_type": "execute_result",
          "data": {
            "text/plain": [
              "{'epochs': 30, 'steps': 1719, 'verbose': 1}"
            ]
          },
          "metadata": {},
          "execution_count": 26
        }
      ]
    },
    {
      "cell_type": "code",
      "metadata": {
        "colab": {
          "base_uri": "https://localhost:8080/"
        },
        "id": "bbec0a0c",
        "outputId": "dc2a501a-a431-464e-c48d-d1e938c1dcfe"
      },
      "source": [
        "model_history.history"
      ],
      "id": "bbec0a0c",
      "execution_count": 27,
      "outputs": [
        {
          "output_type": "execute_result",
          "data": {
            "text/plain": [
              "{'accuracy': [0.7696545720100403,\n",
              "  0.8327999711036682,\n",
              "  0.8468363881111145,\n",
              "  0.8555636405944824,\n",
              "  0.8610727190971375,\n",
              "  0.8667636513710022,\n",
              "  0.8711090683937073,\n",
              "  0.875036358833313,\n",
              "  0.8788363933563232,\n",
              "  0.8820000290870667,\n",
              "  0.8844727277755737,\n",
              "  0.8865272998809814,\n",
              "  0.8897454738616943,\n",
              "  0.8909090757369995,\n",
              "  0.8941272497177124,\n",
              "  0.8962545394897461,\n",
              "  0.8981454372406006,\n",
              "  0.8999999761581421,\n",
              "  0.9010727405548096,\n",
              "  0.9030545353889465,\n",
              "  0.9056727290153503,\n",
              "  0.9062545299530029,\n",
              "  0.9085817933082581,\n",
              "  0.909709095954895,\n",
              "  0.9121817946434021,\n",
              "  0.9129090905189514,\n",
              "  0.9141636490821838,\n",
              "  0.9160727262496948,\n",
              "  0.9175454378128052,\n",
              "  0.9187090992927551],\n",
              " 'loss': [0.7076296806335449,\n",
              "  0.4836792051792145,\n",
              "  0.4393666982650757,\n",
              "  0.4125175178050995,\n",
              "  0.39369624853134155,\n",
              "  0.37723878026008606,\n",
              "  0.3642767071723938,\n",
              "  0.3518805503845215,\n",
              "  0.3412018120288849,\n",
              "  0.33209383487701416,\n",
              "  0.3238168954849243,\n",
              "  0.31659725308418274,\n",
              "  0.3083488643169403,\n",
              "  0.30171269178390503,\n",
              "  0.2954441010951996,\n",
              "  0.2897152304649353,\n",
              "  0.28382205963134766,\n",
              "  0.2783966660499573,\n",
              "  0.27286505699157715,\n",
              "  0.26938921213150024,\n",
              "  0.2631716728210449,\n",
              "  0.2585148513317108,\n",
              "  0.2540050745010376,\n",
              "  0.24949775636196136,\n",
              "  0.24470935761928558,\n",
              "  0.24069225788116455,\n",
              "  0.23689009249210358,\n",
              "  0.23303136229515076,\n",
              "  0.2289586365222931,\n",
              "  0.22584675252437592],\n",
              " 'val_accuracy': [0.8289999961853027,\n",
              "  0.850600004196167,\n",
              "  0.8489999771118164,\n",
              "  0.866599977016449,\n",
              "  0.8709999918937683,\n",
              "  0.8687999844551086,\n",
              "  0.8695999979972839,\n",
              "  0.8503999710083008,\n",
              "  0.8777999877929688,\n",
              "  0.8777999877929688,\n",
              "  0.8640000224113464,\n",
              "  0.8805999755859375,\n",
              "  0.8844000101089478,\n",
              "  0.8813999891281128,\n",
              "  0.8812000155448914,\n",
              "  0.8809999823570251,\n",
              "  0.8871999979019165,\n",
              "  0.8862000107765198,\n",
              "  0.8855999708175659,\n",
              "  0.8862000107765198,\n",
              "  0.8863999843597412,\n",
              "  0.8773999810218811,\n",
              "  0.8902000188827515,\n",
              "  0.8889999985694885,\n",
              "  0.8942000269889832,\n",
              "  0.8870000243186951,\n",
              "  0.8966000080108643,\n",
              "  0.8935999870300293,\n",
              "  0.890999972820282,\n",
              "  0.8866000175476074],\n",
              " 'val_loss': [0.502743124961853,\n",
              "  0.4446333348751068,\n",
              "  0.4288250505924225,\n",
              "  0.4025852382183075,\n",
              "  0.37781888246536255,\n",
              "  0.3796418309211731,\n",
              "  0.37106502056121826,\n",
              "  0.4113400876522064,\n",
              "  0.351350873708725,\n",
              "  0.34036967158317566,\n",
              "  0.37995603680610657,\n",
              "  0.3443072736263275,\n",
              "  0.3268198072910309,\n",
              "  0.32729631662368774,\n",
              "  0.3336922228336334,\n",
              "  0.3295106291770935,\n",
              "  0.3180985450744629,\n",
              "  0.31823208928108215,\n",
              "  0.3106452226638794,\n",
              "  0.32365721464157104,\n",
              "  0.31376194953918457,\n",
              "  0.3340759575366974,\n",
              "  0.30460020899772644,\n",
              "  0.3015953600406647,\n",
              "  0.2935529351234436,\n",
              "  0.31817224621772766,\n",
              "  0.2903698682785034,\n",
              "  0.30059680342674255,\n",
              "  0.2970367670059204,\n",
              "  0.31596285104751587]}"
            ]
          },
          "metadata": {},
          "execution_count": 27
        }
      ]
    },
    {
      "cell_type": "code",
      "metadata": {
        "colab": {
          "base_uri": "https://localhost:8080/",
          "height": 341
        },
        "id": "2d628464",
        "outputId": "13b32d86-e6fd-4dee-a70d-b857a5cfe44a"
      },
      "source": [
        "import pandas as pd\n",
        "pd.DataFrame(model_history.history).plot(figsize=(8,5))\n",
        "plt.grid(True)\n",
        "plt.gca().set_ylim(0,1)\n",
        "plt.show"
      ],
      "id": "2d628464",
      "execution_count": 28,
      "outputs": [
        {
          "output_type": "execute_result",
          "data": {
            "text/plain": [
              "<function matplotlib.pyplot.show>"
            ]
          },
          "metadata": {},
          "execution_count": 28
        },
        {
          "output_type": "display_data",
          "data": {
            "image/png": "[encoded data removed]",
            "text/plain": [
              "<Figure size 576x360 with 1 Axes>"
            ]
          },
          "metadata": {
            "needs_background": "light"
          }
        }
      ]
    },
    {
      "cell_type": "markdown",
      "metadata": {
        "id": "ZN2z3UZ44ugx"
      },
      "source": [
        "#### Evaluating Performance and prediction of the Model\n"
      ],
      "id": "ZN2z3UZ44ugx"
    },
    {
      "cell_type": "code",
      "metadata": {
        "colab": {
          "base_uri": "https://localhost:8080/"
        },
        "id": "da4ff2d8",
        "outputId": "4ebc6c4a-deb3-4901-e122-ef86c7b6bc27"
      },
      "source": [
        "model.evaluate(X_test,Y_test)"
      ],
      "id": "da4ff2d8",
      "execution_count": 29,
      "outputs": [
        {
          "output_type": "stream",
          "name": "stdout",
          "text": [
            "313/313 [==============================] - 1s 3ms/step - loss: 56.6532 - accuracy: 0.8590\n"
          ]
        },
        {
          "output_type": "execute_result",
          "data": {
            "text/plain": [
              "[56.653236389160156, 0.859000027179718]"
            ]
          },
          "metadata": {},
          "execution_count": 29
        }
      ]
    },
    {
      "cell_type": "code",
      "metadata": {
        "id": "6cefa9af"
      },
      "source": [
        "x_new=X_test[:3]  # Taking first three datasets for evaluation and prediction\n"
      ],
      "id": "6cefa9af",
      "execution_count": 31,
      "outputs": []
    },
    {
      "cell_type": "code",
      "metadata": {
        "colab": {
          "base_uri": "https://localhost:8080/"
        },
        "id": "_pDFRR0C29Ny",
        "outputId": "da23ee09-1931-4704-aa3c-7be76db242ab"
      },
      "source": [
        "# Calculating the probability of each class(10 classes)\n",
        "y_proba=model.predict(x_new)\n",
        "y_proba.round(2)"
      ],
      "id": "_pDFRR0C29Ny",
      "execution_count": 32,
      "outputs": [
        {
          "output_type": "execute_result",
          "data": {
            "text/plain": [
              "array([[0., 0., 0., 0., 0., 0., 0., 0., 0., 1.],\n",
              "       [0., 0., 1., 0., 0., 0., 0., 0., 0., 0.],\n",
              "       [0., 1., 0., 0., 0., 0., 0., 0., 0., 0.]], dtype=float32)"
            ]
          },
          "metadata": {},
          "execution_count": 32
        }
      ]
    },
    {
      "cell_type": "code",
      "metadata": {
        "colab": {
          "base_uri": "https://localhost:8080/"
        },
        "id": "CdUG4Lvp3LW-",
        "outputId": "f5efe430-a516-4889-e8c5-9ce96921407b"
      },
      "source": [
        "# Predicting which class does sample belongs to \n",
        "y_pred=np.argmax(y_proba,axis=1)\n",
        "y_pred"
      ],
      "id": "CdUG4Lvp3LW-",
      "execution_count": 41,
      "outputs": [
        {
          "output_type": "execute_result",
          "data": {
            "text/plain": [
              "array([9, 2, 1])"
            ]
          },
          "metadata": {},
          "execution_count": 41
        }
      ]
    },
    {
      "cell_type": "code",
      "metadata": {
        "colab": {
          "base_uri": "https://localhost:8080/"
        },
        "id": "sNafX9pV3mC6",
        "outputId": "9c374eba-8631-4cf5-f08d-13d98358ef36"
      },
      "source": [
        "# Class names with already defined list \"Class_name\" for accessing names using indexes\n",
        "np.array(Class_name)[y_pred]"
      ],
      "id": "sNafX9pV3mC6",
      "execution_count": 43,
      "outputs": [
        {
          "output_type": "execute_result",
          "data": {
            "text/plain": [
              "array(['Ankle Boot', 'Pullover', 'Trouser'], dtype='<U11')"
            ]
          },
          "metadata": {},
          "execution_count": 43
        }
      ]
    },
    {
      "cell_type": "code",
      "metadata": {
        "colab": {
          "base_uri": "https://localhost:8080/",
          "height": 283
        },
        "id": "Ij5B2Hrb5Cm9",
        "outputId": "fb680e1e-bdb5-4e5a-b91d-1ac6c91edaa7"
      },
      "source": [
        "# Checking whether results are accurate or not\n",
        "print(plt.imshow(X_test[0]))"
      ],
      "id": "Ij5B2Hrb5Cm9",
      "execution_count": 44,
      "outputs": [
        {
          "output_type": "stream",
          "name": "stdout",
          "text": [
            "AxesImage(54,36;334.8x217.44)\n"
          ]
        },
        {
          "output_type": "display_data",
          "data": {
            "image/png": "[encoded data removed]",
            "text/plain": [
              "<Figure size 432x288 with 1 Axes>"
            ]
          },
          "metadata": {
            "needs_background": "light"
          }
        }
      ]
    },
    {
      "cell_type": "code",
      "metadata": {
        "colab": {
          "base_uri": "https://localhost:8080/",
          "height": 283
        },
        "id": "jarE7GlR5xuC",
        "outputId": "26964f52-bca8-4393-ae5b-04d1b3f796c2"
      },
      "source": [
        "print(plt.imshow(X_test[1]))"
      ],
      "id": "jarE7GlR5xuC",
      "execution_count": 45,
      "outputs": [
        {
          "output_type": "stream",
          "name": "stdout",
          "text": [
            "AxesImage(54,36;334.8x217.44)\n"
          ]
        },
        {
          "output_type": "display_data",
          "data": {
            "image/png": "[encoded data removed]",
            "text/plain": [
              "<Figure size 432x288 with 1 Axes>"
            ]
          },
          "metadata": {
            "needs_background": "light"
          }
        }
      ]
    },
    {
      "cell_type": "code",
      "metadata": {
        "colab": {
          "base_uri": "https://localhost:8080/",
          "height": 283
        },
        "id": "hpCmlimq56vL",
        "outputId": "31765675-d327-44cb-88ab-6a9515ef9d69"
      },
      "source": [
        "print(plt.imshow(X_test[2]))"
      ],
      "id": "hpCmlimq56vL",
      "execution_count": 46,
      "outputs": [
        {
          "output_type": "stream",
          "name": "stdout",
          "text": [
            "AxesImage(54,36;334.8x217.44)\n"
          ]
        },
        {
          "output_type": "display_data",
          "data": {
            "image/png": "[encoded data removed]",
            "text/plain": [
              "<Figure size 432x288 with 1 Axes>"
            ]
          },
          "metadata": {
            "needs_background": "light"
          }
        }
      ]
    },
    {
      "cell_type": "code",
      "metadata": {
        "id": "GG8Xl4l058Z-"
      },
      "source": [
        ""
      ],
      "id": "GG8Xl4l058Z-",
      "execution_count": null,
      "outputs": []
    }
  ]
}